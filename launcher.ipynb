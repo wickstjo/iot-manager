{
 "cells": [
  {
   "cell_type": "markdown",
   "metadata": {},
   "source": [
    "### IMPORTS"
   ]
  },
  {
   "cell_type": "code",
   "execution_count": 1,
   "metadata": {},
   "outputs": [],
   "source": [
    "import json\n",
    "import subprocess\n",
    "import sys\n",
    "import time\n",
    "import hashlib\n",
    "import base64"
   ]
  },
  {
   "cell_type": "code",
   "execution_count": 2,
   "metadata": {},
   "outputs": [
    {
     "ename": "ModuleNotFoundError",
     "evalue": "No module named 'cytoolz'",
     "output_type": "error",
     "traceback": [
      "\u001b[1;31m---------------------------------------------------------------------------\u001b[0m",
      "\u001b[1;31mModuleNotFoundError\u001b[0m                       Traceback (most recent call last)",
      "\u001b[1;32m<ipython-input-2-bd73e069b4e9>\u001b[0m in \u001b[0;36m<module>\u001b[1;34m\u001b[0m\n\u001b[1;32m----> 1\u001b[1;33m \u001b[1;32mfrom\u001b[0m \u001b[0mweb3\u001b[0m \u001b[1;32mimport\u001b[0m \u001b[0mWeb3\u001b[0m\u001b[1;33m\u001b[0m\u001b[1;33m\u001b[0m\u001b[0m\n\u001b[0m",
      "\u001b[1;32m~\\Anaconda3\\lib\\site-packages\\web3\\__init__.py\u001b[0m in \u001b[0;36m<module>\u001b[1;34m\u001b[0m\n\u001b[0;32m      4\u001b[0m \u001b[1;32mimport\u001b[0m \u001b[0mpkg_resources\u001b[0m\u001b[1;33m\u001b[0m\u001b[1;33m\u001b[0m\u001b[0m\n\u001b[0;32m      5\u001b[0m \u001b[1;33m\u001b[0m\u001b[0m\n\u001b[1;32m----> 6\u001b[1;33m from eth_account import (\n\u001b[0m\u001b[0;32m      7\u001b[0m     \u001b[0mAccount\u001b[0m  \u001b[1;31m# noqa: E402,\u001b[0m\u001b[1;33m\u001b[0m\u001b[1;33m\u001b[0m\u001b[0m\n\u001b[0;32m      8\u001b[0m )\n",
      "\u001b[1;32m~\\Anaconda3\\lib\\site-packages\\eth_account\\__init__.py\u001b[0m in \u001b[0;36m<module>\u001b[1;34m\u001b[0m\n\u001b[1;32m----> 1\u001b[1;33m from eth_account.account import (  # noqa: F401\n\u001b[0m\u001b[0;32m      2\u001b[0m     \u001b[0mAccount\u001b[0m\u001b[1;33m,\u001b[0m\u001b[1;33m\u001b[0m\u001b[1;33m\u001b[0m\u001b[0m\n\u001b[0;32m      3\u001b[0m )\n",
      "\u001b[1;32m~\\Anaconda3\\lib\\site-packages\\eth_account\\account.py\u001b[0m in \u001b[0;36m<module>\u001b[1;34m\u001b[0m\n\u001b[0;32m      6\u001b[0m \u001b[1;32mimport\u001b[0m \u001b[0mwarnings\u001b[0m\u001b[1;33m\u001b[0m\u001b[1;33m\u001b[0m\u001b[0m\n\u001b[0;32m      7\u001b[0m \u001b[1;33m\u001b[0m\u001b[0m\n\u001b[1;32m----> 8\u001b[1;33m from cytoolz import (\n\u001b[0m\u001b[0;32m      9\u001b[0m     \u001b[0mdissoc\u001b[0m\u001b[1;33m,\u001b[0m\u001b[1;33m\u001b[0m\u001b[1;33m\u001b[0m\u001b[0m\n\u001b[0;32m     10\u001b[0m )\n",
      "\u001b[1;31mModuleNotFoundError\u001b[0m: No module named 'cytoolz'"
     ]
    }
   ],
   "source": [
    "from web3 import Web3"
   ]
  },
  {
   "cell_type": "code",
   "execution_count": 3,
   "metadata": {},
   "outputs": [],
   "source": [
    "import ipynb.fs.full.oracle as oracle"
   ]
  },
  {
   "cell_type": "markdown",
   "metadata": {},
   "source": [
    "### FIX FOR WINDOWS ENVIRONMENT"
   ]
  },
  {
   "cell_type": "code",
   "execution_count": null,
   "metadata": {},
   "outputs": [],
   "source": [
    "#import pkg_resources.py2_warn"
   ]
  },
  {
   "cell_type": "markdown",
   "metadata": {},
   "source": [
    "### LOGGING BASELINE"
   ]
  },
  {
   "cell_type": "code",
   "execution_count": null,
   "metadata": {},
   "outputs": [],
   "source": [
    "def log(msg):\n",
    "    print('[LAUNCHER] ' + msg)"
   ]
  },
  {
   "cell_type": "markdown",
   "metadata": {},
   "source": [
    "### LOAD DATA FROM EXTERNAL FILES"
   ]
  },
  {
   "cell_type": "code",
   "execution_count": null,
   "metadata": {},
   "outputs": [],
   "source": [
    "with open('config/settings.json') as json_file:\n",
    "    settings = json.load(json_file)"
   ]
  },
  {
   "cell_type": "code",
   "execution_count": null,
   "metadata": {},
   "outputs": [],
   "source": [
    "with open('config/identifier.json') as json_file:\n",
    "    device_info = json.load(json_file)"
   ]
  },
  {
   "cell_type": "code",
   "execution_count": null,
   "metadata": {},
   "outputs": [],
   "source": [
    "with open('config/latest.json') as json_file:\n",
    "    latest = json.load(json_file)"
   ]
  },
  {
   "cell_type": "code",
   "execution_count": null,
   "metadata": {},
   "outputs": [],
   "source": [
    "log('READ DATA FROM EXTERNAL FILES')"
   ]
  },
  {
   "cell_type": "markdown",
   "metadata": {},
   "source": [
    "### CONNECT TO BLOCKCHAIN VIA WEBSOCKET"
   ]
  },
  {
   "cell_type": "code",
   "execution_count": null,
   "metadata": {},
   "outputs": [],
   "source": [
    "web3 = Web3(Web3.WebsocketProvider('ws://' + settings['gateway']['host'] + ':' + settings['gateway']['port']))"
   ]
  },
  {
   "cell_type": "code",
   "execution_count": null,
   "metadata": {},
   "outputs": [],
   "source": [
    "if web3.isConnected():\n",
    "    log('GATEWAY CONNECTION ESTABLISHED')\n",
    "else:\n",
    "    print('COULD NOT CONNECT WITH GATEWAY. ABORTING...')\n",
    "    exit"
   ]
  },
  {
   "cell_type": "markdown",
   "metadata": {},
   "source": [
    "### EXTRACT THE WHISPER API"
   ]
  },
  {
   "cell_type": "code",
   "execution_count": null,
   "metadata": {},
   "outputs": [],
   "source": [
    "shh = web3.geth.shh"
   ]
  },
  {
   "cell_type": "markdown",
   "metadata": {},
   "source": [
    "### GENERATE A FRESH WHISPER ID"
   ]
  },
  {
   "cell_type": "code",
   "execution_count": null,
   "metadata": {},
   "outputs": [],
   "source": [
    "whisper_id = shh.newKeyPair()"
   ]
  },
  {
   "cell_type": "code",
   "execution_count": null,
   "metadata": {},
   "outputs": [],
   "source": [
    "log('WHISPER ID GENERATED')"
   ]
  },
  {
   "cell_type": "markdown",
   "metadata": {},
   "source": [
    "### HASH DEVICE IDENTIFIER"
   ]
  },
  {
   "cell_type": "code",
   "execution_count": null,
   "metadata": {},
   "outputs": [],
   "source": [
    "def hash_id(data):\n",
    "    \n",
    "    # REMOVE WHITESPACES\n",
    "    to_string = json.dumps(data, sort_keys=False, indent=2)\n",
    "    \n",
    "    # ENCODE THE STRING WITH UTF8\n",
    "    encoded = to_string.encode('utf-8')\n",
    "    \n",
    "    # HASH ENCODED DATA\n",
    "    hashed = hashlib.sha256(encoded).hexdigest()\n",
    "    \n",
    "    return hashed"
   ]
  },
  {
   "cell_type": "markdown",
   "metadata": {},
   "source": [
    "### CREATE USABLE DEVICE OUTLINE"
   ]
  },
  {
   "cell_type": "code",
   "execution_count": null,
   "metadata": {},
   "outputs": [],
   "source": [
    "class create_device():\n",
    "    def __init__(self, data):\n",
    "        self.hash = hash_id(data)\n",
    "    \n",
    "    # LOCATE & SET DEVICE CONTRACT ADDRESS\n",
    "    def set_contract(self, contract):\n",
    "        self.contract = contract\n",
    "    \n",
    "    # REDIRECT TO PARENT\n",
    "    def read(self, details):\n",
    "        return self.contract.read(details)\n",
    "    \n",
    "    # REDIRECT TO PARENT\n",
    "    def write(self, details):\n",
    "        return self.contract.write(details)\n",
    "    \n",
    "    # REDIRECT TO PARENT\n",
    "    def event(self, name):\n",
    "        return self.contract.event(name)"
   ]
  },
  {
   "cell_type": "code",
   "execution_count": null,
   "metadata": {
    "scrolled": true
   },
   "outputs": [],
   "source": [
    "device = create_device(device_info)"
   ]
  },
  {
   "cell_type": "code",
   "execution_count": null,
   "metadata": {},
   "outputs": [],
   "source": [
    "log('DEVICE ID HASHED')"
   ]
  },
  {
   "cell_type": "markdown",
   "metadata": {},
   "source": [
    "### UNIFORM SMART CONTRACT OUTLINE"
   ]
  },
  {
   "cell_type": "code",
   "execution_count": null,
   "metadata": {},
   "outputs": [],
   "source": [
    "class contract:\n",
    "    \n",
    "    # ON LOAD..\n",
    "    def __init__(self, block):\n",
    "        \n",
    "        # CONSTRUCT USABLE CONTRACT\n",
    "        self.contract = web3.eth.contract(\n",
    "            address = block['address'],\n",
    "            abi = block['abi']\n",
    "        )\n",
    "        \n",
    "        # SET ADDRESS REFERENCE\n",
    "        self.address = block['address']\n",
    "    \n",
    "    # READ FROM CONTRACT\n",
    "    def read(self, details):\n",
    "        \n",
    "        # WITH PARAMS\n",
    "        if ('params' in details):\n",
    "            return self.contract.functions[details['func']](details['params']).call()\n",
    "        \n",
    "        # WITHOUT PARAMS\n",
    "        else:\n",
    "            return self.contract.functions[details]().call()\n",
    "    \n",
    "    # WRITE TO CONTRACT\n",
    "    def write(self, details):\n",
    "        try:\n",
    "            \n",
    "            # CREATE BASE TRANSACTION\n",
    "            tx = {\n",
    "                'from': settings['keys']['public'],\n",
    "                'to': self.contract.address,\n",
    "                'data': self.contract.encodeABI(\n",
    "                    fn_name = details['func'],\n",
    "                    args = details['params']\n",
    "                )\n",
    "            }\n",
    "            \n",
    "            # ESTIMATE GAS VALUE & STITCH IN REMAINING PROPS\n",
    "            tx['gas'] = web3.eth.estimateGas(tx)\n",
    "            tx['gasPrice'] = web3.toWei(20, 'gwei')\n",
    "            tx['nonce'] = web3.eth.getTransactionCount(settings['keys']['public'])\n",
    "\n",
    "            # SIGN TRANSCTION WITH PRIVATE KEY\n",
    "            signed = web3.eth.account.sign_transaction(tx,\n",
    "                private_key = settings['keys']['private']\n",
    "            )\n",
    "\n",
    "            # SEND THE TRANSACTION\n",
    "            tx_hash = web3.eth.sendRawTransaction(signed.rawTransaction)\n",
    "\n",
    "            # WAIT FOR IT TO BE MINED\n",
    "            return web3.eth.waitForTransactionReceipt(tx_hash, 500)\n",
    "        \n",
    "        # IF THE TRANSACTION IS REVERTED, SHOW ERROR\n",
    "        except ValueError as error:\n",
    "            return error\n",
    "    \n",
    "    # EVENT FILTER\n",
    "    def event(self, name):\n",
    "        return self.contract.events[name].createFilter(fromBlock=\"latest\")"
   ]
  },
  {
   "cell_type": "markdown",
   "metadata": {},
   "source": [
    "### SERIALIZE NECESSARY MANAGER CONTRACTS"
   ]
  },
  {
   "cell_type": "code",
   "execution_count": null,
   "metadata": {},
   "outputs": [],
   "source": [
    "device_manager = contract(latest['devicemanager'])"
   ]
  },
  {
   "cell_type": "code",
   "execution_count": null,
   "metadata": {},
   "outputs": [],
   "source": [
    "task_manager = contract(latest['taskmanager'])"
   ]
  },
  {
   "cell_type": "code",
   "execution_count": null,
   "metadata": {
    "scrolled": true
   },
   "outputs": [],
   "source": [
    "log('MANAGER CONTRACTS SERIALIZED')"
   ]
  },
  {
   "cell_type": "markdown",
   "metadata": {},
   "source": [
    "### SERIALIZE DEVICE CONTRACT"
   ]
  },
  {
   "cell_type": "code",
   "execution_count": null,
   "metadata": {},
   "outputs": [],
   "source": [
    "temp_contract = contract({\n",
    "    'address': device_manager.read({\n",
    "        'func': 'fetch_device',\n",
    "        'params': device.hash\n",
    "    }),\n",
    "    'abi': latest['device']['abi']\n",
    "})"
   ]
  },
  {
   "cell_type": "code",
   "execution_count": null,
   "metadata": {},
   "outputs": [],
   "source": [
    "device.set_contract(temp_contract)"
   ]
  },
  {
   "cell_type": "markdown",
   "metadata": {},
   "source": [
    "### MAKE SURE THE DEVICE IS REGISTERED"
   ]
  },
  {
   "cell_type": "code",
   "execution_count": null,
   "metadata": {},
   "outputs": [],
   "source": [
    "if (temp_contract.address != '0x0000000000000000000000000000000000000000'):\n",
    "    log('DEVICE CONTRACT SERIALIZED')\n",
    "else:\n",
    "    log('THE DEVICE ISNT REGISTERED. ABORTING...')"
   ]
  },
  {
   "cell_type": "markdown",
   "metadata": {},
   "source": [
    "### EVENT HELPER FUNCS"
   ]
  },
  {
   "cell_type": "code",
   "execution_count": null,
   "metadata": {},
   "outputs": [],
   "source": [
    "def filter_backlog(data):\n",
    "    \n",
    "    # FILTER ZEROS\n",
    "    filtered = filter(lambda x: x != '0x0000000000000000000000000000000000000000', data)\n",
    "    \n",
    "    # CONVERT TO LIST & RETURN\n",
    "    return list(filtered)"
   ]
  },
  {
   "cell_type": "code",
   "execution_count": null,
   "metadata": {},
   "outputs": [],
   "source": [
    "def encode(data):\n",
    "    \n",
    "    # STRINGIFY & CONVERT TO BYTES\n",
    "    stringified = json.dumps(data)\n",
    "    to_bytes = str.encode(stringified)\n",
    "    \n",
    "    # ENCODE\n",
    "    encoded = base64.b64encode(to_bytes)\n",
    "    \n",
    "    # RETURN AS STRING\n",
    "    return encoded.decode()"
   ]
  },
  {
   "cell_type": "code",
   "execution_count": null,
   "metadata": {},
   "outputs": [],
   "source": [
    "def decode(compressed):\n",
    "    \n",
    "    # ATTEMPT TO DECODE & PARSE AS JSON\n",
    "    try:\n",
    "        to_bytes = base64.b64decode(compressed)\n",
    "        return json.loads(to_bytes)\n",
    "    \n",
    "    # OTHERWISE, RETURN EMPTY OBJECT\n",
    "    except:\n",
    "        return {}"
   ]
  },
  {
   "cell_type": "code",
   "execution_count": null,
   "metadata": {},
   "outputs": [],
   "source": [
    "def compare_services(data, base):\n",
    "    \n",
    "    # RESULT CONTAINER\n",
    "    result = []\n",
    "    \n",
    "    # CONVERT BASE TO SET FOR QUICKER LOOKUPS\n",
    "    base = set(base)\n",
    "    \n",
    "    # LOOP THROUGH & APPEND CHECK RESULT\n",
    "    for key in data:\n",
    "        result.append(key in base)\n",
    "    \n",
    "    # FINALLY RETURN\n",
    "    return result"
   ]
  },
  {
   "cell_type": "code",
   "execution_count": null,
   "metadata": {},
   "outputs": [],
   "source": [
    "def compare_discovery(data, base):\n",
    "    \n",
    "    # RESULT CONTAINER\n",
    "    result = []\n",
    "    \n",
    "    # LOOP THROUGH DATA KEYS\n",
    "    for key in data:\n",
    "        \n",
    "        # IF THE KEY EXISTS IN THE BASE DICT\n",
    "        if key in base:\n",
    "            \n",
    "            # IF THE VALUE IS SAME IN BOTH DATASET\n",
    "            if data[key] == base[key]:\n",
    "                result.append(True)\n",
    "                \n",
    "            # OTHERWISE, DEFAULT TO FALSE\n",
    "            else:\n",
    "                result.append(False)\n",
    "                \n",
    "        # OTHERWISE, DEFAULT TO FALSE\n",
    "        else:\n",
    "            result.append(False)\n",
    "            \n",
    "    # FINALLY RETURN RESULT\n",
    "    return result"
   ]
  },
  {
   "cell_type": "markdown",
   "metadata": {},
   "source": [
    "### GLOBAL TASK BACKLOG"
   ]
  },
  {
   "cell_type": "code",
   "execution_count": null,
   "metadata": {},
   "outputs": [],
   "source": [
    "try:\n",
    "    raw = device.read('details')[1]\n",
    "except:\n",
    "    log('THE DEVICE HASH IS NOT REGISTERED')"
   ]
  },
  {
   "cell_type": "code",
   "execution_count": null,
   "metadata": {},
   "outputs": [],
   "source": [
    "backlog = filter_backlog(raw)"
   ]
  },
  {
   "cell_type": "code",
   "execution_count": null,
   "metadata": {},
   "outputs": [],
   "source": [
    "log('TASKS IN BACKLOG: ' + str(len(backlog)))"
   ]
  },
  {
   "cell_type": "markdown",
   "metadata": {},
   "source": [
    "### GLOBAL ACTIVE STATUS "
   ]
  },
  {
   "cell_type": "code",
   "execution_count": null,
   "metadata": {},
   "outputs": [],
   "source": [
    "active = device.read('active')"
   ]
  },
  {
   "cell_type": "code",
   "execution_count": null,
   "metadata": {
    "scrolled": true
   },
   "outputs": [],
   "source": [
    "log('CURRENT ACTIVE STATUS: ' + str(active))"
   ]
  },
  {
   "cell_type": "markdown",
   "metadata": {},
   "source": [
    "### GLOBAL DISCOVERY STATUS"
   ]
  },
  {
   "cell_type": "code",
   "execution_count": null,
   "metadata": {},
   "outputs": [],
   "source": [
    "discoverable = device.read('discoverable')"
   ]
  },
  {
   "cell_type": "code",
   "execution_count": null,
   "metadata": {},
   "outputs": [],
   "source": [
    "log('CURRENT DISCOVERABLE STATUS: ' + str(discoverable))"
   ]
  },
  {
   "cell_type": "markdown",
   "metadata": {},
   "source": [
    "### GLOBAL DISCOVERY PARAMS"
   ]
  },
  {
   "cell_type": "code",
   "execution_count": null,
   "metadata": {},
   "outputs": [],
   "source": [
    "compressed = device.read('tags')"
   ]
  },
  {
   "cell_type": "code",
   "execution_count": null,
   "metadata": {
    "scrolled": true
   },
   "outputs": [],
   "source": [
    "discovery_config = decode(compressed)"
   ]
  },
  {
   "cell_type": "code",
   "execution_count": null,
   "metadata": {},
   "outputs": [],
   "source": [
    "log('DISCOVERY PARAMS FETCHED')"
   ]
  },
  {
   "cell_type": "markdown",
   "metadata": {},
   "source": [
    "### GLOBAL SERVICES"
   ]
  },
  {
   "cell_type": "code",
   "execution_count": null,
   "metadata": {},
   "outputs": [],
   "source": [
    "services = device.read('fetch_services')"
   ]
  },
  {
   "cell_type": "code",
   "execution_count": null,
   "metadata": {},
   "outputs": [],
   "source": [
    "log('SERVICES FETCHED')"
   ]
  },
  {
   "cell_type": "markdown",
   "metadata": {},
   "source": [
    "### EVENT FUNCTIONS"
   ]
  },
  {
   "cell_type": "code",
   "execution_count": null,
   "metadata": {},
   "outputs": [],
   "source": [
    "def update_details(event):\n",
    "    \n",
    "    # FETCH GLOBAL VARS\n",
    "    global active\n",
    "    global discoverable\n",
    "    global backlog\n",
    "    global discovery_config\n",
    "    global services\n",
    "    \n",
    "    # EXTRACT RELEVANT VALUES\n",
    "    latest_active = event['args']['active']\n",
    "    latest_discoverable = event['args']['discoverable']\n",
    "    latest_config = decode(event['args']['tags'])\n",
    "    latest_services = event['args']['services']\n",
    "\n",
    "    # IF ACTIVE STATUS HAS CHANGED\n",
    "    if (latest_active != active):\n",
    "        \n",
    "        # UPDATE ACTIVE STATUS\n",
    "        active = latest_active\n",
    "        \n",
    "        # SEND MSG\n",
    "        log('ACTIVE STATUS CHANGED TO: ' + str(latest_active))\n",
    "        \n",
    "    # IF DISCOVERABLE STATUS HAS CHANGED\n",
    "    if (latest_discoverable != discoverable):\n",
    "        \n",
    "        # UPDATE ACTIVE STATUS\n",
    "        discoverable = latest_discoverable\n",
    "        \n",
    "        # SEND MSG\n",
    "        log('DISCOVERABLE STATUS CHANGED TO: ' + str(latest_discoverable))\n",
    "        \n",
    "    # IF DISCOVERABLE STATUS HAS CHANGED\n",
    "    if (latest_config != discovery_config):\n",
    "        \n",
    "        # UPDATE ACTIVE STATUS\n",
    "        discovery_config = latest_config\n",
    "        \n",
    "        # SEND MSG\n",
    "        log('DISCOVERY CONFIG CHANGED')\n",
    "        \n",
    "    # IF SERVICES HAVE CHANGED\n",
    "    if (latest_services != services):\n",
    "        \n",
    "        # UPDATE ACTIVE STATUS\n",
    "        services = latest_services\n",
    "        \n",
    "        # SEND MSG\n",
    "        log('SERVICES HAVE CHANGED')\n",
    "        \n",
    "    # UPDATE BACKLOG\n",
    "    raw_backlog = event['args']['backlog']\n",
    "    backlog = filter_backlog(raw_backlog)"
   ]
  },
  {
   "cell_type": "code",
   "execution_count": null,
   "metadata": {},
   "outputs": [],
   "source": [
    "def update_middleware():\n",
    "    \n",
    "    # PRINT REACTION\n",
    "    log('MIDDLEWARE UPDATE TRIGGERED')\n",
    "\n",
    "    # TRIGGER UPDATE SCRIPT\n",
    "    # subprocess.call('./patcher')\n",
    "\n",
    "    # CLOSE LANCHER\n",
    "    # sys.exit(0)"
   ]
  },
  {
   "cell_type": "code",
   "execution_count": null,
   "metadata": {},
   "outputs": [],
   "source": [
    "def perform_task(task):\n",
    "    \n",
    "    # SHOW MSG\n",
    "    log('STARTING TASK: ' + task)\n",
    "\n",
    "    # TASK RETURN PARAMS\n",
    "    ipfs = 'QmWATWQ7fVPP2EFGu71UkfnqhYXDYH566qy47CnJDgvs8u'\n",
    "    key = '0x4f7a87EE7A53ae8606e80FE96a47038DF8ab7956'\n",
    "    \n",
    "    # ADD WHATEVER TASK MODULE HERE\n",
    "\n",
    "    # SUBMIT THE TASK RESULT\n",
    "    task_manager.write({\n",
    "        'func': 'complete',\n",
    "        'params': [task, ipfs, key]\n",
    "    })\n",
    "\n",
    "    # SHOW MSG\n",
    "    log('TASK COMPLETED')"
   ]
  },
  {
   "cell_type": "code",
   "execution_count": null,
   "metadata": {},
   "outputs": [],
   "source": [
    "def process_message(event):\n",
    "\n",
    "    # SERIALIZE EVENT PARAMS\n",
    "    author = blockchain.toHex(event['sig'])\n",
    "    payload = blockchain.toText(event['payload'])\n",
    "\n",
    "    # DECODE THE PAYLOAD\n",
    "    data = decode(payload)\n",
    "    \n",
    "    # REQUIRED KEYS FOR VALID MESSAGE\n",
    "    required = ['type', 'services', 'discovery']\n",
    "\n",
    "    # DECODED KEYS\n",
    "    keys = list(data.keys())\n",
    "    \n",
    "    # THE REQUEST KEYWORD FOR THE PAYLOAD TYPE\n",
    "    keyword = 'request'\n",
    "    \n",
    "    # IF THE KEYSETS MATCH & THE TYPE IS A REQUEST\n",
    "    if (required == keys and data['type'] == keyword):\n",
    "        \n",
    "        # CHECK MATCHES IN SERVICES & DISCOVERY PARAMS\n",
    "        services_result = compare_services(data['services'], services)\n",
    "        discovery_result = compare_discovery(data['discovery'], discovery_config)\n",
    "        \n",
    "        # COMBINE LISTS FOR VERIFICATION\n",
    "        result = services_result + discovery_result\n",
    "        \n",
    "        # IF EVERYTHING MATCHED\n",
    "        if (result.count(False) == 0):\n",
    "            \n",
    "            # SHOW MSG\n",
    "            log('DISCOVERY REQUEST DETECTED')\n",
    "            \n",
    "            # ENCODE A JSON RESPONSE\n",
    "            response = encode({\n",
    "                'type': 'response',\n",
    "                'source': payload,\n",
    "                'device': device.hash\n",
    "            })\n",
    "            \n",
    "            # SLEEP FOR 2 SECONDS\n",
    "            time.sleep(2)\n",
    "\n",
    "            # RESPOND TO REQUEST\n",
    "            shh.post({\n",
    "                'symKeyID': settings['whisper']['topic']['key'],\n",
    "                'payload': blockchain.toHex(text=response),\n",
    "                'topic': blockchain.toHex(text=settings['whisper']['topic']['name']),\n",
    "                'sig': whisper_id,\n",
    "                'powTarget': 2.5,\n",
    "                'powTime': 2\n",
    "            })"
   ]
  },
  {
   "cell_type": "markdown",
   "metadata": {},
   "source": [
    "### START LISTENING FOR EVENTS"
   ]
  },
  {
   "cell_type": "code",
   "execution_count": null,
   "metadata": {},
   "outputs": [],
   "source": [
    "log('AWAITING EVENTS...\\n')"
   ]
  },
  {
   "cell_type": "markdown",
   "metadata": {},
   "source": [
    "### CONTRACT EVENTS"
   ]
  },
  {
   "cell_type": "code",
   "execution_count": null,
   "metadata": {},
   "outputs": [],
   "source": [
    "update_event = device.event('middleware')"
   ]
  },
  {
   "cell_type": "code",
   "execution_count": null,
   "metadata": {},
   "outputs": [],
   "source": [
    "changes_event = device.event('changes')"
   ]
  },
  {
   "cell_type": "code",
   "execution_count": null,
   "metadata": {},
   "outputs": [],
   "source": [
    "assignment_event = device.event('assignment')"
   ]
  },
  {
   "cell_type": "code",
   "execution_count": null,
   "metadata": {},
   "outputs": [],
   "source": [
    "message_event = shh.newMessageFilter({\n",
    "    'topic': web3.toHex(text=settings['whisper']['topic']['name']),\n",
    "    'symKeyID': settings['whisper']['topic']['key']\n",
    "})"
   ]
  },
  {
   "cell_type": "markdown",
   "metadata": {},
   "source": [
    "### EVENT LOOP"
   ]
  },
  {
   "cell_type": "code",
   "execution_count": null,
   "metadata": {},
   "outputs": [],
   "source": [
    "try:\n",
    "    while(True):\n",
    "    \n",
    "        # FETCH THE GLOBAL PARAMS\n",
    "        global backlog\n",
    "        global active\n",
    "        global discoverable\n",
    "\n",
    "        # ACTIVE STATUS EVENT\n",
    "        for event in changes_event.get_new_entries():\n",
    "            update_details(event)\n",
    "\n",
    "        # UPDATE MIDDLEWARE EVENT\n",
    "        for event in update_event.get_new_entries():\n",
    "            update_middleware()\n",
    "\n",
    "        # IF THE DEVICE IS SET TO ACTIVE\n",
    "        if (active):\n",
    "\n",
    "            # PERFORM TASKS IN BACKLOG\n",
    "            for task in backlog:\n",
    "                perform_task(task)\n",
    "        \n",
    "        # IF THE DEVICE IS DISCOVERABLE\n",
    "        if (discoverable):\n",
    "            \n",
    "            # TRACK WHISPER REQUESTS\n",
    "            for event in shh.getMessages(message_event):\n",
    "                process_message(event)\n",
    "\n",
    "# WHEN THE PROCESS IS KILLED...\n",
    "except KeyboardInterrupt:\n",
    "    print('\\nThe process was manually stopped...')\n",
    "    pass"
   ]
  },
  {
   "cell_type": "code",
   "execution_count": null,
   "metadata": {},
   "outputs": [],
   "source": []
  }
 ],
 "metadata": {
  "kernelspec": {
   "display_name": "Python 3",
   "language": "python",
   "name": "python3"
  },
  "language_info": {
   "codemirror_mode": {
    "name": "ipython",
    "version": 3
   },
   "file_extension": ".py",
   "mimetype": "text/x-python",
   "name": "python",
   "nbconvert_exporter": "python",
   "pygments_lexer": "ipython3",
   "version": "3.7.9"
  }
 },
 "nbformat": 4,
 "nbformat_minor": 2
}
