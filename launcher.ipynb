{
 "cells": [
  {
   "cell_type": "markdown",
   "metadata": {},
   "source": [
    "### IMPORTS"
   ]
  },
  {
   "cell_type": "code",
   "execution_count": 1,
   "metadata": {},
   "outputs": [],
   "source": [
    "import json\n",
    "import subprocess\n",
    "import sys\n",
    "import time"
   ]
  },
  {
   "cell_type": "code",
   "execution_count": 2,
   "metadata": {},
   "outputs": [],
   "source": [
    "import hashlib\n",
    "import base64"
   ]
  },
  {
   "cell_type": "code",
   "execution_count": 3,
   "metadata": {},
   "outputs": [],
   "source": [
    "import pkg_resources.py2_warn"
   ]
  },
  {
   "cell_type": "code",
   "execution_count": 4,
   "metadata": {},
   "outputs": [],
   "source": [
    "from web3 import Web3"
   ]
  },
  {
   "cell_type": "markdown",
   "metadata": {},
   "source": [
    "### LOGGING BASELINE"
   ]
  },
  {
   "cell_type": "code",
   "execution_count": 5,
   "metadata": {},
   "outputs": [],
   "source": [
    "def log(msg):\n",
    "    print('[LAUNCHER] ' + msg)"
   ]
  },
  {
   "cell_type": "markdown",
   "metadata": {},
   "source": [
    "### LOAD DATA FROM EXTERNAL FILES"
   ]
  },
  {
   "cell_type": "code",
   "execution_count": 6,
   "metadata": {},
   "outputs": [],
   "source": [
    "with open('config/settings.json') as json_file:\n",
    "    settings = json.load(json_file)"
   ]
  },
  {
   "cell_type": "code",
   "execution_count": 7,
   "metadata": {},
   "outputs": [],
   "source": [
    "with open('config/identifier.json') as json_file:\n",
    "    device_info = json.load(json_file)"
   ]
  },
  {
   "cell_type": "code",
   "execution_count": 8,
   "metadata": {},
   "outputs": [],
   "source": [
    "with open('config/latest.json') as json_file:\n",
    "    latest = json.load(json_file)"
   ]
  },
  {
   "cell_type": "code",
   "execution_count": 9,
   "metadata": {},
   "outputs": [
    {
     "name": "stdout",
     "output_type": "stream",
     "text": [
      "[LAUNCHER] FETCHED DATA FROM EXTERNAL FILES\n"
     ]
    }
   ],
   "source": [
    "log('FETCHED DATA FROM EXTERNAL FILES')"
   ]
  },
  {
   "cell_type": "markdown",
   "metadata": {},
   "source": [
    "### GATEWAY CONNECTION CHECK"
   ]
  },
  {
   "cell_type": "code",
   "execution_count": 10,
   "metadata": {},
   "outputs": [],
   "source": [
    "def connection(protocol):\n",
    "    \n",
    "    # GATEWAY TO PROTOCOL\n",
    "    gateway = Web3(Web3.WebsocketProvider(\n",
    "        'ws://' + settings['gateways'][protocol]['host'] + ':' + str(settings['gateways'][protocol]['port'])\n",
    "    ))\n",
    "    \n",
    "    # IF CONNECTION IS ESTABLISHED\n",
    "    if gateway.isConnected():\n",
    "        \n",
    "        # SHOW MESSAGE\n",
    "        message = protocol + ' GATEWAY CONNECTION ESTABLISHED'\n",
    "        log(message.upper())\n",
    "        \n",
    "        # FINALLY RETURN CONNECTION STRING\n",
    "        return gateway\n",
    "        \n",
    "    # OTHERWISE, SHOW ERROR & DIE\n",
    "    else:\n",
    "        log('COULD NOT CONNECT TO GATEWAY. SHUTTING DOWN.')\n",
    "        exit"
   ]
  },
  {
   "cell_type": "markdown",
   "metadata": {},
   "source": [
    "### ATTEMPT TO CONNECT"
   ]
  },
  {
   "cell_type": "code",
   "execution_count": 11,
   "metadata": {},
   "outputs": [
    {
     "name": "stdout",
     "output_type": "stream",
     "text": [
      "[LAUNCHER] BLOCKCHAIN GATEWAY CONNECTION ESTABLISHED\n"
     ]
    }
   ],
   "source": [
    "blockchain = connection('blockchain')"
   ]
  },
  {
   "cell_type": "code",
   "execution_count": 12,
   "metadata": {},
   "outputs": [
    {
     "name": "stdout",
     "output_type": "stream",
     "text": [
      "[LAUNCHER] WHISPER GATEWAY CONNECTION ESTABLISHED\n"
     ]
    }
   ],
   "source": [
    "whisper = connection('whisper')"
   ]
  },
  {
   "cell_type": "markdown",
   "metadata": {},
   "source": [
    "### EXTRACT THE SHH API"
   ]
  },
  {
   "cell_type": "code",
   "execution_count": 13,
   "metadata": {},
   "outputs": [],
   "source": [
    "shh = whisper.geth.shh"
   ]
  },
  {
   "cell_type": "markdown",
   "metadata": {},
   "source": [
    "### GENERATE WHISPER ID"
   ]
  },
  {
   "cell_type": "code",
   "execution_count": 14,
   "metadata": {},
   "outputs": [],
   "source": [
    "whisper_id = shh.newKeyPair()"
   ]
  },
  {
   "cell_type": "code",
   "execution_count": 15,
   "metadata": {},
   "outputs": [
    {
     "name": "stdout",
     "output_type": "stream",
     "text": [
      "[LAUNCHER] WHISPER ID GENERATED\n"
     ]
    }
   ],
   "source": [
    "log('WHISPER ID GENERATED')"
   ]
  },
  {
   "cell_type": "markdown",
   "metadata": {},
   "source": [
    "### HASH DEVICE IDENTIFIER"
   ]
  },
  {
   "cell_type": "code",
   "execution_count": 16,
   "metadata": {},
   "outputs": [],
   "source": [
    "def hash_id(data):\n",
    "    \n",
    "    # REMOVE WHITESPACES\n",
    "    to_string = json.dumps(data, sort_keys=False, indent=2)\n",
    "    \n",
    "    # ENCODE THE STRING WITH UTF8\n",
    "    encoded = to_string.encode('utf-8')\n",
    "    \n",
    "    # HASH ENCODED DATA\n",
    "    hashed = hashlib.sha256(encoded).hexdigest()\n",
    "    \n",
    "    return hashed"
   ]
  },
  {
   "cell_type": "markdown",
   "metadata": {},
   "source": [
    "### DEVICE OUTLINE"
   ]
  },
  {
   "cell_type": "code",
   "execution_count": 17,
   "metadata": {},
   "outputs": [],
   "source": [
    "class create_device():\n",
    "    def __init__(self):\n",
    "        self.hash = hash_id(device_info)\n",
    "    \n",
    "    # LOCATE & SET DEVICE CONTRACT ADDRESS\n",
    "    def set_contract(self, contract):\n",
    "        self.contract = contract\n",
    "    \n",
    "    # REDIRECT TO PARENT\n",
    "    def read(self, details):\n",
    "        return self.contract.read(details)\n",
    "    \n",
    "    # REDIRECT TO PARENT\n",
    "    def write(self, details):\n",
    "        return self.contract.write(details)\n",
    "    \n",
    "    # REDIRECT TO PARENT\n",
    "    def event(self, name):\n",
    "        return self.contract.event(name)"
   ]
  },
  {
   "cell_type": "code",
   "execution_count": 18,
   "metadata": {
    "scrolled": true
   },
   "outputs": [],
   "source": [
    "device = create_device()"
   ]
  },
  {
   "cell_type": "code",
   "execution_count": 19,
   "metadata": {},
   "outputs": [
    {
     "name": "stdout",
     "output_type": "stream",
     "text": [
      "[LAUNCHER] DEVICE ID HASHED\n"
     ]
    }
   ],
   "source": [
    "log('DEVICE ID HASHED')"
   ]
  },
  {
   "cell_type": "markdown",
   "metadata": {},
   "source": [
    "### UNIFORM SMART CONTRACT OUTLINE"
   ]
  },
  {
   "cell_type": "code",
   "execution_count": 20,
   "metadata": {},
   "outputs": [],
   "source": [
    "class contract:\n",
    "    \n",
    "    # ON LOAD..\n",
    "    def __init__(self, block):\n",
    "        \n",
    "        # CONSTRUCT USABLE CONTRACT\n",
    "        self.contract = blockchain.eth.contract(\n",
    "            address = block['address'],\n",
    "            abi = block['abi']\n",
    "        )\n",
    "        \n",
    "        # SET ADDRESS REFERENCE\n",
    "        self.address = block['address']\n",
    "    \n",
    "    # READ FROM CONTRACT\n",
    "    def read(self, details):\n",
    "        \n",
    "        # WITH PARAMS\n",
    "        if ('params' in details):\n",
    "            return self.contract.functions[details['func']](details['params']).call()\n",
    "        \n",
    "        # WITHOUT PARAMS\n",
    "        else:\n",
    "            return self.contract.functions[details]().call()\n",
    "    \n",
    "    # WRITE TO CONTRACT\n",
    "    def write(self, details):\n",
    "        try:\n",
    "            \n",
    "            # CREATE BASE TRANSACTION\n",
    "            tx = {\n",
    "                'from': settings['keys']['public'],\n",
    "                'to': self.contract.address,\n",
    "                'data': self.contract.encodeABI(\n",
    "                    fn_name = details['func'],\n",
    "                    args = details['params']\n",
    "                )\n",
    "            }\n",
    "            \n",
    "            # ESTIMATE GAS VALUE & STITCH IN REMAINING PROPS\n",
    "            tx['gas'] = blockchain.eth.estimateGas(tx)\n",
    "            tx['gasPrice'] = blockchain.toWei(20, 'gwei')\n",
    "            tx['nonce'] = blockchain.eth.getTransactionCount(settings['keys']['public'])\n",
    "\n",
    "            # SIGN TRANSCTION WITH PRIVATE KEY\n",
    "            signed = blockchain.eth.account.sign_transaction(tx,\n",
    "                private_key = settings['keys']['private']\n",
    "            )\n",
    "\n",
    "            # SEND THE TRANSACTION\n",
    "            blockchain.eth.sendRawTransaction(signed.rawTransaction)\n",
    "\n",
    "            # SUCCESS\n",
    "            return True\n",
    "        \n",
    "        # IF THE TRANSACTION IS REVERTED, SHOW ERROR\n",
    "        except ValueError as error:\n",
    "            return error\n",
    "    \n",
    "    # EVENT FILTER\n",
    "    def event(self, name):\n",
    "        return self.contract.events[name].createFilter(fromBlock=\"latest\")"
   ]
  },
  {
   "cell_type": "markdown",
   "metadata": {},
   "source": [
    "### SERIALIZE MANAGER CONTRACTS"
   ]
  },
  {
   "cell_type": "code",
   "execution_count": 21,
   "metadata": {},
   "outputs": [],
   "source": [
    "device_manager = contract(latest['devicemanager'])"
   ]
  },
  {
   "cell_type": "code",
   "execution_count": 22,
   "metadata": {},
   "outputs": [],
   "source": [
    "task_manager = contract(latest['taskmanager'])"
   ]
  },
  {
   "cell_type": "code",
   "execution_count": 23,
   "metadata": {
    "scrolled": true
   },
   "outputs": [
    {
     "name": "stdout",
     "output_type": "stream",
     "text": [
      "[LAUNCHER] MANAGER CONTRACTS SERIALIZED\n"
     ]
    }
   ],
   "source": [
    "log('MANAGER CONTRACTS SERIALIZED')"
   ]
  },
  {
   "cell_type": "markdown",
   "metadata": {},
   "source": [
    "### SERIALIZE DEVICE CONTRACT"
   ]
  },
  {
   "cell_type": "code",
   "execution_count": 24,
   "metadata": {},
   "outputs": [],
   "source": [
    "temp_contract = contract({\n",
    "    'address': device_manager.read({\n",
    "        'func': 'fetch_device',\n",
    "        'params': device.hash\n",
    "    }),\n",
    "    'abi': latest['device']['abi']\n",
    "})"
   ]
  },
  {
   "cell_type": "code",
   "execution_count": 25,
   "metadata": {},
   "outputs": [],
   "source": [
    "device.set_contract(temp_contract)"
   ]
  },
  {
   "cell_type": "code",
   "execution_count": 26,
   "metadata": {
    "scrolled": true
   },
   "outputs": [
    {
     "name": "stdout",
     "output_type": "stream",
     "text": [
      "[LAUNCHER] DEVICE CONTRACT SERIALIZED\n"
     ]
    }
   ],
   "source": [
    "log('DEVICE CONTRACT SERIALIZED')"
   ]
  },
  {
   "cell_type": "markdown",
   "metadata": {},
   "source": [
    "### HELPER FUNCS"
   ]
  },
  {
   "cell_type": "code",
   "execution_count": 27,
   "metadata": {},
   "outputs": [],
   "source": [
    "def filter_backlog(data):\n",
    "    \n",
    "    # FILTER ZEROS\n",
    "    filtered = filter(lambda x: x != '0x0000000000000000000000000000000000000000', data)\n",
    "    \n",
    "    # CONVERT TO LIST & RETURN\n",
    "    return list(filtered)"
   ]
  },
  {
   "cell_type": "code",
   "execution_count": 28,
   "metadata": {},
   "outputs": [],
   "source": [
    "def parse_config(compressed):\n",
    "    \n",
    "    # EXPAND TO STRING\n",
    "    to_bytes = base64.b64decode(compressed)\n",
    "    \n",
    "    # PARSE AS JSON & RETURN\n",
    "    return json.loads(to_bytes)"
   ]
  },
  {
   "cell_type": "markdown",
   "metadata": {},
   "source": [
    "### GLOBAL TASK BACKLOG"
   ]
  },
  {
   "cell_type": "code",
   "execution_count": 29,
   "metadata": {},
   "outputs": [],
   "source": [
    "raw = device.read('details')[1]"
   ]
  },
  {
   "cell_type": "code",
   "execution_count": 30,
   "metadata": {},
   "outputs": [],
   "source": [
    "backlog = filter_backlog(raw)"
   ]
  },
  {
   "cell_type": "code",
   "execution_count": 31,
   "metadata": {},
   "outputs": [
    {
     "name": "stdout",
     "output_type": "stream",
     "text": [
      "[LAUNCHER] TASKS IN BACKLOG: 3\n"
     ]
    }
   ],
   "source": [
    "log('TASKS IN BACKLOG: ' + str(len(backlog)))"
   ]
  },
  {
   "cell_type": "markdown",
   "metadata": {},
   "source": [
    "### GLOBAL ACTIVE STATUS "
   ]
  },
  {
   "cell_type": "code",
   "execution_count": 32,
   "metadata": {},
   "outputs": [],
   "source": [
    "active = device.read('active')"
   ]
  },
  {
   "cell_type": "code",
   "execution_count": 33,
   "metadata": {
    "scrolled": true
   },
   "outputs": [
    {
     "name": "stdout",
     "output_type": "stream",
     "text": [
      "[LAUNCHER] CURRENT ACTIVE STATUS: True\n"
     ]
    }
   ],
   "source": [
    "log('CURRENT ACTIVE STATUS: ' + str(active))"
   ]
  },
  {
   "cell_type": "markdown",
   "metadata": {},
   "source": [
    "### GLOBAL DISCOVERY STATUS"
   ]
  },
  {
   "cell_type": "code",
   "execution_count": 34,
   "metadata": {},
   "outputs": [],
   "source": [
    "discoverable = device.read('discoverable')"
   ]
  },
  {
   "cell_type": "code",
   "execution_count": 35,
   "metadata": {},
   "outputs": [
    {
     "name": "stdout",
     "output_type": "stream",
     "text": [
      "[LAUNCHER] CURRENT DISCOVERABLE STATUS: True\n"
     ]
    }
   ],
   "source": [
    "log('CURRENT DISCOVERABLE STATUS: ' + str(discoverable))"
   ]
  },
  {
   "cell_type": "markdown",
   "metadata": {},
   "source": [
    "### GLOBAL DISCOVERY CONFIG"
   ]
  },
  {
   "cell_type": "code",
   "execution_count": 36,
   "metadata": {},
   "outputs": [],
   "source": [
    "compressed = device.read('tags')"
   ]
  },
  {
   "cell_type": "code",
   "execution_count": 37,
   "metadata": {},
   "outputs": [],
   "source": [
    "discovery_config = parse_config(compressed)"
   ]
  },
  {
   "cell_type": "code",
   "execution_count": 38,
   "metadata": {},
   "outputs": [
    {
     "name": "stdout",
     "output_type": "stream",
     "text": [
      "[LAUNCHER] DISCOVERY CONFIG FETCHED\n"
     ]
    }
   ],
   "source": [
    "log('DISCOVERY CONFIG FETCHED')"
   ]
  },
  {
   "cell_type": "markdown",
   "metadata": {},
   "source": [
    "### EVENT FUNCTIONS"
   ]
  },
  {
   "cell_type": "code",
   "execution_count": 39,
   "metadata": {},
   "outputs": [],
   "source": [
    "def update_details(event):\n",
    "    \n",
    "    # FETCH GLOBAL VARS\n",
    "    global active\n",
    "    global discoverable\n",
    "    global backlog\n",
    "    global discovery_config\n",
    "    \n",
    "    # EXTRACT RELEVANT VALUES\n",
    "    latest_active = event['args']['active']\n",
    "    latest_discoverable = event['args']['discoverable']\n",
    "    latest_config = parse_config(event['args']['tags'])\n",
    "\n",
    "    # IF ACTIVE STATUS HAS CHANGED\n",
    "    if (latest_active != active):\n",
    "        \n",
    "        # UPDATE ACTIVE STATUS\n",
    "        active = latest_active\n",
    "        \n",
    "        # SEND MSG\n",
    "        log('ACTIVE STATUS CHANGED TO: ' + str(latest_active))\n",
    "        \n",
    "    # IF DISCOVERABLE STATUS HAS CHANGED\n",
    "    if (latest_discoverable != discoverable):\n",
    "        \n",
    "        # UPDATE ACTIVE STATUS\n",
    "        discoverable = latest_discoverable\n",
    "        \n",
    "        # SEND MSG\n",
    "        log('DISCOVERABLE STATUS CHANGED TO: ' + str(latest_discoverable))\n",
    "        \n",
    "    # IF DISCOVERABLE STATUS HAS CHANGED\n",
    "    if (latest_config != discovery_config):\n",
    "        \n",
    "        # UPDATE ACTIVE STATUS\n",
    "        discovery_config = latest_config\n",
    "        \n",
    "        # SEND MSG\n",
    "        log('DISCOVERY CONFIG CHANGED')\n",
    "        \n",
    "    # UPDATE BACKLOG\n",
    "    raw_backlog = event['args']['backlog']\n",
    "    backlog = filter_backlog(raw_backlog)"
   ]
  },
  {
   "cell_type": "code",
   "execution_count": 40,
   "metadata": {},
   "outputs": [],
   "source": [
    "def update_middleware():\n",
    "    \n",
    "    # PRINT REACTION\n",
    "    log('MIDDLEWARE UPDATE TRIGGERED')\n",
    "\n",
    "    # TRIGGER UPDATE SCRIPT\n",
    "    # subprocess.call('./patcher')\n",
    "\n",
    "    # CLOSE LANCHER\n",
    "    # sys.exit(0)"
   ]
  },
  {
   "cell_type": "code",
   "execution_count": 41,
   "metadata": {},
   "outputs": [],
   "source": [
    "def perform_task(task):\n",
    "    \n",
    "    # SHOW MSG\n",
    "    log('STARTING TASK: ' + task)\n",
    "\n",
    "    # TASK RETURN PARAMS\n",
    "    ipfs = 'QmWATWQ7fVPP2EFGu71UkfnqhYXDYH566qy47CnJDgvs8u'\n",
    "    key = '0x4f7a87EE7A53ae8606e80FE96a47038DF8ab7956'\n",
    "\n",
    "    # SLEEP FOR 5 SECONDS\n",
    "    time.sleep(5)\n",
    "    \n",
    "    \n",
    "    \n",
    "    \n",
    "\n",
    "    # SUBMIT THE TASK RESULT\n",
    "    task_manager.write({\n",
    "        'func': 'complete',\n",
    "        'params': [task, ipfs, key]\n",
    "    })\n",
    "\n",
    "    # SHOW MSG\n",
    "    log('TASK COMPLETED')"
   ]
  },
  {
   "cell_type": "code",
   "execution_count": 42,
   "metadata": {},
   "outputs": [],
   "source": [
    "def process_message(event):\n",
    "\n",
    "    # CONVERT MESSAGE PARAMS\n",
    "    author = blockchain.toHex(event['sig'])\n",
    "    nickname = author[0:4] + '...' + author[-4:]\n",
    "    message = blockchain.toText(event['payload'])\n",
    "\n",
    "    # CHECK THE FIRST WORD FOR TRIGGER\n",
    "    first = message.split(' ')[0].lower()\n",
    "\n",
    "    # CHAT QUERY STRING\n",
    "    # !find service=nlp & location=helsinki\n",
    "    \n",
    "    # IF A REQUEST IS FOUND\n",
    "    if (first == '!find'):\n",
    "\n",
    "        # NUKE GARBAGE & SPLIT OUT INDIVIDUAL PARAMS\n",
    "        checks = message[8:].replace(' ', '').split('&')\n",
    "\n",
    "        # CHECK RESULTS\n",
    "        results = []\n",
    "\n",
    "        # LOOP THROUGH\n",
    "        for pair in checks:\n",
    "\n",
    "            # DECONSTRUCT KEY/VALUE\n",
    "            key, value = pair.split('=')\n",
    "\n",
    "            # MAKE SURE THE KEY EXISTS\n",
    "            if (key in discovery_config):\n",
    "\n",
    "                # CHECK & PUSH PARAM COMPARISON RESULT\n",
    "                result = discovery_config[key] == value\n",
    "                results.append(result)\n",
    "\n",
    "            # OTHERWISE, DEFAULT TO BAD RESULT\n",
    "            else:\n",
    "                results.append(False)\n",
    "\n",
    "        # IF ALL THE CHECKS MATCH\n",
    "        if (results.count(False) == 0):\n",
    "            \n",
    "            # SHOW MSG\n",
    "            log('DISCOVERY REQUEST DETECTED')\n",
    "\n",
    "            # RESPONSE TEXT\n",
    "            response = '@' + nickname + ' - I am available at ' + device.hash\n",
    "\n",
    "            # SLEEP FOR 2 SECONDS\n",
    "            time.sleep(2)\n",
    "\n",
    "            # RESPOND TO REQUEST\n",
    "            shh.post({\n",
    "                'symKeyID': settings['whisper']['topic']['key'],\n",
    "                'payload': blockchain.toHex(text=response),\n",
    "                'topic': blockchain.toHex(text=settings['whisper']['topic']['name']),\n",
    "                'sig': whisper_id,\n",
    "                'powTarget': 2.5,\n",
    "                'powTime': 2\n",
    "            })"
   ]
  },
  {
   "cell_type": "markdown",
   "metadata": {},
   "source": [
    "### START LISTENING FOR EVENTS"
   ]
  },
  {
   "cell_type": "code",
   "execution_count": 43,
   "metadata": {},
   "outputs": [
    {
     "name": "stdout",
     "output_type": "stream",
     "text": [
      "[LAUNCHER] AWAITING EVENTS...\n",
      "\n"
     ]
    }
   ],
   "source": [
    "log('AWAITING EVENTS...\\n')"
   ]
  },
  {
   "cell_type": "markdown",
   "metadata": {},
   "source": [
    "### CONTRACT EVENTS"
   ]
  },
  {
   "cell_type": "code",
   "execution_count": 44,
   "metadata": {},
   "outputs": [],
   "source": [
    "update_event = device.event('middleware')"
   ]
  },
  {
   "cell_type": "code",
   "execution_count": 45,
   "metadata": {},
   "outputs": [],
   "source": [
    "changes_event = device.event('changes')"
   ]
  },
  {
   "cell_type": "code",
   "execution_count": 46,
   "metadata": {},
   "outputs": [],
   "source": [
    "assignment_event = device.event('assignment')"
   ]
  },
  {
   "cell_type": "code",
   "execution_count": 47,
   "metadata": {},
   "outputs": [],
   "source": [
    "message_event = shh.newMessageFilter({\n",
    "    'topic': blockchain.toHex(text=settings['whisper']['topic']['name']),\n",
    "    'symKeyID': settings['whisper']['topic']['key']\n",
    "})"
   ]
  },
  {
   "cell_type": "markdown",
   "metadata": {},
   "source": [
    "### EVENT LOOP"
   ]
  },
  {
   "cell_type": "code",
   "execution_count": 48,
   "metadata": {},
   "outputs": [
    {
     "name": "stdout",
     "output_type": "stream",
     "text": [
      "[LAUNCHER] STARTING TASK: 0x6c2bdBdCc03852C23FB0964be23Dd192e4215512\n",
      "[LAUNCHER] TASK COMPLETED\n",
      "[LAUNCHER] STARTING TASK: 0x68104c1C6171f44008Aeb17Cf1E2AeD4cAE08BE5\n",
      "[LAUNCHER] TASK COMPLETED\n",
      "[LAUNCHER] STARTING TASK: 0x0C474E0E28AC6df46A17575CFB6175419D5a4A81\n",
      "[LAUNCHER] TASK COMPLETED\n",
      "[LAUNCHER] MIDDLEWARE UPDATE TRIGGERED\n",
      "[LAUNCHER] DISCOVERY CONFIG CHANGED\n",
      "\n",
      "The process was manually stopped...\n"
     ]
    }
   ],
   "source": [
    "try:\n",
    "    while(True):\n",
    "    \n",
    "        # FETCH THE GLOBAL PARAMS\n",
    "        global backlog\n",
    "        global active\n",
    "        global discoverable\n",
    "\n",
    "        # ACTIVE STATUS EVENT\n",
    "        for event in changes_event.get_new_entries():\n",
    "            update_details(event)\n",
    "\n",
    "        # UPDATE MIDDLEWARE EVENT\n",
    "        for event in update_event.get_new_entries():\n",
    "            update_middleware()\n",
    "\n",
    "        # IF THE DEVICE IS SET TO ACTIVE\n",
    "        if (active):\n",
    "\n",
    "            # PERFORM TASKS IN BACKLOG\n",
    "            for task in backlog:\n",
    "                perform_task(task)\n",
    "        \n",
    "        # IF THE DEVICE IS DISCOVERABLE\n",
    "        if (discoverable):\n",
    "            \n",
    "            # TRACK WHISPER REQUESTS\n",
    "            for event in shh.getMessages(message_event):\n",
    "                process_message(event)\n",
    "\n",
    "# WHEN THE PROCESS IS KILLED...\n",
    "except KeyboardInterrupt:\n",
    "    print('\\nThe process was manually stopped...')\n",
    "    pass"
   ]
  },
  {
   "cell_type": "code",
   "execution_count": null,
   "metadata": {},
   "outputs": [],
   "source": []
  }
 ],
 "metadata": {
  "kernelspec": {
   "display_name": "Python 3",
   "language": "python",
   "name": "python3"
  },
  "language_info": {
   "codemirror_mode": {
    "name": "ipython",
    "version": 3
   },
   "file_extension": ".py",
   "mimetype": "text/x-python",
   "name": "python",
   "nbconvert_exporter": "python",
   "pygments_lexer": "ipython3",
   "version": "3.7.7"
  }
 },
 "nbformat": 4,
 "nbformat_minor": 2
}
