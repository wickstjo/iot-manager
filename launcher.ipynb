{
 "cells": [
  {
   "cell_type": "code",
   "execution_count": 1,
   "metadata": {},
   "outputs": [],
   "source": [
    "import subprocess\n",
    "import sys\n",
    "import time\n",
    "from import_file import import_file"
   ]
  },
  {
   "cell_type": "code",
   "execution_count": 2,
   "metadata": {},
   "outputs": [],
   "source": [
    "#import nbimporter"
   ]
  },
  {
   "cell_type": "code",
   "execution_count": null,
   "metadata": {},
   "outputs": [],
   "source": [
    "import utils as utils\n",
    "import blockchain as blockchain_utils\n",
    "import device as device_utils"
   ]
  },
  {
   "cell_type": "markdown",
   "metadata": {},
   "source": [
    "### LOAD RESOURCES"
   ]
  },
  {
   "cell_type": "code",
   "execution_count": null,
   "metadata": {},
   "outputs": [],
   "source": [
    "settings = utils.load_yaml('resources/settings.yaml')"
   ]
  },
  {
   "cell_type": "code",
   "execution_count": null,
   "metadata": {},
   "outputs": [],
   "source": [
    "latest = utils.load_json('resources/latest.json')"
   ]
  },
  {
   "cell_type": "code",
   "execution_count": null,
   "metadata": {},
   "outputs": [],
   "source": [
    "device_info = utils.load_yaml('resources/identifier.yaml')"
   ]
  },
  {
   "cell_type": "markdown",
   "metadata": {},
   "source": [
    "### CONNECT TO ETHEREUM GATEWAY"
   ]
  },
  {
   "cell_type": "code",
   "execution_count": null,
   "metadata": {},
   "outputs": [],
   "source": [
    "web3 = blockchain_utils.connect(settings)"
   ]
  },
  {
   "cell_type": "markdown",
   "metadata": {},
   "source": [
    "### EXTRACT THE WHISPER API"
   ]
  },
  {
   "cell_type": "code",
   "execution_count": null,
   "metadata": {},
   "outputs": [],
   "source": [
    "shh = web3.geth.shh"
   ]
  },
  {
   "cell_type": "markdown",
   "metadata": {},
   "source": [
    "### GENERATE A FRESH WHISPER ID"
   ]
  },
  {
   "cell_type": "code",
   "execution_count": null,
   "metadata": {},
   "outputs": [],
   "source": [
    "whisper_id = shh.newKeyPair()"
   ]
  },
  {
   "cell_type": "markdown",
   "metadata": {},
   "source": [
    "### CREATE DEVICE OUTLINE"
   ]
  },
  {
   "cell_type": "code",
   "execution_count": null,
   "metadata": {},
   "outputs": [],
   "source": [
    "oracle = device_utils.create(device_info)"
   ]
  },
  {
   "cell_type": "markdown",
   "metadata": {},
   "source": [
    "### SERIALIZE NECESSARY MANAGER CONTRACTS"
   ]
  },
  {
   "cell_type": "code",
   "execution_count": null,
   "metadata": {},
   "outputs": [],
   "source": [
    "oracle_manager = blockchain_utils.contract(latest['oraclemanager'], web3, settings)"
   ]
  },
  {
   "cell_type": "code",
   "execution_count": null,
   "metadata": {},
   "outputs": [],
   "source": [
    "task_manager = blockchain_utils.contract(latest['taskmanager'], web3, settings)"
   ]
  },
  {
   "cell_type": "markdown",
   "metadata": {},
   "source": [
    "### FETCH & SERIALIZE ORACLE CONTRACT"
   ]
  },
  {
   "cell_type": "code",
   "execution_count": null,
   "metadata": {},
   "outputs": [],
   "source": [
    "temp_contract = blockchain_utils.contract({\n",
    "    'address': oracle_manager.read({\n",
    "        'func': 'fetch_oracle',\n",
    "        'params': oracle.hash\n",
    "    }),\n",
    "    'abi': latest['oracle']['abi']\n",
    "}, web3, settings)"
   ]
  },
  {
   "cell_type": "markdown",
   "metadata": {},
   "source": [
    "### VERIFY ORACLE CONTRACT EXISTENCE"
   ]
  },
  {
   "cell_type": "code",
   "execution_count": null,
   "metadata": {},
   "outputs": [],
   "source": [
    "if temp_contract.address != '0x0000000000000000000000000000000000000000':\n",
    "    oracle.set_contract(temp_contract)\n",
    "    \n",
    "else:\n",
    "    print('THE ORACLE IS NOT REGISTERED, ABORTING..')\n",
    "    sys.exit(0)"
   ]
  },
  {
   "cell_type": "markdown",
   "metadata": {},
   "source": [
    "### GLOBAL TASK BACKLOG"
   ]
  },
  {
   "cell_type": "code",
   "execution_count": null,
   "metadata": {},
   "outputs": [],
   "source": [
    "raw = oracle.read('fetch_backlog')"
   ]
  },
  {
   "cell_type": "code",
   "execution_count": null,
   "metadata": {},
   "outputs": [],
   "source": [
    "backlog = utils.filter_backlog(raw)"
   ]
  },
  {
   "cell_type": "markdown",
   "metadata": {},
   "source": [
    "### GLOBAL ACTIVE STATUS "
   ]
  },
  {
   "cell_type": "code",
   "execution_count": null,
   "metadata": {},
   "outputs": [],
   "source": [
    "active = oracle.read('active')"
   ]
  },
  {
   "cell_type": "markdown",
   "metadata": {},
   "source": [
    "### GLOBAL DISCOVERY STATUS"
   ]
  },
  {
   "cell_type": "code",
   "execution_count": null,
   "metadata": {},
   "outputs": [],
   "source": [
    "discoverable = oracle.read('discoverable')"
   ]
  },
  {
   "cell_type": "markdown",
   "metadata": {},
   "source": [
    "### GLOBAL DISCOVERY CONFIG"
   ]
  },
  {
   "cell_type": "code",
   "execution_count": null,
   "metadata": {},
   "outputs": [],
   "source": [
    "encoded = oracle.read('config')"
   ]
  },
  {
   "cell_type": "code",
   "execution_count": null,
   "metadata": {
    "scrolled": true
   },
   "outputs": [],
   "source": [
    "discovery_config = utils.decode(encoded)"
   ]
  },
  {
   "cell_type": "markdown",
   "metadata": {},
   "source": [
    "### UDATE DEVICE STATUS & DETAILS"
   ]
  },
  {
   "cell_type": "code",
   "execution_count": null,
   "metadata": {},
   "outputs": [],
   "source": [
    "def update_details():\n",
    "    \n",
    "    # FETCH GLOBAL VARS\n",
    "    global active\n",
    "    global discoverable\n",
    "    global discovery_config\n",
    "    global backlog\n",
    "    \n",
    "    # EXTRACT RELEVANT VALUES\n",
    "    latest_active = oracle.read('active')\n",
    "    latest_discoverable = oracle.read('discoverable')\n",
    "    latest_config = utils.decode(oracle.read('config'))\n",
    "\n",
    "    # IF ACTIVE STATUS HAS CHANGED\n",
    "    if (latest_active != active):\n",
    "        \n",
    "        # UPDATE ACTIVE STATUS\n",
    "        active = latest_active\n",
    "        \n",
    "        # SEND MSG\n",
    "        print('ACTIVE STATUS CHANGED TO:', latest_active)\n",
    "        \n",
    "    # IF DISCOVERABLE STATUS HAS CHANGED\n",
    "    if (latest_discoverable != discoverable):\n",
    "        \n",
    "        # UPDATE ACTIVE STATUS\n",
    "        discoverable = latest_discoverable\n",
    "        \n",
    "        # SEND MSG\n",
    "        print('DISCOVERABLE STATUS CHANGED TO:', latest_discoverable)\n",
    "        \n",
    "    # IF DISCOVERABLE STATUS HAS CHANGED\n",
    "    if (latest_config != discovery_config):\n",
    "        \n",
    "        # UPDATE ACTIVE STATUS\n",
    "        discovery_config = latest_config\n",
    "        \n",
    "        # SEND MSG\n",
    "        print('DISCOVERY CONFIG CHANGED')\n",
    "        \n",
    "    # UPDATE BACKLOG\n",
    "    raw_backlog = oracle.read('fetch_backlog')\n",
    "    backlog = utils.filter_backlog(raw_backlog)"
   ]
  },
  {
   "cell_type": "markdown",
   "metadata": {},
   "source": [
    "### UPDATE MIDDLEWARE"
   ]
  },
  {
   "cell_type": "code",
   "execution_count": null,
   "metadata": {},
   "outputs": [],
   "source": [
    "def update_middleware():\n",
    "    \n",
    "    # PRINT REACTION\n",
    "    print('\\nMIDDLEWARE UPDATE TRIGGERED')\n",
    "\n",
    "    # TRIGGER UPDATE SCRIPT\n",
    "    subprocess.call('./patcher')\n",
    "\n",
    "    # CLOSE LANCHER\n",
    "    sys.exit(0)"
   ]
  },
  {
   "cell_type": "markdown",
   "metadata": {},
   "source": [
    "### PERFORM TASK"
   ]
  },
  {
   "cell_type": "code",
   "execution_count": null,
   "metadata": {},
   "outputs": [],
   "source": [
    "def perform_task(task, func):\n",
    "    \n",
    "    # SHOW MSG\n",
    "    print('STARTING TASK:', task)\n",
    "    \n",
    "    # SERIALIZE THE TASK CONTRACT\n",
    "    task_contract = blockchain_utils.contract({\n",
    "        'address': task,\n",
    "        'abi': latest['task']['abi']\n",
    "    }, web3, settings)\n",
    "    \n",
    "    # FETCH & DECODE TASK PARAMS\n",
    "    params = task_contract.read('params')\n",
    "    decoded = utils.decode(params)\n",
    "    \n",
    "    # PERFORM ORACLE TASK\n",
    "    result = func(task, decoded)\n",
    "\n",
    "    # SUBMIT THE TASK RESULT\n",
    "    task_manager.write({\n",
    "        'func': 'complete',\n",
    "        'params': [task, result]\n",
    "    })\n",
    "\n",
    "    # SHOW MSG\n",
    "    print('TASK COMPLETED')"
   ]
  },
  {
   "cell_type": "markdown",
   "metadata": {},
   "source": [
    "### DISCOVERY RESPONSES"
   ]
  },
  {
   "cell_type": "code",
   "execution_count": null,
   "metadata": {},
   "outputs": [],
   "source": [
    "def process_message(event):\n",
    "    \n",
    "    # SERIALIZE EVENT PARAMS\n",
    "    author = web3.toHex(event['sig'])\n",
    "    payload = web3.toText(event['payload'])\n",
    "\n",
    "    # DECODE THE PAYLOAD\n",
    "    data = utils.decode(payload)\n",
    "    \n",
    "    # REQUIRED KEYS FOR VALID MESSAGE\n",
    "    required = ['type', 'discovery']\n",
    "\n",
    "    # DECODED KEYS\n",
    "    keys = list(data.keys())\n",
    "    \n",
    "    # THE REQUEST KEYWORD FOR THE PAYLOAD TYPE\n",
    "    keyword = 'request'\n",
    "    \n",
    "    # IF THE KEYSETS MATCH & THE TYPE IS A REQUEST\n",
    "    if (required == keys and data['type'] == keyword):\n",
    "        \n",
    "        # CHECK MATCHES IN DISCOVERY PARAMS\n",
    "        discovery_result = utils.compare_discovery(data['discovery'], discovery_config)\n",
    "        \n",
    "        # IF EVERYTHING MATCHED\n",
    "        if (discovery_result.count(False) == 0):\n",
    "            \n",
    "            # SHOW MSG\n",
    "            print('DISCOVERY REQUEST DETECTED')\n",
    "            \n",
    "            # ENCODE A JSON RESPONSE\n",
    "            response = utils.encode({\n",
    "                'type': 'response',\n",
    "                'source': payload,\n",
    "                'oracle': oracle.hash\n",
    "            })\n",
    "            \n",
    "            # SLEEP FOR 2 SECONDS\n",
    "            time.sleep(2)\n",
    "\n",
    "            # RESPOND TO REQUEST\n",
    "            shh.post({\n",
    "                'symKeyID': settings['whisper']['symkey'],\n",
    "                'payload': web3.toHex(text=response),\n",
    "                'topic': web3.toHex(text=settings['whisper']['topic']),\n",
    "                'sig': whisper_id,\n",
    "                'powTarget': 2.5,\n",
    "                'powTime': 2\n",
    "            })"
   ]
  },
  {
   "cell_type": "markdown",
   "metadata": {},
   "source": [
    "### CONTRACT EVENTS"
   ]
  },
  {
   "cell_type": "code",
   "execution_count": null,
   "metadata": {},
   "outputs": [],
   "source": [
    "update_event = oracle.event('middleware')"
   ]
  },
  {
   "cell_type": "code",
   "execution_count": null,
   "metadata": {},
   "outputs": [],
   "source": [
    "modification_event = oracle.event('modification')"
   ]
  },
  {
   "cell_type": "markdown",
   "metadata": {},
   "source": [
    "### WHISPER EVENT"
   ]
  },
  {
   "cell_type": "code",
   "execution_count": null,
   "metadata": {},
   "outputs": [],
   "source": [
    "message_event = shh.newMessageFilter({\n",
    "    'topic': web3.toHex(text=settings['whisper']['topic']),\n",
    "    'symKeyID': settings['whisper']['symkey']\n",
    "})"
   ]
  },
  {
   "cell_type": "markdown",
   "metadata": {},
   "source": [
    "### MIDDLEWARE EVENT LOOP"
   ]
  },
  {
   "cell_type": "code",
   "execution_count": 6,
   "metadata": {
    "scrolled": false
   },
   "outputs": [
    {
     "name": "stdout",
     "output_type": "stream",
     "text": [
      "AWAITING EVENTS...\n",
      "\n",
      "\n",
      "THE PROCESS WAS MANUALLY KILLED\n"
     ]
    }
   ],
   "source": [
    "try:\n",
    "    print('AWAITING EVENTS...\\n')\n",
    "    \n",
    "    # DYNAMICALLY IMPORT THE ORACLE SOFTWARE\n",
    "    oracle_software = import_file('oracle/main.py')\n",
    "    func = oracle_software.perform_task\n",
    "\n",
    "    while(True):\n",
    "\n",
    "        # VARIABLE MODIFICATION EVENT\n",
    "        for event in modification_event.get_new_entries():\n",
    "            update_details()\n",
    "\n",
    "        # UPDATE MIDDLEWARE EVENT\n",
    "        for event in update_event.get_new_entries():\n",
    "            update_middleware()\n",
    "\n",
    "        # IF THE DEVICE IS SET TO ACTIVE\n",
    "        if (active):\n",
    "\n",
    "            # PERFORM TASKS IN BACKLOG\n",
    "            for task in backlog:\n",
    "                perform_task(task, func)\n",
    "\n",
    "        # IF THE DEVICE IS DISCOVERABLE\n",
    "        if (discoverable):\n",
    "\n",
    "            # TRACK WHISPER REQUESTS\n",
    "            for event in shh.getMessages(message_event):\n",
    "                process_message(event)\n",
    "\n",
    "except:\n",
    "    print('\\nTHE PROCESS WAS MANUALLY KILLED')             "
   ]
  },
  {
   "cell_type": "code",
   "execution_count": null,
   "metadata": {},
   "outputs": [],
   "source": []
  }
 ],
 "metadata": {
  "kernelspec": {
   "display_name": "Python 3",
   "language": "python",
   "name": "python3"
  },
  "language_info": {
   "codemirror_mode": {
    "name": "ipython",
    "version": 3
   },
   "file_extension": ".py",
   "mimetype": "text/x-python",
   "name": "python",
   "nbconvert_exporter": "python",
   "pygments_lexer": "ipython3",
   "version": "3.8.5"
  }
 },
 "nbformat": 4,
 "nbformat_minor": 2
}
