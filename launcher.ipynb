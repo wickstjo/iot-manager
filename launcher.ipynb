{
 "cells": [
  {
   "cell_type": "code",
   "execution_count": 1,
   "metadata": {},
   "outputs": [],
   "source": [
    "import subprocess\n",
    "import sys\n",
    "import time"
   ]
  },
  {
   "cell_type": "code",
   "execution_count": 2,
   "metadata": {},
   "outputs": [],
   "source": [
    "import ipynb.fs.full.utils as utils\n",
    "import ipynb.fs.full.blockchain as blockchain_utils\n",
    "import ipynb.fs.full.device as device_utils\n",
    "import ipynb.fs.full.oracle as oracle"
   ]
  },
  {
   "cell_type": "markdown",
   "metadata": {},
   "source": [
    "### LOAD RESOURCES"
   ]
  },
  {
   "cell_type": "code",
   "execution_count": 3,
   "metadata": {},
   "outputs": [],
   "source": [
    "settings = utils.load_yaml('config/settings.yaml')"
   ]
  },
  {
   "cell_type": "code",
   "execution_count": 4,
   "metadata": {},
   "outputs": [],
   "source": [
    "latest = utils.load_json('config/latest.json')"
   ]
  },
  {
   "cell_type": "code",
   "execution_count": 5,
   "metadata": {},
   "outputs": [],
   "source": [
    "device_info = utils.load_yaml('config/identifier.yaml')"
   ]
  },
  {
   "cell_type": "markdown",
   "metadata": {},
   "source": [
    "### CONNECT TO ETHEREUM GATEWAY"
   ]
  },
  {
   "cell_type": "code",
   "execution_count": 6,
   "metadata": {},
   "outputs": [
    {
     "ename": "KeyboardInterrupt",
     "evalue": "",
     "output_type": "error",
     "traceback": [
      "\u001b[1;31m---------------------------------------------------------------------------\u001b[0m",
      "\u001b[1;31mKeyboardInterrupt\u001b[0m                         Traceback (most recent call last)",
      "\u001b[1;32m<ipython-input-6-9f7687931fa4>\u001b[0m in \u001b[0;36m<module>\u001b[1;34m\u001b[0m\n\u001b[1;32m----> 1\u001b[1;33m \u001b[0mweb3\u001b[0m \u001b[1;33m=\u001b[0m \u001b[0mblockchain_utils\u001b[0m\u001b[1;33m.\u001b[0m\u001b[0mconnect\u001b[0m\u001b[1;33m(\u001b[0m\u001b[0msettings\u001b[0m\u001b[1;33m)\u001b[0m\u001b[1;33m\u001b[0m\u001b[1;33m\u001b[0m\u001b[0m\n\u001b[0m",
      "\u001b[1;32m~\\Desktop\\coding\\python\\iot-manager\\blockchain.ipynb\u001b[0m in \u001b[0;36mconnect\u001b[1;34m(settings)\u001b[0m\n\u001b[0;32m     21\u001b[0m   },\n\u001b[0;32m     22\u001b[0m   {\n\u001b[1;32m---> 23\u001b[1;33m    \u001b[1;34m\"cell_type\"\u001b[0m\u001b[1;33m:\u001b[0m \u001b[1;34m\"markdown\"\u001b[0m\u001b[1;33m,\u001b[0m\u001b[1;33m\u001b[0m\u001b[1;33m\u001b[0m\u001b[0m\n\u001b[0m\u001b[0;32m     24\u001b[0m    \u001b[1;34m\"metadata\"\u001b[0m\u001b[1;33m:\u001b[0m \u001b[1;33m{\u001b[0m\u001b[1;33m}\u001b[0m\u001b[1;33m,\u001b[0m\u001b[1;33m\u001b[0m\u001b[1;33m\u001b[0m\u001b[0m\n\u001b[0;32m     25\u001b[0m    \"source\": [\n",
      "\u001b[1;32m~\\AppData\\Roaming\\Python\\Python37\\site-packages\\web3\\main.py\u001b[0m in \u001b[0;36misConnected\u001b[1;34m(self)\u001b[0m\n\u001b[0;32m    258\u001b[0m \u001b[1;33m\u001b[0m\u001b[0m\n\u001b[0;32m    259\u001b[0m     \u001b[1;32mdef\u001b[0m \u001b[0misConnected\u001b[0m\u001b[1;33m(\u001b[0m\u001b[0mself\u001b[0m\u001b[1;33m)\u001b[0m \u001b[1;33m->\u001b[0m \u001b[0mbool\u001b[0m\u001b[1;33m:\u001b[0m\u001b[1;33m\u001b[0m\u001b[1;33m\u001b[0m\u001b[0m\n\u001b[1;32m--> 260\u001b[1;33m         \u001b[1;32mreturn\u001b[0m \u001b[0mself\u001b[0m\u001b[1;33m.\u001b[0m\u001b[0mprovider\u001b[0m\u001b[1;33m.\u001b[0m\u001b[0misConnected\u001b[0m\u001b[1;33m(\u001b[0m\u001b[1;33m)\u001b[0m\u001b[1;33m\u001b[0m\u001b[1;33m\u001b[0m\u001b[0m\n\u001b[0m\u001b[0;32m    261\u001b[0m \u001b[1;33m\u001b[0m\u001b[0m\n\u001b[0;32m    262\u001b[0m     \u001b[1;32mdef\u001b[0m \u001b[0mis_encodable\u001b[0m\u001b[1;33m(\u001b[0m\u001b[0mself\u001b[0m\u001b[1;33m,\u001b[0m \u001b[0m_type\u001b[0m\u001b[1;33m:\u001b[0m \u001b[0mTypeStr\u001b[0m\u001b[1;33m,\u001b[0m \u001b[0mvalue\u001b[0m\u001b[1;33m:\u001b[0m \u001b[0mAny\u001b[0m\u001b[1;33m)\u001b[0m \u001b[1;33m->\u001b[0m \u001b[0mbool\u001b[0m\u001b[1;33m:\u001b[0m\u001b[1;33m\u001b[0m\u001b[1;33m\u001b[0m\u001b[0m\n",
      "\u001b[1;32m~\\AppData\\Roaming\\Python\\Python37\\site-packages\\web3\\providers\\base.py\u001b[0m in \u001b[0;36misConnected\u001b[1;34m(self)\u001b[0m\n\u001b[0;32m    101\u001b[0m     \u001b[1;32mdef\u001b[0m \u001b[0misConnected\u001b[0m\u001b[1;33m(\u001b[0m\u001b[0mself\u001b[0m\u001b[1;33m)\u001b[0m \u001b[1;33m->\u001b[0m \u001b[0mbool\u001b[0m\u001b[1;33m:\u001b[0m\u001b[1;33m\u001b[0m\u001b[1;33m\u001b[0m\u001b[0m\n\u001b[0;32m    102\u001b[0m         \u001b[1;32mtry\u001b[0m\u001b[1;33m:\u001b[0m\u001b[1;33m\u001b[0m\u001b[1;33m\u001b[0m\u001b[0m\n\u001b[1;32m--> 103\u001b[1;33m             \u001b[0mresponse\u001b[0m \u001b[1;33m=\u001b[0m \u001b[0mself\u001b[0m\u001b[1;33m.\u001b[0m\u001b[0mmake_request\u001b[0m\u001b[1;33m(\u001b[0m\u001b[0mRPCEndpoint\u001b[0m\u001b[1;33m(\u001b[0m\u001b[1;34m'web3_clientVersion'\u001b[0m\u001b[1;33m)\u001b[0m\u001b[1;33m,\u001b[0m \u001b[1;33m[\u001b[0m\u001b[1;33m]\u001b[0m\u001b[1;33m)\u001b[0m\u001b[1;33m\u001b[0m\u001b[1;33m\u001b[0m\u001b[0m\n\u001b[0m\u001b[0;32m    104\u001b[0m         \u001b[1;32mexcept\u001b[0m \u001b[0mIOError\u001b[0m\u001b[1;33m:\u001b[0m\u001b[1;33m\u001b[0m\u001b[1;33m\u001b[0m\u001b[0m\n\u001b[0;32m    105\u001b[0m             \u001b[1;32mreturn\u001b[0m \u001b[1;32mFalse\u001b[0m\u001b[1;33m\u001b[0m\u001b[1;33m\u001b[0m\u001b[0m\n",
      "\u001b[1;32m~\\AppData\\Roaming\\Python\\Python37\\site-packages\\web3\\providers\\websocket.py\u001b[0m in \u001b[0;36mmake_request\u001b[1;34m(self, method, params)\u001b[0m\n\u001b[0;32m    137\u001b[0m             \u001b[0mWebsocketProvider\u001b[0m\u001b[1;33m.\u001b[0m\u001b[0m_loop\u001b[0m\u001b[1;33m\u001b[0m\u001b[1;33m\u001b[0m\u001b[0m\n\u001b[0;32m    138\u001b[0m         )\n\u001b[1;32m--> 139\u001b[1;33m         \u001b[1;32mreturn\u001b[0m \u001b[0mfuture\u001b[0m\u001b[1;33m.\u001b[0m\u001b[0mresult\u001b[0m\u001b[1;33m(\u001b[0m\u001b[1;33m)\u001b[0m\u001b[1;33m\u001b[0m\u001b[1;33m\u001b[0m\u001b[0m\n\u001b[0m",
      "\u001b[1;32m~\\Anaconda3\\lib\\concurrent\\futures\\_base.py\u001b[0m in \u001b[0;36mresult\u001b[1;34m(self, timeout)\u001b[0m\n\u001b[0;32m    428\u001b[0m                 \u001b[1;32mreturn\u001b[0m \u001b[0mself\u001b[0m\u001b[1;33m.\u001b[0m\u001b[0m__get_result\u001b[0m\u001b[1;33m(\u001b[0m\u001b[1;33m)\u001b[0m\u001b[1;33m\u001b[0m\u001b[1;33m\u001b[0m\u001b[0m\n\u001b[0;32m    429\u001b[0m \u001b[1;33m\u001b[0m\u001b[0m\n\u001b[1;32m--> 430\u001b[1;33m             \u001b[0mself\u001b[0m\u001b[1;33m.\u001b[0m\u001b[0m_condition\u001b[0m\u001b[1;33m.\u001b[0m\u001b[0mwait\u001b[0m\u001b[1;33m(\u001b[0m\u001b[0mtimeout\u001b[0m\u001b[1;33m)\u001b[0m\u001b[1;33m\u001b[0m\u001b[1;33m\u001b[0m\u001b[0m\n\u001b[0m\u001b[0;32m    431\u001b[0m \u001b[1;33m\u001b[0m\u001b[0m\n\u001b[0;32m    432\u001b[0m             \u001b[1;32mif\u001b[0m \u001b[0mself\u001b[0m\u001b[1;33m.\u001b[0m\u001b[0m_state\u001b[0m \u001b[1;32min\u001b[0m \u001b[1;33m[\u001b[0m\u001b[0mCANCELLED\u001b[0m\u001b[1;33m,\u001b[0m \u001b[0mCANCELLED_AND_NOTIFIED\u001b[0m\u001b[1;33m]\u001b[0m\u001b[1;33m:\u001b[0m\u001b[1;33m\u001b[0m\u001b[1;33m\u001b[0m\u001b[0m\n",
      "\u001b[1;32m~\\Anaconda3\\lib\\threading.py\u001b[0m in \u001b[0;36mwait\u001b[1;34m(self, timeout)\u001b[0m\n\u001b[0;32m    294\u001b[0m         \u001b[1;32mtry\u001b[0m\u001b[1;33m:\u001b[0m    \u001b[1;31m# restore state no matter what (e.g., KeyboardInterrupt)\u001b[0m\u001b[1;33m\u001b[0m\u001b[1;33m\u001b[0m\u001b[0m\n\u001b[0;32m    295\u001b[0m             \u001b[1;32mif\u001b[0m \u001b[0mtimeout\u001b[0m \u001b[1;32mis\u001b[0m \u001b[1;32mNone\u001b[0m\u001b[1;33m:\u001b[0m\u001b[1;33m\u001b[0m\u001b[1;33m\u001b[0m\u001b[0m\n\u001b[1;32m--> 296\u001b[1;33m                 \u001b[0mwaiter\u001b[0m\u001b[1;33m.\u001b[0m\u001b[0macquire\u001b[0m\u001b[1;33m(\u001b[0m\u001b[1;33m)\u001b[0m\u001b[1;33m\u001b[0m\u001b[1;33m\u001b[0m\u001b[0m\n\u001b[0m\u001b[0;32m    297\u001b[0m                 \u001b[0mgotit\u001b[0m \u001b[1;33m=\u001b[0m \u001b[1;32mTrue\u001b[0m\u001b[1;33m\u001b[0m\u001b[1;33m\u001b[0m\u001b[0m\n\u001b[0;32m    298\u001b[0m             \u001b[1;32melse\u001b[0m\u001b[1;33m:\u001b[0m\u001b[1;33m\u001b[0m\u001b[1;33m\u001b[0m\u001b[0m\n",
      "\u001b[1;31mKeyboardInterrupt\u001b[0m: "
     ]
    }
   ],
   "source": [
    "web3 = blockchain_utils.connect(settings)"
   ]
  },
  {
   "cell_type": "markdown",
   "metadata": {},
   "source": [
    "### EXTRACT THE WHISPER API"
   ]
  },
  {
   "cell_type": "code",
   "execution_count": null,
   "metadata": {},
   "outputs": [],
   "source": [
    "shh = web3.geth.shh"
   ]
  },
  {
   "cell_type": "markdown",
   "metadata": {},
   "source": [
    "### GENERATE A FRESH WHISPER ID"
   ]
  },
  {
   "cell_type": "code",
   "execution_count": null,
   "metadata": {},
   "outputs": [],
   "source": [
    "whisper_id = shh.newKeyPair()"
   ]
  },
  {
   "cell_type": "markdown",
   "metadata": {},
   "source": [
    "### CREATE DEVICE OUTLINE"
   ]
  },
  {
   "cell_type": "code",
   "execution_count": null,
   "metadata": {},
   "outputs": [],
   "source": [
    "oracle = device_utils.create(device_info)"
   ]
  },
  {
   "cell_type": "markdown",
   "metadata": {},
   "source": [
    "### SERIALIZE NECESSARY MANAGER CONTRACTS"
   ]
  },
  {
   "cell_type": "code",
   "execution_count": null,
   "metadata": {},
   "outputs": [],
   "source": [
    "oracle_manager = blockchain_utils.contract(latest['oraclemanager'], web3, settings)"
   ]
  },
  {
   "cell_type": "code",
   "execution_count": null,
   "metadata": {},
   "outputs": [],
   "source": [
    "task_manager = blockchain_utils.contract(latest['taskmanager'], web3, settings)"
   ]
  },
  {
   "cell_type": "markdown",
   "metadata": {},
   "source": [
    "### FETCH & SERIALIZE ORACLE CONTRACT"
   ]
  },
  {
   "cell_type": "code",
   "execution_count": null,
   "metadata": {},
   "outputs": [],
   "source": [
    "temp_contract = blockchain_utils.contract({\n",
    "    'address': oracle_manager.read({\n",
    "        'func': 'fetch_oracle',\n",
    "        'params': oracle.hash\n",
    "    }),\n",
    "    'abi': latest['oracle']['abi']\n",
    "}, web3, settings)"
   ]
  },
  {
   "cell_type": "markdown",
   "metadata": {},
   "source": [
    "### VERIFY ORACLE CONTRACT EXISTENCE"
   ]
  },
  {
   "cell_type": "code",
   "execution_count": null,
   "metadata": {},
   "outputs": [],
   "source": [
    "if temp_contract.address != '0x0000000000000000000000000000000000000000':\n",
    "    oracle.set_contract(temp_contract)\n",
    "    \n",
    "else:\n",
    "    log('THE ORACLE IS NOT REGISTERED, ABORTING...')\n",
    "    sys.exit(0)"
   ]
  },
  {
   "cell_type": "markdown",
   "metadata": {},
   "source": [
    "### GLOBAL TASK BACKLOG"
   ]
  },
  {
   "cell_type": "code",
   "execution_count": null,
   "metadata": {},
   "outputs": [],
   "source": [
    "raw = oracle.read('details')[5]\n",
    "backlog = utils.filter_backlog(raw)"
   ]
  },
  {
   "cell_type": "markdown",
   "metadata": {},
   "source": [
    "### GLOBAL ACTIVE STATUS "
   ]
  },
  {
   "cell_type": "code",
   "execution_count": null,
   "metadata": {},
   "outputs": [],
   "source": [
    "active = oracle.read('active')"
   ]
  },
  {
   "cell_type": "markdown",
   "metadata": {},
   "source": [
    "### GLOBAL DISCOVERY STATUS"
   ]
  },
  {
   "cell_type": "code",
   "execution_count": null,
   "metadata": {},
   "outputs": [],
   "source": [
    "discoverable = oracle.read('discoverable')"
   ]
  },
  {
   "cell_type": "markdown",
   "metadata": {},
   "source": [
    "### GLOBAL DISCOVERY CONFIG"
   ]
  },
  {
   "cell_type": "code",
   "execution_count": null,
   "metadata": {},
   "outputs": [],
   "source": [
    "encoded = oracle.read('config')"
   ]
  },
  {
   "cell_type": "code",
   "execution_count": null,
   "metadata": {
    "scrolled": true
   },
   "outputs": [],
   "source": [
    "discovery_config = utils.decode(encoded)"
   ]
  },
  {
   "cell_type": "markdown",
   "metadata": {},
   "source": [
    "### UDATE DEVICE STATUS & DETAILS"
   ]
  },
  {
   "cell_type": "code",
   "execution_count": null,
   "metadata": {},
   "outputs": [],
   "source": [
    "def update_details(event):\n",
    "    \n",
    "    # FETCH GLOBAL VARS\n",
    "    global active\n",
    "    global discoverable\n",
    "    global discovery_config\n",
    "    global backlog\n",
    "    \n",
    "    # EXTRACT RELEVANT VALUES\n",
    "    latest_active = event['args']['active']\n",
    "    latest_discoverable = event['args']['discoverable']\n",
    "    latest_config = decode(event['args']['config'])\n",
    "\n",
    "    # IF ACTIVE STATUS HAS CHANGED\n",
    "    if (latest_active != active):\n",
    "        \n",
    "        # UPDATE ACTIVE STATUS\n",
    "        active = latest_active\n",
    "        \n",
    "        # SEND MSG\n",
    "        utils.log('ACTIVE STATUS CHANGED TO: ' + str(latest_active))\n",
    "        \n",
    "    # IF DISCOVERABLE STATUS HAS CHANGED\n",
    "    if (latest_discoverable != discoverable):\n",
    "        \n",
    "        # UPDATE ACTIVE STATUS\n",
    "        discoverable = latest_discoverable\n",
    "        \n",
    "        # SEND MSG\n",
    "        utils.log('DISCOVERABLE STATUS CHANGED TO: ' + str(latest_discoverable))\n",
    "        \n",
    "    # IF DISCOVERABLE STATUS HAS CHANGED\n",
    "    if (latest_config != discovery_config):\n",
    "        \n",
    "        # UPDATE ACTIVE STATUS\n",
    "        discovery_config = latest_config\n",
    "        \n",
    "        # SEND MSG\n",
    "        log('DISCOVERY CONFIG CHANGED')\n",
    "        \n",
    "    # UPDATE BACKLOG\n",
    "    raw_backlog = event['args']['backlog']\n",
    "    backlog = filter_backlog(raw_backlog)"
   ]
  },
  {
   "cell_type": "code",
   "execution_count": null,
   "metadata": {},
   "outputs": [],
   "source": [
    "def update_middleware():\n",
    "    \n",
    "    # PRINT REACTION\n",
    "    utils.log('MIDDLEWARE UPDATE TRIGGERED')\n",
    "\n",
    "    # TRIGGER UPDATE SCRIPT\n",
    "    # subprocess.call('./patcher')\n",
    "\n",
    "    # CLOSE LANCHER\n",
    "    # sys.exit(0)"
   ]
  },
  {
   "cell_type": "code",
   "execution_count": null,
   "metadata": {},
   "outputs": [],
   "source": [
    "def perform_task(task):\n",
    "    \n",
    "    # SHOW MSG\n",
    "    utils.log('STARTING TASK: ' + task)\n",
    "\n",
    "    # PERFORM ORACLE TASK\n",
    "    result = oracle.perform_task(task)\n",
    "\n",
    "    # SUBMIT THE TASK RESULT\n",
    "    task_manager.write({\n",
    "        'func': 'complete',\n",
    "        'params': [task, result]\n",
    "    })\n",
    "\n",
    "    # SHOW MSG\n",
    "    utils.log('TASK COMPLETED')"
   ]
  },
  {
   "cell_type": "code",
   "execution_count": null,
   "metadata": {},
   "outputs": [],
   "source": [
    "def process_message(event):\n",
    "\n",
    "    # SERIALIZE EVENT PARAMS\n",
    "    author = blockchain.toHex(event['sig'])\n",
    "    payload = blockchain.toText(event['payload'])\n",
    "\n",
    "    # DECODE THE PAYLOAD\n",
    "    data = decode(payload)\n",
    "    \n",
    "    # REQUIRED KEYS FOR VALID MESSAGE\n",
    "    required = ['type', 'discovery']\n",
    "\n",
    "    # DECODED KEYS\n",
    "    keys = list(data.keys())\n",
    "    \n",
    "    # THE REQUEST KEYWORD FOR THE PAYLOAD TYPE\n",
    "    keyword = 'request'\n",
    "    \n",
    "    # IF THE KEYSETS MATCH & THE TYPE IS A REQUEST\n",
    "    if (required == keys and data['type'] == keyword):\n",
    "        \n",
    "        # CHECK MATCHES IN DISCOVERY PARAMS\n",
    "        discovery_result = compare_discovery(data['discovery'], discovery_config)\n",
    "        \n",
    "        # IF EVERYTHING MATCHED\n",
    "        if (discovery_result.count(False) == 0):\n",
    "            \n",
    "            # SHOW MSG\n",
    "            utils.log('DISCOVERY REQUEST DETECTED')\n",
    "            \n",
    "            # ENCODE A JSON RESPONSE\n",
    "            response = encode({\n",
    "                'type': 'response',\n",
    "                'source': payload,\n",
    "                'device': device.hash\n",
    "            })\n",
    "            \n",
    "            # SLEEP FOR 2 SECONDS\n",
    "            time.sleep(2)\n",
    "\n",
    "            # RESPOND TO REQUEST\n",
    "            shh.post({\n",
    "                'symKeyID': settings['whisper']['symkey'],\n",
    "                'payload': blockchain.toHex(text=response),\n",
    "                'topic': blockchain.toHex(text=settings['whisper']['topic']),\n",
    "                'sig': whisper_id,\n",
    "                'powTarget': 2.5,\n",
    "                'powTime': 2\n",
    "            })"
   ]
  },
  {
   "cell_type": "markdown",
   "metadata": {},
   "source": [
    "### CONTRACT EVENTS"
   ]
  },
  {
   "cell_type": "code",
   "execution_count": null,
   "metadata": {},
   "outputs": [],
   "source": [
    "update_event = oracle.event('middleware')"
   ]
  },
  {
   "cell_type": "code",
   "execution_count": null,
   "metadata": {},
   "outputs": [],
   "source": [
    "modification_event = oracle.event('modification')"
   ]
  },
  {
   "cell_type": "code",
   "execution_count": null,
   "metadata": {},
   "outputs": [],
   "source": [
    "message_event = shh.newMessageFilter({\n",
    "    'topic': web3.toHex(text=settings['whisper']['topic']),\n",
    "    'symKeyID': settings['whisper']['symkey']\n",
    "})"
   ]
  },
  {
   "cell_type": "markdown",
   "metadata": {},
   "source": [
    "### EVENT LOOP"
   ]
  },
  {
   "cell_type": "code",
   "execution_count": null,
   "metadata": {},
   "outputs": [],
   "source": [
    "try:\n",
    "    utils.log('AWAITING EVENTS...\\n')\n",
    "    \n",
    "    while(True):\n",
    "    \n",
    "        # FETCH THE GLOBAL PARAMS\n",
    "        global backlog\n",
    "        global active\n",
    "        global discoverable\n",
    "\n",
    "        # VARIABLE MODIFICATION EVENT\n",
    "        for event in modification_event.get_new_entries():\n",
    "            update_details(event)\n",
    "\n",
    "        # UPDATE MIDDLEWARE EVENT\n",
    "        for event in update_event.get_new_entries():\n",
    "            update_middleware()\n",
    "\n",
    "        # IF THE DEVICE IS SET TO ACTIVE\n",
    "        if (active):\n",
    "\n",
    "            # PERFORM TASKS IN BACKLOG\n",
    "            for task in backlog:\n",
    "                perform_task(task)\n",
    "        \n",
    "        # IF THE DEVICE IS DISCOVERABLE\n",
    "        if (discoverable):\n",
    "            \n",
    "            # TRACK WHISPER REQUESTS\n",
    "            for event in shh.getMessages(message_event):\n",
    "                process_message(event)\n",
    "        \n",
    "# KILL PROCESS\n",
    "except:\n",
    "    utils.log('THE PROCESS WAS MANUALLY KILLED!')"
   ]
  },
  {
   "cell_type": "code",
   "execution_count": null,
   "metadata": {},
   "outputs": [],
   "source": []
  }
 ],
 "metadata": {
  "kernelspec": {
   "display_name": "Python 3",
   "language": "python",
   "name": "python3"
  },
  "language_info": {
   "codemirror_mode": {
    "name": "ipython",
    "version": 3
   },
   "file_extension": ".py",
   "mimetype": "text/x-python",
   "name": "python",
   "nbconvert_exporter": "python",
   "pygments_lexer": "ipython3",
   "version": "3.7.9"
  }
 },
 "nbformat": 4,
 "nbformat_minor": 2
}
