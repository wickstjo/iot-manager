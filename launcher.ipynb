{
 "cells": [
  {
   "cell_type": "markdown",
   "metadata": {},
   "source": [
    "### IMPORTS"
   ]
  },
  {
   "cell_type": "code",
   "execution_count": 1,
   "metadata": {},
   "outputs": [],
   "source": [
    "import json\n",
    "import base64\n",
    "import hashlib\n",
    "import pkg_resources.py2_warn"
   ]
  },
  {
   "cell_type": "code",
   "execution_count": 2,
   "metadata": {},
   "outputs": [],
   "source": [
    "from web3 import Web3"
   ]
  },
  {
   "cell_type": "code",
   "execution_count": 3,
   "metadata": {},
   "outputs": [],
   "source": [
    "import subprocess\n",
    "import sys"
   ]
  },
  {
   "cell_type": "code",
   "execution_count": 4,
   "metadata": {},
   "outputs": [
    {
     "name": "stdout",
     "output_type": "stream",
     "text": [
      "[X] Booting up...\n"
     ]
    }
   ],
   "source": [
    "print('[X] Booting up...')"
   ]
  },
  {
   "cell_type": "markdown",
   "metadata": {},
   "source": [
    "### LOAD DATA FROM EXTERNAL FILES"
   ]
  },
  {
   "cell_type": "code",
   "execution_count": 5,
   "metadata": {},
   "outputs": [],
   "source": [
    "with open('config/settings.json') as json_file:\n",
    "    settings = json.load(json_file)"
   ]
  },
  {
   "cell_type": "code",
   "execution_count": 6,
   "metadata": {},
   "outputs": [],
   "source": [
    "with open('config/identifier.json') as json_file:\n",
    "    device_info = json.load(json_file)"
   ]
  },
  {
   "cell_type": "code",
   "execution_count": 7,
   "metadata": {},
   "outputs": [],
   "source": [
    "with open('config/latest.json') as json_file:\n",
    "    latest = json.load(json_file)"
   ]
  },
  {
   "cell_type": "code",
   "execution_count": 8,
   "metadata": {},
   "outputs": [],
   "source": [
    "# TODO: GENERATE FILES IF THEY DONT EXIST"
   ]
  },
  {
   "cell_type": "markdown",
   "metadata": {},
   "source": [
    "### IPFS & BLOCKCHAIN GATEWAY CONNECTIONS"
   ]
  },
  {
   "cell_type": "code",
   "execution_count": 9,
   "metadata": {},
   "outputs": [],
   "source": [
    "class gateway:\n",
    "    def __init__(self, foo):\n",
    "        self.host = foo['host']\n",
    "        self.port = foo['port']"
   ]
  },
  {
   "cell_type": "code",
   "execution_count": 10,
   "metadata": {},
   "outputs": [],
   "source": [
    "blockchain = gateway(settings['gateways']['blockchain'])"
   ]
  },
  {
   "cell_type": "code",
   "execution_count": 11,
   "metadata": {},
   "outputs": [
    {
     "name": "stdout",
     "output_type": "stream",
     "text": [
      "[X] Gateway set!\n"
     ]
    }
   ],
   "source": [
    "print('[X] Gateway set!')"
   ]
  },
  {
   "cell_type": "markdown",
   "metadata": {},
   "source": [
    "### BLOCKCHAIN PUBLIC/PRIVATE KEYS"
   ]
  },
  {
   "cell_type": "code",
   "execution_count": 12,
   "metadata": {},
   "outputs": [],
   "source": [
    "class keypair:\n",
    "    def __init__(self, foo):\n",
    "        self.public = foo['public']\n",
    "        self.private = foo['private']"
   ]
  },
  {
   "cell_type": "code",
   "execution_count": 13,
   "metadata": {},
   "outputs": [],
   "source": [
    "keys = keypair(settings['keys'])"
   ]
  },
  {
   "cell_type": "code",
   "execution_count": 14,
   "metadata": {},
   "outputs": [
    {
     "name": "stdout",
     "output_type": "stream",
     "text": [
      "[X] Keys set!\n"
     ]
    }
   ],
   "source": [
    "print('[X] Keys set!')"
   ]
  },
  {
   "cell_type": "markdown",
   "metadata": {},
   "source": [
    "### HASH DEVICE INFO FOR IDENTIFIER"
   ]
  },
  {
   "cell_type": "code",
   "execution_count": 15,
   "metadata": {},
   "outputs": [],
   "source": [
    "def hash_id(data):\n",
    "    \n",
    "    # CONVERT TO BYTES\n",
    "    to_bytes = str.encode(str(data))\n",
    "    \n",
    "    # HASH ENCODED DATA\n",
    "    hashed = hashlib.sha224(to_bytes).hexdigest()\n",
    "    \n",
    "    return hashed"
   ]
  },
  {
   "cell_type": "code",
   "execution_count": 16,
   "metadata": {},
   "outputs": [],
   "source": [
    "class create_device():\n",
    "    def __init__(self):\n",
    "        self.name = device_info['Name']\n",
    "        self.hash = hash_id(device_info)\n",
    "    \n",
    "    # LOCATE & SET DEVICE CONTRACT ADDRESS\n",
    "    def set_contract(self, _contract):\n",
    "        self.contract = _contract\n",
    "    \n",
    "    # REDIRECT TO SMART CONTRACT INTERFACE\n",
    "    def read(self, details):\n",
    "        return self.contract.read(details)\n",
    "    \n",
    "    # REDIRECT TO SMART CONTRACT INTERFACE\n",
    "    def write(self, details):\n",
    "        return self.contract.write(details)\n",
    "    \n",
    "    # REDIRECT TO SMART CONTRACT INTERFACE\n",
    "    def event(self, name):\n",
    "        return self.contract.event(name)"
   ]
  },
  {
   "cell_type": "code",
   "execution_count": 17,
   "metadata": {},
   "outputs": [],
   "source": [
    "device = create_device()"
   ]
  },
  {
   "cell_type": "code",
   "execution_count": 18,
   "metadata": {},
   "outputs": [
    {
     "name": "stdout",
     "output_type": "stream",
     "text": [
      "[X] Device identifier hashed!\n"
     ]
    }
   ],
   "source": [
    "print('[X] Device identifier hashed!')"
   ]
  },
  {
   "cell_type": "markdown",
   "metadata": {},
   "source": [
    "### CONNECT TO CHAIN VIA WEBSOCKET"
   ]
  },
  {
   "cell_type": "code",
   "execution_count": 19,
   "metadata": {},
   "outputs": [],
   "source": [
    "web3 = Web3(Web3.WebsocketProvider('ws://' + blockchain.host + ':' + blockchain.port))"
   ]
  },
  {
   "cell_type": "code",
   "execution_count": 20,
   "metadata": {},
   "outputs": [
    {
     "name": "stdout",
     "output_type": "stream",
     "text": [
      "[X] Connected with gateway!\n"
     ]
    }
   ],
   "source": [
    "if web3.isConnected():\n",
    "    print('[X] Connected with gateway!')\n",
    "else:\n",
    "    print('[ ] Could not connect to gateway!')\n",
    "    exit"
   ]
  },
  {
   "cell_type": "markdown",
   "metadata": {},
   "source": [
    "### CONSTRUCT SMART CONTRACT INTERFACE"
   ]
  },
  {
   "cell_type": "code",
   "execution_count": 21,
   "metadata": {},
   "outputs": [],
   "source": [
    "class contract:\n",
    "    \n",
    "    # ON LOAD..\n",
    "    def __init__(self, block):\n",
    "        \n",
    "        # CONSTRUCT USABLE CONTRACT\n",
    "        self.contract = web3.eth.contract(\n",
    "            address = block['address'],\n",
    "            abi = block['abi']\n",
    "        )\n",
    "        \n",
    "        # SET ADDRESS REFERENCE\n",
    "        self.address = block['address']\n",
    "    \n",
    "    # READ FROM CONTRACT\n",
    "    def read(self, details):\n",
    "        \n",
    "        # WITH PARAMS\n",
    "        if ('params' in details):\n",
    "            return self.contract.functions[details['func']](details['params']).call()\n",
    "        \n",
    "        # WITHOUT PARAMS\n",
    "        else:\n",
    "            return self.contract.functions[details]().call()\n",
    "    \n",
    "    # WRITE TO CONTRACT\n",
    "    def write(self, details):\n",
    "        try:\n",
    "            \n",
    "            # CREATE BASE TRANSACTION\n",
    "            tx = {\n",
    "                'from': keys.public,\n",
    "                'to': self.contract.address,\n",
    "                'data': self.contract.encodeABI(\n",
    "                    fn_name = details['func'],\n",
    "                    args = details['params']\n",
    "                )\n",
    "            }\n",
    "            \n",
    "            # ESTIMATE GAS VALUE & STITCH IN REMAINING PROPS\n",
    "            tx['gas'] = web3.eth.estimateGas(tx)\n",
    "            tx['gasPrice'] = web3.toWei(20, 'gwei')\n",
    "            tx['nonce'] = web3.eth.getTransactionCount(keys.public)\n",
    "\n",
    "            # SIGN TRANSCTION WITH PRIVATE KEY\n",
    "            signed = web3.eth.account.sign_transaction(tx,\n",
    "                private_key = keys.private\n",
    "            )\n",
    "\n",
    "            # SEND THE TRANSACTION\n",
    "            web3.eth.sendRawTransaction(signed.rawTransaction)\n",
    "\n",
    "            # SUCCESS\n",
    "            return True\n",
    "        \n",
    "        # IF THE TRANSACTION IS REVERTED, SHOW ERROR\n",
    "        except ValueError as error:\n",
    "            return error\n",
    "    \n",
    "    # EVENT FILTER\n",
    "    def event(self, name):\n",
    "        return self.contract.events[name].createFilter(fromBlock=\"latest\")"
   ]
  },
  {
   "cell_type": "markdown",
   "metadata": {},
   "source": [
    "### STITCH TOGETHER MANAGER CONTRACTS"
   ]
  },
  {
   "cell_type": "code",
   "execution_count": 22,
   "metadata": {},
   "outputs": [],
   "source": [
    "user_manager = contract(latest['usermanager'])"
   ]
  },
  {
   "cell_type": "code",
   "execution_count": 23,
   "metadata": {},
   "outputs": [],
   "source": [
    "device_manager = contract(latest['devicemanager'])"
   ]
  },
  {
   "cell_type": "code",
   "execution_count": 24,
   "metadata": {},
   "outputs": [],
   "source": [
    "task_manager = contract(latest['taskmanager'])"
   ]
  },
  {
   "cell_type": "code",
   "execution_count": 25,
   "metadata": {},
   "outputs": [],
   "source": [
    "token_manager = contract(latest['tokenmanager'])"
   ]
  },
  {
   "cell_type": "code",
   "execution_count": 26,
   "metadata": {
    "scrolled": true
   },
   "outputs": [
    {
     "name": "stdout",
     "output_type": "stream",
     "text": [
      "[X] Manager contracts set!\n"
     ]
    }
   ],
   "source": [
    "print('[X] Manager contracts set!')"
   ]
  },
  {
   "cell_type": "markdown",
   "metadata": {},
   "source": [
    "### CONTRUCT DEVICE CONTRACT INTERFACE"
   ]
  },
  {
   "cell_type": "code",
   "execution_count": 27,
   "metadata": {},
   "outputs": [],
   "source": [
    "temp_contract = contract({\n",
    "    'address': device_manager.read({\n",
    "        'func': 'fetch_device',\n",
    "        'params': device.hash\n",
    "    }),\n",
    "    'abi': latest['device']['abi']\n",
    "})"
   ]
  },
  {
   "cell_type": "code",
   "execution_count": 28,
   "metadata": {},
   "outputs": [],
   "source": [
    "device.set_contract(temp_contract)"
   ]
  },
  {
   "cell_type": "code",
   "execution_count": 29,
   "metadata": {
    "scrolled": true
   },
   "outputs": [
    {
     "name": "stdout",
     "output_type": "stream",
     "text": [
      "[X] Device interface set!\n"
     ]
    }
   ],
   "source": [
    "print('[X] Device interface set!')"
   ]
  },
  {
   "cell_type": "markdown",
   "metadata": {},
   "source": [
    "### SUBSCRIBE TO UPDATE EVENTS"
   ]
  },
  {
   "cell_type": "code",
   "execution_count": 30,
   "metadata": {
    "scrolled": true
   },
   "outputs": [
    {
     "name": "stdout",
     "output_type": "stream",
     "text": [
      "[X] Listening for events...\n",
      "\n"
     ]
    }
   ],
   "source": [
    "print('[X] Listening for events...\\n')"
   ]
  },
  {
   "cell_type": "code",
   "execution_count": 31,
   "metadata": {},
   "outputs": [],
   "source": [
    "update_event = device.event('Update')"
   ]
  },
  {
   "cell_type": "code",
   "execution_count": null,
   "metadata": {
    "scrolled": true
   },
   "outputs": [
    {
     "name": "stdout",
     "output_type": "stream",
     "text": [
      "Update event triggered!\n",
      "Update event triggered!\n",
      "Update event triggered!\n"
     ]
    }
   ],
   "source": [
    "while(True):\n",
    "    for event in update_event.get_new_entries():\n",
    "    \n",
    "        # PRINT REACTION\n",
    "        print('Update event triggered!')\n",
    "        \n",
    "        # TRIGGER UPDATE SCRIPT\n",
    "        # subprocess.call('./patcher')\n",
    "              \n",
    "        # CLOSE LANCHER\n",
    "        # sys.exit(0)"
   ]
  },
  {
   "cell_type": "code",
   "execution_count": null,
   "metadata": {},
   "outputs": [],
   "source": []
  }
 ],
 "metadata": {
  "kernelspec": {
   "display_name": "Python 3",
   "language": "python",
   "name": "python3"
  },
  "language_info": {
   "codemirror_mode": {
    "name": "ipython",
    "version": 3
   },
   "file_extension": ".py",
   "mimetype": "text/x-python",
   "name": "python",
   "nbconvert_exporter": "python",
   "pygments_lexer": "ipython3",
   "version": "3.7.7"
  }
 },
 "nbformat": 4,
 "nbformat_minor": 2
}
