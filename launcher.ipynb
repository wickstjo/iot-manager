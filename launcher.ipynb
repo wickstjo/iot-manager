{
 "cells": [
  {
   "cell_type": "code",
   "execution_count": 1,
   "metadata": {},
   "outputs": [],
   "source": [
    "import subprocess\n",
    "import sys\n",
    "import time\n",
    "import nbimporter"
   ]
  },
  {
   "cell_type": "code",
   "execution_count": 2,
   "metadata": {},
   "outputs": [
    {
     "name": "stdout",
     "output_type": "stream",
     "text": [
      "Importing Jupyter notebook from utils.ipynb\n",
      "Importing Jupyter notebook from blockchain.ipynb\n",
      "Importing Jupyter notebook from device.ipynb\n",
      "Importing Jupyter notebook from oracle.ipynb\n"
     ]
    }
   ],
   "source": [
    "import utils as utils\n",
    "import blockchain as blockchain_utils\n",
    "import device as device_utils\n",
    "import oracle as oracle"
   ]
  },
  {
   "cell_type": "markdown",
   "metadata": {},
   "source": [
    "### LOAD RESOURCES"
   ]
  },
  {
   "cell_type": "code",
   "execution_count": 3,
   "metadata": {},
   "outputs": [],
   "source": [
    "settings = utils.load_yaml('config/settings.yaml')"
   ]
  },
  {
   "cell_type": "code",
   "execution_count": 4,
   "metadata": {},
   "outputs": [],
   "source": [
    "latest = utils.load_json('config/latest.json')"
   ]
  },
  {
   "cell_type": "code",
   "execution_count": 5,
   "metadata": {},
   "outputs": [],
   "source": [
    "device_info = utils.load_yaml('config/identifier.yaml')"
   ]
  },
  {
   "cell_type": "markdown",
   "metadata": {},
   "source": [
    "### CONNECT TO ETHEREUM GATEWAY"
   ]
  },
  {
   "cell_type": "code",
   "execution_count": 6,
   "metadata": {},
   "outputs": [],
   "source": [
    "web3 = blockchain_utils.connect(settings)"
   ]
  },
  {
   "cell_type": "markdown",
   "metadata": {},
   "source": [
    "### EXTRACT THE WHISPER API"
   ]
  },
  {
   "cell_type": "code",
   "execution_count": 7,
   "metadata": {},
   "outputs": [],
   "source": [
    "shh = web3.geth.shh"
   ]
  },
  {
   "cell_type": "markdown",
   "metadata": {},
   "source": [
    "### GENERATE A FRESH WHISPER ID"
   ]
  },
  {
   "cell_type": "code",
   "execution_count": 8,
   "metadata": {},
   "outputs": [],
   "source": [
    "whisper_id = shh.newKeyPair()"
   ]
  },
  {
   "cell_type": "markdown",
   "metadata": {},
   "source": [
    "### CREATE DEVICE OUTLINE"
   ]
  },
  {
   "cell_type": "code",
   "execution_count": 9,
   "metadata": {},
   "outputs": [],
   "source": [
    "oracle = device_utils.create(device_info)"
   ]
  },
  {
   "cell_type": "markdown",
   "metadata": {},
   "source": [
    "### SERIALIZE NECESSARY MANAGER CONTRACTS"
   ]
  },
  {
   "cell_type": "code",
   "execution_count": 10,
   "metadata": {},
   "outputs": [],
   "source": [
    "oracle_manager = blockchain_utils.contract(latest['oraclemanager'], web3, settings)"
   ]
  },
  {
   "cell_type": "code",
   "execution_count": 11,
   "metadata": {},
   "outputs": [],
   "source": [
    "task_manager = blockchain_utils.contract(latest['taskmanager'], web3, settings)"
   ]
  },
  {
   "cell_type": "markdown",
   "metadata": {},
   "source": [
    "### FETCH & SERIALIZE ORACLE CONTRACT"
   ]
  },
  {
   "cell_type": "code",
   "execution_count": 12,
   "metadata": {},
   "outputs": [],
   "source": [
    "temp_contract = blockchain_utils.contract({\n",
    "    'address': oracle_manager.read({\n",
    "        'func': 'fetch_oracle',\n",
    "        'params': oracle.hash\n",
    "    }),\n",
    "    'abi': latest['oracle']['abi']\n",
    "}, web3, settings)"
   ]
  },
  {
   "cell_type": "markdown",
   "metadata": {},
   "source": [
    "### VERIFY ORACLE CONTRACT EXISTENCE"
   ]
  },
  {
   "cell_type": "code",
   "execution_count": 13,
   "metadata": {},
   "outputs": [],
   "source": [
    "if temp_contract.address != '0x0000000000000000000000000000000000000000':\n",
    "    oracle.set_contract(temp_contract)\n",
    "    \n",
    "else:\n",
    "    log('THE ORACLE IS NOT REGISTERED, ABORTING...')\n",
    "    sys.exit(0)"
   ]
  },
  {
   "cell_type": "markdown",
   "metadata": {},
   "source": [
    "### GLOBAL TASK BACKLOG"
   ]
  },
  {
   "cell_type": "code",
   "execution_count": 14,
   "metadata": {},
   "outputs": [],
   "source": [
    "raw = oracle.read('details')[5]\n",
    "backlog = utils.filter_backlog(raw)"
   ]
  },
  {
   "cell_type": "markdown",
   "metadata": {},
   "source": [
    "### GLOBAL ACTIVE STATUS "
   ]
  },
  {
   "cell_type": "code",
   "execution_count": 15,
   "metadata": {},
   "outputs": [],
   "source": [
    "active = oracle.read('active')"
   ]
  },
  {
   "cell_type": "markdown",
   "metadata": {},
   "source": [
    "### GLOBAL DISCOVERY STATUS"
   ]
  },
  {
   "cell_type": "code",
   "execution_count": 16,
   "metadata": {},
   "outputs": [],
   "source": [
    "discoverable = oracle.read('discoverable')"
   ]
  },
  {
   "cell_type": "markdown",
   "metadata": {},
   "source": [
    "### GLOBAL DISCOVERY CONFIG"
   ]
  },
  {
   "cell_type": "code",
   "execution_count": 17,
   "metadata": {},
   "outputs": [],
   "source": [
    "encoded = oracle.read('config')"
   ]
  },
  {
   "cell_type": "code",
   "execution_count": 18,
   "metadata": {
    "scrolled": true
   },
   "outputs": [],
   "source": [
    "discovery_config = utils.decode(encoded)"
   ]
  },
  {
   "cell_type": "markdown",
   "metadata": {},
   "source": [
    "### UDATE DEVICE STATUS & DETAILS"
   ]
  },
  {
   "cell_type": "code",
   "execution_count": 19,
   "metadata": {},
   "outputs": [],
   "source": [
    "def update_details(event):\n",
    "    \n",
    "    # FETCH GLOBAL VARS\n",
    "    global active\n",
    "    global discoverable\n",
    "    global discovery_config\n",
    "    global backlog\n",
    "    \n",
    "    # EXTRACT RELEVANT VALUES\n",
    "    latest_active = event['args']['active']\n",
    "    latest_discoverable = event['args']['discoverable']\n",
    "    latest_config = decode(event['args']['config'])\n",
    "\n",
    "    # IF ACTIVE STATUS HAS CHANGED\n",
    "    if (latest_active != active):\n",
    "        \n",
    "        # UPDATE ACTIVE STATUS\n",
    "        active = latest_active\n",
    "        \n",
    "        # SEND MSG\n",
    "        utils.log('ACTIVE STATUS CHANGED TO: ' + str(latest_active))\n",
    "        \n",
    "    # IF DISCOVERABLE STATUS HAS CHANGED\n",
    "    if (latest_discoverable != discoverable):\n",
    "        \n",
    "        # UPDATE ACTIVE STATUS\n",
    "        discoverable = latest_discoverable\n",
    "        \n",
    "        # SEND MSG\n",
    "        utils.log('DISCOVERABLE STATUS CHANGED TO: ' + str(latest_discoverable))\n",
    "        \n",
    "    # IF DISCOVERABLE STATUS HAS CHANGED\n",
    "    if (latest_config != discovery_config):\n",
    "        \n",
    "        # UPDATE ACTIVE STATUS\n",
    "        discovery_config = latest_config\n",
    "        \n",
    "        # SEND MSG\n",
    "        log('DISCOVERY CONFIG CHANGED')\n",
    "        \n",
    "    # UPDATE BACKLOG\n",
    "    raw_backlog = event['args']['backlog']\n",
    "    backlog = filter_backlog(raw_backlog)"
   ]
  },
  {
   "cell_type": "code",
   "execution_count": 20,
   "metadata": {},
   "outputs": [],
   "source": [
    "def update_middleware():\n",
    "    \n",
    "    # PRINT REACTION\n",
    "    utils.log('MIDDLEWARE UPDATE TRIGGERED')\n",
    "\n",
    "    # TRIGGER UPDATE SCRIPT\n",
    "    # subprocess.call('./patcher')\n",
    "\n",
    "    # CLOSE LANCHER\n",
    "    # sys.exit(0)"
   ]
  },
  {
   "cell_type": "code",
   "execution_count": 21,
   "metadata": {},
   "outputs": [],
   "source": [
    "def perform_task(task):\n",
    "    \n",
    "    # SHOW MSG\n",
    "    utils.log('STARTING TASK: ' + task)\n",
    "\n",
    "    # PERFORM ORACLE TASK\n",
    "    result = oracle.perform_task(task)\n",
    "\n",
    "    # SUBMIT THE TASK RESULT\n",
    "    task_manager.write({\n",
    "        'func': 'complete',\n",
    "        'params': [task, result]\n",
    "    })\n",
    "\n",
    "    # SHOW MSG\n",
    "    utils.log('TASK COMPLETED')"
   ]
  },
  {
   "cell_type": "code",
   "execution_count": 22,
   "metadata": {},
   "outputs": [],
   "source": [
    "def process_message(event):\n",
    "\n",
    "    # SERIALIZE EVENT PARAMS\n",
    "    author = blockchain.toHex(event['sig'])\n",
    "    payload = blockchain.toText(event['payload'])\n",
    "\n",
    "    # DECODE THE PAYLOAD\n",
    "    data = decode(payload)\n",
    "    \n",
    "    # REQUIRED KEYS FOR VALID MESSAGE\n",
    "    required = ['type', 'discovery']\n",
    "\n",
    "    # DECODED KEYS\n",
    "    keys = list(data.keys())\n",
    "    \n",
    "    # THE REQUEST KEYWORD FOR THE PAYLOAD TYPE\n",
    "    keyword = 'request'\n",
    "    \n",
    "    # IF THE KEYSETS MATCH & THE TYPE IS A REQUEST\n",
    "    if (required == keys and data['type'] == keyword):\n",
    "        \n",
    "        # CHECK MATCHES IN DISCOVERY PARAMS\n",
    "        discovery_result = compare_discovery(data['discovery'], discovery_config)\n",
    "        \n",
    "        # IF EVERYTHING MATCHED\n",
    "        if (discovery_result.count(False) == 0):\n",
    "            \n",
    "            # SHOW MSG\n",
    "            utils.log('DISCOVERY REQUEST DETECTED')\n",
    "            \n",
    "            # ENCODE A JSON RESPONSE\n",
    "            response = encode({\n",
    "                'type': 'response',\n",
    "                'source': payload,\n",
    "                'device': device.hash\n",
    "            })\n",
    "            \n",
    "            # SLEEP FOR 2 SECONDS\n",
    "            time.sleep(2)\n",
    "\n",
    "            # RESPOND TO REQUEST\n",
    "            shh.post({\n",
    "                'symKeyID': settings['whisper']['symkey'],\n",
    "                'payload': blockchain.toHex(text=response),\n",
    "                'topic': blockchain.toHex(text=settings['whisper']['topic']),\n",
    "                'sig': whisper_id,\n",
    "                'powTarget': 2.5,\n",
    "                'powTime': 2\n",
    "            })"
   ]
  },
  {
   "cell_type": "markdown",
   "metadata": {},
   "source": [
    "### CONTRACT EVENTS"
   ]
  },
  {
   "cell_type": "code",
   "execution_count": 23,
   "metadata": {},
   "outputs": [],
   "source": [
    "update_event = oracle.event('middleware')"
   ]
  },
  {
   "cell_type": "code",
   "execution_count": 24,
   "metadata": {},
   "outputs": [],
   "source": [
    "modification_event = oracle.event('modification')"
   ]
  },
  {
   "cell_type": "code",
   "execution_count": 25,
   "metadata": {},
   "outputs": [],
   "source": [
    "message_event = shh.newMessageFilter({\n",
    "    'topic': web3.toHex(text=settings['whisper']['topic']),\n",
    "    'symKeyID': settings['whisper']['symkey']\n",
    "})"
   ]
  },
  {
   "cell_type": "markdown",
   "metadata": {},
   "source": [
    "### EVENT LOOP"
   ]
  },
  {
   "cell_type": "code",
   "execution_count": 26,
   "metadata": {},
   "outputs": [
    {
     "name": "stdout",
     "output_type": "stream",
     "text": [
      "[LAUNCHER] AWAITING EVENTS...\n",
      "\n",
      "[LAUNCHER] THE PROCESS WAS MANUALLY KILLED!\n"
     ]
    }
   ],
   "source": [
    "try:\n",
    "    utils.log('AWAITING EVENTS...\\n')\n",
    "    \n",
    "    while(True):\n",
    "    \n",
    "        # FETCH THE GLOBAL PARAMS\n",
    "        #global backlog\n",
    "        #global active\n",
    "        #global discoverable\n",
    "\n",
    "        # VARIABLE MODIFICATION EVENT\n",
    "        for event in modification_event.get_new_entries():\n",
    "            update_details(event)\n",
    "\n",
    "        # UPDATE MIDDLEWARE EVENT\n",
    "        for event in update_event.get_new_entries():\n",
    "            update_middleware()\n",
    "\n",
    "        # IF THE DEVICE IS SET TO ACTIVE\n",
    "        if (active):\n",
    "\n",
    "            # PERFORM TASKS IN BACKLOG\n",
    "            for task in backlog:\n",
    "                perform_task(task)\n",
    "        \n",
    "        # IF THE DEVICE IS DISCOVERABLE\n",
    "        if (discoverable):\n",
    "            \n",
    "            # TRACK WHISPER REQUESTS\n",
    "            for event in shh.getMessages(message_event):\n",
    "                process_message(event)\n",
    "        \n",
    "# KILL PROCESS\n",
    "except:\n",
    "    utils.log('THE PROCESS WAS MANUALLY KILLED!')"
   ]
  },
  {
   "cell_type": "code",
   "execution_count": null,
   "metadata": {},
   "outputs": [],
   "source": []
  }
 ],
 "metadata": {
  "kernelspec": {
   "display_name": "Python 3",
   "language": "python",
   "name": "python3"
  },
  "language_info": {
   "codemirror_mode": {
    "name": "ipython",
    "version": 3
   },
   "file_extension": ".py",
   "mimetype": "text/x-python",
   "name": "python",
   "nbconvert_exporter": "python",
   "pygments_lexer": "ipython3",
   "version": "3.7.9"
  }
 },
 "nbformat": 4,
 "nbformat_minor": 2
}
