{
 "cells": [
  {
   "cell_type": "markdown",
   "metadata": {},
   "source": [
    "### IMPORTS"
   ]
  },
  {
   "cell_type": "code",
   "execution_count": 1,
   "metadata": {},
   "outputs": [],
   "source": [
    "import json\n",
    "import hashlib\n",
    "import pkg_resources.py2_warn"
   ]
  },
  {
   "cell_type": "code",
   "execution_count": 2,
   "metadata": {},
   "outputs": [],
   "source": [
    "from web3 import Web3"
   ]
  },
  {
   "cell_type": "code",
   "execution_count": 3,
   "metadata": {},
   "outputs": [],
   "source": [
    "import subprocess\n",
    "import sys\n",
    "import time"
   ]
  },
  {
   "cell_type": "markdown",
   "metadata": {},
   "source": [
    "### LOGGING OUTLINE"
   ]
  },
  {
   "cell_type": "code",
   "execution_count": 4,
   "metadata": {},
   "outputs": [],
   "source": [
    "def log(msg):\n",
    "    print('[LAUNCHER] ' + msg)"
   ]
  },
  {
   "cell_type": "markdown",
   "metadata": {},
   "source": [
    "### LOAD DATA FROM EXTERNAL FILES"
   ]
  },
  {
   "cell_type": "code",
   "execution_count": 5,
   "metadata": {},
   "outputs": [],
   "source": [
    "with open('config/settings.json') as json_file:\n",
    "    settings = json.load(json_file)"
   ]
  },
  {
   "cell_type": "code",
   "execution_count": 6,
   "metadata": {},
   "outputs": [],
   "source": [
    "with open('config/identifier.json') as json_file:\n",
    "    device_info = json.load(json_file)"
   ]
  },
  {
   "cell_type": "code",
   "execution_count": 7,
   "metadata": {},
   "outputs": [],
   "source": [
    "with open('config/latest.json') as json_file:\n",
    "    latest = json.load(json_file)"
   ]
  },
  {
   "cell_type": "code",
   "execution_count": 8,
   "metadata": {},
   "outputs": [
    {
     "name": "stdout",
     "output_type": "stream",
     "text": [
      "[LAUNCHER] FETCHED DATA FROM EXTERNAL FILES\n"
     ]
    }
   ],
   "source": [
    "log('FETCHED DATA FROM EXTERNAL FILES')"
   ]
  },
  {
   "cell_type": "markdown",
   "metadata": {},
   "source": [
    "### IPFS & BLOCKCHAIN GATEWAY CONNECTIONS"
   ]
  },
  {
   "cell_type": "code",
   "execution_count": 9,
   "metadata": {},
   "outputs": [],
   "source": [
    "class gateway:\n",
    "    def __init__(self, foo):\n",
    "        self.host = foo['host']\n",
    "        self.port = foo['port']"
   ]
  },
  {
   "cell_type": "code",
   "execution_count": 10,
   "metadata": {},
   "outputs": [],
   "source": [
    "blockchain = gateway(settings['gateways']['blockchain'])"
   ]
  },
  {
   "cell_type": "code",
   "execution_count": 11,
   "metadata": {},
   "outputs": [
    {
     "name": "stdout",
     "output_type": "stream",
     "text": [
      "[LAUNCHER] GATEWAY SET\n"
     ]
    }
   ],
   "source": [
    "log('GATEWAY SET')"
   ]
  },
  {
   "cell_type": "markdown",
   "metadata": {},
   "source": [
    "### BLOCKCHAIN PUBLIC/PRIVATE KEYS"
   ]
  },
  {
   "cell_type": "code",
   "execution_count": 12,
   "metadata": {},
   "outputs": [],
   "source": [
    "class keypair:\n",
    "    def __init__(self, foo):\n",
    "        self.public = foo['public']\n",
    "        self.private = foo['private']"
   ]
  },
  {
   "cell_type": "code",
   "execution_count": 13,
   "metadata": {},
   "outputs": [],
   "source": [
    "keys = keypair(settings['keys'])"
   ]
  },
  {
   "cell_type": "code",
   "execution_count": 14,
   "metadata": {},
   "outputs": [
    {
     "name": "stdout",
     "output_type": "stream",
     "text": [
      "[LAUNCHER] KEYPAIRS SET\n"
     ]
    }
   ],
   "source": [
    "log('KEYPAIRS SET')"
   ]
  },
  {
   "cell_type": "markdown",
   "metadata": {},
   "source": [
    "### HASH DEVICE JSON FOR IDENTIFIER"
   ]
  },
  {
   "cell_type": "code",
   "execution_count": 15,
   "metadata": {},
   "outputs": [],
   "source": [
    "def hash_id(data):\n",
    "    \n",
    "    # REMOVE WHITESPACES\n",
    "    to_string = json.dumps(data, sort_keys=False, indent=2)\n",
    "    \n",
    "    # ENCODE THE STRING WITH UTF8\n",
    "    encoded = to_string.encode(\"utf-8\")\n",
    "    \n",
    "    # HASH ENCODED DATA\n",
    "    hashed = hashlib.sha256(encoded).hexdigest()\n",
    "    \n",
    "    return hashed"
   ]
  },
  {
   "cell_type": "markdown",
   "metadata": {},
   "source": [
    "### DEVICE OUTLINE"
   ]
  },
  {
   "cell_type": "code",
   "execution_count": 16,
   "metadata": {},
   "outputs": [],
   "source": [
    "class create_device():\n",
    "    def __init__(self):\n",
    "        self.name = device_info['Name']\n",
    "        self.hash = hash_id(device_info)\n",
    "    \n",
    "    # LOCATE & SET DEVICE CONTRACT ADDRESS\n",
    "    def set_contract(self, _contract):\n",
    "        self.contract = _contract\n",
    "    \n",
    "    # REDIRECT TO SMART CONTRACT INTERFACE\n",
    "    def read(self, details):\n",
    "        return self.contract.read(details)\n",
    "    \n",
    "    # REDIRECT TO SMART CONTRACT INTERFACE\n",
    "    def write(self, details):\n",
    "        return self.contract.write(details)\n",
    "    \n",
    "    # REDIRECT TO SMART CONTRACT INTERFACE\n",
    "    def event(self, name):\n",
    "        return self.contract.event(name)"
   ]
  },
  {
   "cell_type": "code",
   "execution_count": 17,
   "metadata": {
    "scrolled": true
   },
   "outputs": [],
   "source": [
    "device = create_device()"
   ]
  },
  {
   "cell_type": "code",
   "execution_count": 18,
   "metadata": {},
   "outputs": [
    {
     "name": "stdout",
     "output_type": "stream",
     "text": [
      "[LAUNCHER] DEVICE ID HASHED\n"
     ]
    }
   ],
   "source": [
    "log('DEVICE ID HASHED')"
   ]
  },
  {
   "cell_type": "markdown",
   "metadata": {},
   "source": [
    "### CONNECT TO CHAIN VIA WEBSOCKET"
   ]
  },
  {
   "cell_type": "code",
   "execution_count": 19,
   "metadata": {},
   "outputs": [],
   "source": [
    "web3 = Web3(Web3.WebsocketProvider('ws://' + blockchain.host + ':' + blockchain.port))"
   ]
  },
  {
   "cell_type": "code",
   "execution_count": 20,
   "metadata": {},
   "outputs": [
    {
     "name": "stdout",
     "output_type": "stream",
     "text": [
      "[LAUNCHER] GATEWAY CONNECTION ESTABLISHED\n"
     ]
    }
   ],
   "source": [
    "if web3.isConnected():\n",
    "    log('GATEWAY CONNECTION ESTABLISHED')\n",
    "else:\n",
    "    log('COULD NOT CONNECT TO GATEWAY. SHUTTING DOWN.')\n",
    "    exit"
   ]
  },
  {
   "cell_type": "markdown",
   "metadata": {},
   "source": [
    "### CONSTRUCT SMART CONTRACT INTERFACE"
   ]
  },
  {
   "cell_type": "code",
   "execution_count": 21,
   "metadata": {},
   "outputs": [],
   "source": [
    "class contract:\n",
    "    \n",
    "    # ON LOAD..\n",
    "    def __init__(self, block):\n",
    "        \n",
    "        # CONSTRUCT USABLE CONTRACT\n",
    "        self.contract = web3.eth.contract(\n",
    "            address = block['address'],\n",
    "            abi = block['abi']\n",
    "        )\n",
    "        \n",
    "        # SET ADDRESS REFERENCE\n",
    "        self.address = block['address']\n",
    "    \n",
    "    # READ FROM CONTRACT\n",
    "    def read(self, details):\n",
    "        \n",
    "        # WITH PARAMS\n",
    "        if ('params' in details):\n",
    "            return self.contract.functions[details['func']](details['params']).call()\n",
    "        \n",
    "        # WITHOUT PARAMS\n",
    "        else:\n",
    "            return self.contract.functions[details]().call()\n",
    "    \n",
    "    # WRITE TO CONTRACT\n",
    "    def write(self, details):\n",
    "        try:\n",
    "            \n",
    "            # CREATE BASE TRANSACTION\n",
    "            tx = {\n",
    "                'from': keys.public,\n",
    "                'to': self.contract.address,\n",
    "                'data': self.contract.encodeABI(\n",
    "                    fn_name = details['func'],\n",
    "                    args = details['params']\n",
    "                )\n",
    "            }\n",
    "            \n",
    "            # ESTIMATE GAS VALUE & STITCH IN REMAINING PROPS\n",
    "            tx['gas'] = web3.eth.estimateGas(tx)\n",
    "            tx['gasPrice'] = web3.toWei(20, 'gwei')\n",
    "            tx['nonce'] = web3.eth.getTransactionCount(keys.public)\n",
    "\n",
    "            # SIGN TRANSCTION WITH PRIVATE KEY\n",
    "            signed = web3.eth.account.sign_transaction(tx,\n",
    "                private_key = keys.private\n",
    "            )\n",
    "\n",
    "            # SEND THE TRANSACTION\n",
    "            web3.eth.sendRawTransaction(signed.rawTransaction)\n",
    "\n",
    "            # SUCCESS\n",
    "            return True\n",
    "        \n",
    "        # IF THE TRANSACTION IS REVERTED, SHOW ERROR\n",
    "        except ValueError as error:\n",
    "            return error\n",
    "    \n",
    "    # EVENT FILTER\n",
    "    def event(self, name):\n",
    "        return self.contract.events[name].createFilter(fromBlock=\"latest\")"
   ]
  },
  {
   "cell_type": "markdown",
   "metadata": {},
   "source": [
    "### STITCH TOGETHER MANAGER CONTRACTS"
   ]
  },
  {
   "cell_type": "code",
   "execution_count": 22,
   "metadata": {},
   "outputs": [],
   "source": [
    "device_manager = contract(latest['devicemanager'])"
   ]
  },
  {
   "cell_type": "code",
   "execution_count": 23,
   "metadata": {},
   "outputs": [],
   "source": [
    "task_manager = contract(latest['taskmanager'])"
   ]
  },
  {
   "cell_type": "code",
   "execution_count": 24,
   "metadata": {
    "scrolled": true
   },
   "outputs": [
    {
     "name": "stdout",
     "output_type": "stream",
     "text": [
      "[LAUNCHER] MANAGER CONTRACTS SERIALIZED\n"
     ]
    }
   ],
   "source": [
    "log('MANAGER CONTRACTS SERIALIZED')"
   ]
  },
  {
   "cell_type": "markdown",
   "metadata": {},
   "source": [
    "### CONTRUCT DEVICE CONTRACT INTERFACE"
   ]
  },
  {
   "cell_type": "code",
   "execution_count": 25,
   "metadata": {},
   "outputs": [],
   "source": [
    "temp_contract = contract({\n",
    "    'address': device_manager.read({\n",
    "        'func': 'fetch_device',\n",
    "        'params': device.hash\n",
    "    }),\n",
    "    'abi': latest['device']['abi']\n",
    "})"
   ]
  },
  {
   "cell_type": "code",
   "execution_count": 26,
   "metadata": {},
   "outputs": [],
   "source": [
    "device.set_contract(temp_contract)"
   ]
  },
  {
   "cell_type": "code",
   "execution_count": 27,
   "metadata": {
    "scrolled": true
   },
   "outputs": [
    {
     "name": "stdout",
     "output_type": "stream",
     "text": [
      "[LAUNCHER] DEVICE CONTRACT SERIALIZED\n"
     ]
    }
   ],
   "source": [
    "log('DEVICE CONTRACT SERIALIZED')"
   ]
  },
  {
   "cell_type": "markdown",
   "metadata": {},
   "source": [
    "### HELPER FUNCS"
   ]
  },
  {
   "cell_type": "code",
   "execution_count": 28,
   "metadata": {},
   "outputs": [],
   "source": [
    "def filter_backlog(data):\n",
    "    \n",
    "    # FILTER ZEROS\n",
    "    filtered = filter(lambda x: x != '0x0000000000000000000000000000000000000000', data)\n",
    "    \n",
    "    # CONVERT TO LIST & RETURN\n",
    "    return list(filtered)"
   ]
  },
  {
   "cell_type": "markdown",
   "metadata": {},
   "source": [
    "### TASK BACKLOG PARAM"
   ]
  },
  {
   "cell_type": "code",
   "execution_count": 29,
   "metadata": {},
   "outputs": [],
   "source": [
    "raw = device.read('details')[1]"
   ]
  },
  {
   "cell_type": "code",
   "execution_count": 30,
   "metadata": {},
   "outputs": [],
   "source": [
    "backlog = filter_backlog(raw)"
   ]
  },
  {
   "cell_type": "code",
   "execution_count": 31,
   "metadata": {},
   "outputs": [
    {
     "name": "stdout",
     "output_type": "stream",
     "text": [
      "[LAUNCHER] TASKS IN BACKLOG: 3\n"
     ]
    }
   ],
   "source": [
    "log('TASKS IN BACKLOG: ' + str(len(backlog)))"
   ]
  },
  {
   "cell_type": "markdown",
   "metadata": {},
   "source": [
    "### ACTIVE STATUS PARAM"
   ]
  },
  {
   "cell_type": "code",
   "execution_count": 32,
   "metadata": {},
   "outputs": [],
   "source": [
    "active = device.read('active')"
   ]
  },
  {
   "cell_type": "code",
   "execution_count": 33,
   "metadata": {},
   "outputs": [
    {
     "name": "stdout",
     "output_type": "stream",
     "text": [
      "[LAUNCHER] CURRENT ACTIVE STATUS: True\n"
     ]
    }
   ],
   "source": [
    "log('CURRENT ACTIVE STATUS: ' + str(active))"
   ]
  },
  {
   "cell_type": "markdown",
   "metadata": {},
   "source": [
    "### EVENT FUNCTIONS"
   ]
  },
  {
   "cell_type": "code",
   "execution_count": 42,
   "metadata": {},
   "outputs": [],
   "source": [
    "def update_details(event):\n",
    "    \n",
    "    # FETCH NEW & OLD ACTIVE STATUS\n",
    "    latest = event['args']['active']\n",
    "    global active\n",
    "\n",
    "    # IF THEY DONT MATCH\n",
    "    if (latest != active):\n",
    "        \n",
    "        # UPDATE ACTIVE STATUS\n",
    "        active = latest\n",
    "        \n",
    "        # SEND MSG\n",
    "        log('ACTIVE STATUS CHANGED TO: ' + str(latest))\n",
    "        \n",
    "    # UPDATE BACKLOG\n",
    "    raw_backlog = event['args']['backlog']\n",
    "    backlog = filter_backlog(raw_backlog)"
   ]
  },
  {
   "cell_type": "code",
   "execution_count": 35,
   "metadata": {},
   "outputs": [],
   "source": [
    "def update_middleware():\n",
    "    \n",
    "    # PRINT REACTION\n",
    "    log('MIDDLEWARE UPDATE TRIGGERED')\n",
    "\n",
    "    # TRIGGER UPDATE SCRIPT\n",
    "    # subprocess.call('./patcher')\n",
    "\n",
    "    # CLOSE LANCHER\n",
    "    # sys.exit(0)"
   ]
  },
  {
   "cell_type": "code",
   "execution_count": 36,
   "metadata": {},
   "outputs": [],
   "source": [
    "def perform_task(task):\n",
    "    \n",
    "    # SHOW MSG\n",
    "    log('STARTING TASK: ' + task)\n",
    "\n",
    "    # TASK RETURN PARAMS\n",
    "    ipfs = 'QmWATWQ7fVPP2EFGu71UkfnqhYXDYH566qy47CnJDgvs8u'\n",
    "    key = '0x4f7a87EE7A53ae8606e80FE96a47038DF8ab7956'\n",
    "\n",
    "    # SLEEP FOR 5 SECONDS\n",
    "    time.sleep(5)\n",
    "\n",
    "    # SUBMIT THE TASK RESULT\n",
    "    task_manager.write({\n",
    "        'func': 'complete',\n",
    "        'params': [task, ipfs, key]\n",
    "    })\n",
    "\n",
    "    # SHOW MSG\n",
    "    log('TASK COMPLETED')"
   ]
  },
  {
   "cell_type": "markdown",
   "metadata": {},
   "source": [
    "### START LISTENING FOR EVENTS"
   ]
  },
  {
   "cell_type": "code",
   "execution_count": 37,
   "metadata": {},
   "outputs": [
    {
     "name": "stdout",
     "output_type": "stream",
     "text": [
      "[LAUNCHER] AWAITING EVENTS...\n",
      "\n"
     ]
    }
   ],
   "source": [
    "log('AWAITING EVENTS...\\n')"
   ]
  },
  {
   "cell_type": "markdown",
   "metadata": {},
   "source": [
    "### CONTRACT EVENTS"
   ]
  },
  {
   "cell_type": "code",
   "execution_count": 38,
   "metadata": {},
   "outputs": [],
   "source": [
    "update_event = device.event('middleware')"
   ]
  },
  {
   "cell_type": "code",
   "execution_count": 39,
   "metadata": {},
   "outputs": [],
   "source": [
    "changes_event = device.event('changes')"
   ]
  },
  {
   "cell_type": "code",
   "execution_count": 40,
   "metadata": {},
   "outputs": [],
   "source": [
    "assignment_event = device.event('assignment')"
   ]
  },
  {
   "cell_type": "markdown",
   "metadata": {},
   "source": [
    "### EVENT LOOP"
   ]
  },
  {
   "cell_type": "code",
   "execution_count": 41,
   "metadata": {
    "scrolled": true
   },
   "outputs": [
    {
     "name": "stdout",
     "output_type": "stream",
     "text": [
      "[LAUNCHER] STARTING TASK: 0x67a0f267E051A6acC77E3C1ea3c690147991a8ea\n",
      "[LAUNCHER] TASK COMPLETED\n",
      "[LAUNCHER] STARTING TASK: 0x40cB52a87042548b5237b0bDeC648826EB3D7f87\n",
      "[LAUNCHER] TASK COMPLETED\n",
      "[LAUNCHER] STARTING TASK: 0xba0A77FBD93e46a1a4A3F8ffC9fE13A776a14D5e\n",
      "[LAUNCHER] TASK COMPLETED\n",
      "AttributeDict({'args': AttributeDict({'owner': '0x4f7a87EE7A53ae8606e80FE96a47038DF8ab7956', 'backlog': ['0x0000000000000000000000000000000000000000', '0x0000000000000000000000000000000000000000', '0x0000000000000000000000000000000000000000', '0x0000000000000000000000000000000000000000', '0x0000000000000000000000000000000000000000', '0x0000000000000000000000000000000000000000', '0x40cB52a87042548b5237b0bDeC648826EB3D7f87', '0xba0A77FBD93e46a1a4A3F8ffC9fE13A776a14D5e'], 'completed': 6, 'tags': 'eyJmb28iOiJiYXIiLCJleXkiOiJsbWFvIn0=', 'active': True, 'discoverable': False}), 'event': 'changes', 'logIndex': 3, 'transactionIndex': 0, 'transactionHash': HexBytes('0xc706fd0ded3eaa849b2ed71f05dafdf7fb3db66f93f6718222e82951ce1e3f62'), 'address': '0x3Efb1d4d404D054cc5e7a75B95CA81cb86C86a79', 'blockHash': HexBytes('0x03cd3c2d421f60d699a675338ac4917f8e114d5b608dd13237fc0849e8cacb57'), 'blockNumber': 180})\n",
      "AttributeDict({'args': AttributeDict({'owner': '0x4f7a87EE7A53ae8606e80FE96a47038DF8ab7956', 'backlog': ['0x0000000000000000000000000000000000000000', '0x0000000000000000000000000000000000000000', '0x0000000000000000000000000000000000000000', '0x0000000000000000000000000000000000000000', '0x0000000000000000000000000000000000000000', '0x0000000000000000000000000000000000000000', '0x0000000000000000000000000000000000000000', '0xba0A77FBD93e46a1a4A3F8ffC9fE13A776a14D5e'], 'completed': 7, 'tags': 'eyJmb28iOiJiYXIiLCJleXkiOiJsbWFvIn0=', 'active': True, 'discoverable': False}), 'event': 'changes', 'logIndex': 3, 'transactionIndex': 0, 'transactionHash': HexBytes('0x04c49dc222f8d006b5eff6a64f93a73f543bf630f212a0177351b9254a5fb8d9'), 'address': '0x3Efb1d4d404D054cc5e7a75B95CA81cb86C86a79', 'blockHash': HexBytes('0xe9abedfcbe0481577a441f8bc425bcd6bcd20ce3f82b9f6b93777b2d085410c7'), 'blockNumber': 181})\n",
      "AttributeDict({'args': AttributeDict({'owner': '0x4f7a87EE7A53ae8606e80FE96a47038DF8ab7956', 'backlog': ['0x0000000000000000000000000000000000000000', '0x0000000000000000000000000000000000000000', '0x0000000000000000000000000000000000000000', '0x0000000000000000000000000000000000000000', '0x0000000000000000000000000000000000000000', '0x0000000000000000000000000000000000000000', '0x0000000000000000000000000000000000000000', '0x0000000000000000000000000000000000000000'], 'completed': 8, 'tags': 'eyJmb28iOiJiYXIiLCJleXkiOiJsbWFvIn0=', 'active': True, 'discoverable': False}), 'event': 'changes', 'logIndex': 3, 'transactionIndex': 0, 'transactionHash': HexBytes('0x26749a683a703d0d825adc5ed4c357370bc4d318f4e39f69d1f6f306ec453ac3'), 'address': '0x3Efb1d4d404D054cc5e7a75B95CA81cb86C86a79', 'blockHash': HexBytes('0x6e4887f3aa41a2da8bd3713d89662741fef6dac6cd8acae2722b32368c988c34'), 'blockNumber': 182})\n",
      "[LAUNCHER] STARTING TASK: 0x67a0f267E051A6acC77E3C1ea3c690147991a8ea\n",
      "[LAUNCHER] TASK COMPLETED\n",
      "[LAUNCHER] STARTING TASK: 0x40cB52a87042548b5237b0bDeC648826EB3D7f87\n",
      "[LAUNCHER] TASK COMPLETED\n",
      "[LAUNCHER] STARTING TASK: 0xba0A77FBD93e46a1a4A3F8ffC9fE13A776a14D5e\n",
      "[LAUNCHER] TASK COMPLETED\n",
      "[LAUNCHER] STARTING TASK: 0x67a0f267E051A6acC77E3C1ea3c690147991a8ea\n",
      "[LAUNCHER] TASK COMPLETED\n",
      "[LAUNCHER] STARTING TASK: 0x40cB52a87042548b5237b0bDeC648826EB3D7f87\n",
      "[LAUNCHER] TASK COMPLETED\n",
      "[LAUNCHER] STARTING TASK: 0xba0A77FBD93e46a1a4A3F8ffC9fE13A776a14D5e\n",
      "[LAUNCHER] TASK COMPLETED\n",
      "[LAUNCHER] STARTING TASK: 0x67a0f267E051A6acC77E3C1ea3c690147991a8ea\n"
     ]
    },
    {
     "ename": "KeyboardInterrupt",
     "evalue": "",
     "output_type": "error",
     "traceback": [
      "\u001b[1;31m---------------------------------------------------------------------------\u001b[0m",
      "\u001b[1;31mKeyboardInterrupt\u001b[0m                         Traceback (most recent call last)",
      "\u001b[1;32m<ipython-input-41-50cd9f594364>\u001b[0m in \u001b[0;36m<module>\u001b[1;34m\u001b[0m\n\u001b[0;32m     11\u001b[0m     \u001b[1;31m# PERFORM TASK IN BACKLOG\u001b[0m\u001b[1;33m\u001b[0m\u001b[1;33m\u001b[0m\u001b[1;33m\u001b[0m\u001b[0m\n\u001b[0;32m     12\u001b[0m     \u001b[1;32mfor\u001b[0m \u001b[0mtask\u001b[0m \u001b[1;32min\u001b[0m \u001b[0mbacklog\u001b[0m\u001b[1;33m:\u001b[0m\u001b[1;33m\u001b[0m\u001b[1;33m\u001b[0m\u001b[0m\n\u001b[1;32m---> 13\u001b[1;33m         \u001b[0mperform_task\u001b[0m\u001b[1;33m(\u001b[0m\u001b[0mtask\u001b[0m\u001b[1;33m)\u001b[0m\u001b[1;33m\u001b[0m\u001b[1;33m\u001b[0m\u001b[0m\n\u001b[0m",
      "\u001b[1;32m<ipython-input-36-d06436703860>\u001b[0m in \u001b[0;36mperform_task\u001b[1;34m(task)\u001b[0m\n\u001b[0;32m      9\u001b[0m \u001b[1;33m\u001b[0m\u001b[0m\n\u001b[0;32m     10\u001b[0m     \u001b[1;31m# SLEEP FOR 5 SECONDS\u001b[0m\u001b[1;33m\u001b[0m\u001b[1;33m\u001b[0m\u001b[1;33m\u001b[0m\u001b[0m\n\u001b[1;32m---> 11\u001b[1;33m     \u001b[0mtime\u001b[0m\u001b[1;33m.\u001b[0m\u001b[0msleep\u001b[0m\u001b[1;33m(\u001b[0m\u001b[1;36m5\u001b[0m\u001b[1;33m)\u001b[0m\u001b[1;33m\u001b[0m\u001b[1;33m\u001b[0m\u001b[0m\n\u001b[0m\u001b[0;32m     12\u001b[0m \u001b[1;33m\u001b[0m\u001b[0m\n\u001b[0;32m     13\u001b[0m     \u001b[1;31m# SUBMIT THE TASK RESULT\u001b[0m\u001b[1;33m\u001b[0m\u001b[1;33m\u001b[0m\u001b[1;33m\u001b[0m\u001b[0m\n",
      "\u001b[1;31mKeyboardInterrupt\u001b[0m: "
     ]
    }
   ],
   "source": [
    "while(True):\n",
    "    \n",
    "    # ACTIVE STATUS EVENT\n",
    "    for event in changes_event.get_new_entries():\n",
    "        update_details(event)\n",
    "    \n",
    "    # UPDATE MIDDLEWARE EVENT\n",
    "    for event in update_event.get_new_entries():\n",
    "        update_middleware()\n",
    "        \n",
    "    # PERFORM TASK IN BACKLOG\n",
    "    for task in backlog:\n",
    "        perform_task(task)"
   ]
  },
  {
   "cell_type": "code",
   "execution_count": null,
   "metadata": {},
   "outputs": [],
   "source": []
  }
 ],
 "metadata": {
  "kernelspec": {
   "display_name": "Python 3",
   "language": "python",
   "name": "python3"
  },
  "language_info": {
   "codemirror_mode": {
    "name": "ipython",
    "version": 3
   },
   "file_extension": ".py",
   "mimetype": "text/x-python",
   "name": "python",
   "nbconvert_exporter": "python",
   "pygments_lexer": "ipython3",
   "version": "3.7.7"
  }
 },
 "nbformat": 4,
 "nbformat_minor": 2
}
