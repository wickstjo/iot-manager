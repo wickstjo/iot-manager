{
 "cells": [
  {
   "cell_type": "markdown",
   "metadata": {},
   "source": [
    "### IMPORTS"
   ]
  },
  {
   "cell_type": "code",
   "execution_count": 46,
   "metadata": {},
   "outputs": [],
   "source": [
    "import json\n",
    "import base64\n",
    "import hashlib\n",
    "from web3 import Web3"
   ]
  },
  {
   "cell_type": "markdown",
   "metadata": {},
   "source": [
    "### LOAD DATA FROM EXTERNAL FILES"
   ]
  },
  {
   "cell_type": "code",
   "execution_count": 2,
   "metadata": {},
   "outputs": [],
   "source": [
    "with open('settings.json') as json_file:\n",
    "    settings = json.load(json_file)"
   ]
  },
  {
   "cell_type": "code",
   "execution_count": 71,
   "metadata": {},
   "outputs": [],
   "source": [
    "with open('identifier.json') as json_file:\n",
    "    device = json.load(json_file)"
   ]
  },
  {
   "cell_type": "code",
   "execution_count": 3,
   "metadata": {},
   "outputs": [],
   "source": [
    "with open('latest.json') as json_file:\n",
    "    latest = json.load(json_file)"
   ]
  },
  {
   "cell_type": "markdown",
   "metadata": {},
   "source": [
    "### IPFS & BLOCKCHAIN GATEWAY CONNECTIONS"
   ]
  },
  {
   "cell_type": "code",
   "execution_count": 4,
   "metadata": {},
   "outputs": [],
   "source": [
    "class gateway:\n",
    "    def __init__(self, foo):\n",
    "        self.host = foo['host']\n",
    "        self.port = foo['port']"
   ]
  },
  {
   "cell_type": "code",
   "execution_count": 5,
   "metadata": {},
   "outputs": [],
   "source": [
    "blockchain = gateway(settings['gateways']['blockchain'])"
   ]
  },
  {
   "cell_type": "code",
   "execution_count": 6,
   "metadata": {},
   "outputs": [],
   "source": [
    "ipfs = gateway(settings['gateways']['ipfs'])"
   ]
  },
  {
   "cell_type": "markdown",
   "metadata": {},
   "source": [
    "### BLOCKCHAIN PUBLIC/PRIVATE KEYS"
   ]
  },
  {
   "cell_type": "code",
   "execution_count": 7,
   "metadata": {},
   "outputs": [],
   "source": [
    "class keypair:\n",
    "    def __init__(self, foo):\n",
    "        self.public = foo['public']\n",
    "        self.private = foo['private']"
   ]
  },
  {
   "cell_type": "code",
   "execution_count": 8,
   "metadata": {},
   "outputs": [],
   "source": [
    "keys = keypair(settings['keys'])"
   ]
  },
  {
   "cell_type": "markdown",
   "metadata": {},
   "source": [
    "### HASH DEVICE PARAMS FOR IDENTIFIER"
   ]
  },
  {
   "cell_type": "code",
   "execution_count": 74,
   "metadata": {},
   "outputs": [
    {
     "name": "stdout",
     "output_type": "stream",
     "text": [
      "{'Manufacturer': 'Beispiel GmbH', 'Name': 'Example-Device', 'SerialNumber': 'D1.0', 'Type': 'example device', 'ID': '2071c7736acd16f6cea3727d3b7ecde53f4c2e97b421f3550248e19d7309c636', 'Category': 'infrastructure', 'SecureBoot': False, 'Firmware': {'Version': '1.0', 'URL': 'https://192.168.102.94:10000/FirmwareInfo'}, 'ClientSoftware': {'Version': '', 'URL': ''}, 'Updates': {'AutomaticUpdates': False, 'EndOfLife': '2021-01-01T00:00:00'}, 'Cryptography': {'Software': {'IoTAGKey': True, 'KeyStore': True, 'Algorithms': ['RSASSA-PSS', 'SHA-256', 'TLS_AES_128_GCM_SHA256', 'TLS_AES_256_GCM_SHA384', 'TLS_CHACHA20_POLY1305_SHA256', 'aes128-ctr', 'aes192-ctr', 'aes256-ctr', 'ecdsa-sha2-nistp256', 'ecdsa-sha2-nistp384', 'ecdsa-sha2-nistp521', 'ssh-rsa', 'ssh-dss', 'ecdh-sha2-nistp256', 'ecdh-sha2-nistp384', 'ecdh-sha2-nistp521', 'diffie-hellman-group-exchange-sha256', 'hmac-sha2-256,hmac-sha2-512']}, 'Hardware': {'IoTAGKey': False, 'KeyStore': False, 'Algorithms': []}}, 'Connectivity': {'IEEE802_3': ['WPA2', 'b', 'g', 'n', 'ac'], 'Bluetooth': ['4.2'], 'ZigBee': []}, 'Services': [{'Name': 'IoTAG', 'Port': '27795/TCP', 'Protocol': 'HTTP/2', 'Software': 'IoTAG-Server'}, {'Name': 'SSH', 'Port': '22/TCP', 'Protocol': 'SSH-2', 'Software': 'OpenSSH-8.1'}]}\n"
     ]
    }
   ],
   "source": [
    "print(device)"
   ]
  },
  {
   "cell_type": "code",
   "execution_count": 75,
   "metadata": {},
   "outputs": [],
   "source": [
    "def encode(data):\n",
    "    \n",
    "    # CONVERT TO BYTES\n",
    "    to_bytes = str.encode(str(data))\n",
    "    \n",
    "    # HASH ENCODED DATA\n",
    "    hashed = hashlib.sha224(to_bytes).hexdigest()\n",
    "    \n",
    "    return hashed"
   ]
  },
  {
   "cell_type": "code",
   "execution_count": 76,
   "metadata": {},
   "outputs": [],
   "source": [
    "identifier = encode(device)"
   ]
  },
  {
   "cell_type": "code",
   "execution_count": 77,
   "metadata": {},
   "outputs": [
    {
     "data": {
      "text/plain": [
       "'d7fdb8228681c9999294d997a0f21f58820115d5c830db4efe0fc7e9'"
      ]
     },
     "execution_count": 77,
     "metadata": {},
     "output_type": "execute_result"
    }
   ],
   "source": [
    "identifier"
   ]
  },
  {
   "cell_type": "markdown",
   "metadata": {},
   "source": [
    "### CONNECT TO CHAIN VIA WEBSOCKET"
   ]
  },
  {
   "cell_type": "code",
   "execution_count": 9,
   "metadata": {},
   "outputs": [],
   "source": [
    "web3 = Web3(Web3.WebsocketProvider('ws://' + blockchain.host + ':' + blockchain.port))"
   ]
  },
  {
   "cell_type": "code",
   "execution_count": 40,
   "metadata": {},
   "outputs": [
    {
     "name": "stdout",
     "output_type": "stream",
     "text": [
      "Successfully connected to gateway via websocket!\n"
     ]
    }
   ],
   "source": [
    "if web3.isConnected():\n",
    "    print('Successfully connected to gateway via websocket!')"
   ]
  },
  {
   "cell_type": "markdown",
   "metadata": {},
   "source": [
    "### CONSTRUCT MANAGER CONTRACT"
   ]
  },
  {
   "cell_type": "code",
   "execution_count": 19,
   "metadata": {},
   "outputs": [],
   "source": [
    "class manager:\n",
    "    \n",
    "    # ON LOAD..\n",
    "    def __init__(self, block):\n",
    "        \n",
    "        # CONSTRUCT USABLE CONTRACT\n",
    "        self.contract = web3.eth.contract(\n",
    "            address = block['address'],\n",
    "            abi = block['abi']\n",
    "        )\n",
    "        \n",
    "        # SET ADDRESS REFERENCE\n",
    "        self.address = block['address']\n",
    "    \n",
    "    # READ FROM CONTRACT\n",
    "    def read(self, func):\n",
    "        return self.contract.functions[func]().call()\n",
    "    \n",
    "    # WRITE TO CONTRACT\n",
    "    def write(self, details):\n",
    "        try:\n",
    "            \n",
    "            # CREATE BASE TRANSACTION\n",
    "            tx = {\n",
    "                'from': keys.public,\n",
    "                'to': self.contract.address,\n",
    "                'data': self.contract.encodeABI(\n",
    "                    fn_name = details['func'],\n",
    "                    args = details['params']\n",
    "                )\n",
    "            }\n",
    "            \n",
    "            # ESTIMATE GAS VALUE & STITCH IN REMAINING PROPS\n",
    "            tx['gas'] = web3.eth.estimateGas(tx)\n",
    "            tx['gasPrice'] = web3.eth.generateGasPrice()\n",
    "            tx['nonce'] = web3.eth.getTransactionCount(keys.public)\n",
    "\n",
    "            # SIGN TRANSCTION WITH PRIVATE KEY\n",
    "            signed = web3.eth.account.sign_transaction(tx,\n",
    "                private_key = keys.private\n",
    "            )\n",
    "\n",
    "            # SEND THE TRANSACTION\n",
    "            web3.eth.sendRawTransaction(signed.rawTransaction)\n",
    "\n",
    "            # SUCCESS\n",
    "            return 'success'\n",
    "        \n",
    "        # IF THE TRANSACTION IS REVERTED, SHOW ERROR\n",
    "        except ValueError as error:\n",
    "            return error"
   ]
  },
  {
   "cell_type": "markdown",
   "metadata": {},
   "source": [
    "### CONTRACT REFERENCES"
   ]
  },
  {
   "cell_type": "code",
   "execution_count": 20,
   "metadata": {},
   "outputs": [],
   "source": [
    "user_manager = manager(latest['usermanager'])"
   ]
  },
  {
   "cell_type": "code",
   "execution_count": 21,
   "metadata": {},
   "outputs": [],
   "source": [
    "device_manager = manager(latest['devicemanager'])"
   ]
  },
  {
   "cell_type": "code",
   "execution_count": 22,
   "metadata": {},
   "outputs": [],
   "source": [
    "task_manager = manager(latest['taskmanager'])"
   ]
  },
  {
   "cell_type": "code",
   "execution_count": 23,
   "metadata": {},
   "outputs": [],
   "source": [
    "token_manager = manager(latest['tokenmanager'])"
   ]
  },
  {
   "cell_type": "markdown",
   "metadata": {},
   "source": [
    "### TESTING"
   ]
  },
  {
   "cell_type": "code",
   "execution_count": 27,
   "metadata": {
    "scrolled": true
   },
   "outputs": [],
   "source": [
    "# token_manager.read('price')"
   ]
  },
  {
   "cell_type": "code",
   "execution_count": 28,
   "metadata": {},
   "outputs": [],
   "source": [
    "#token_manager.write({\n",
    "#    'func': 'init',\n",
    "#    'params': [5, task_manager.address]\n",
    "#})"
   ]
  }
 ],
 "metadata": {
  "kernelspec": {
   "display_name": "Python 3",
   "language": "python",
   "name": "python3"
  },
  "language_info": {
   "codemirror_mode": {
    "name": "ipython",
    "version": 3
   },
   "file_extension": ".py",
   "mimetype": "text/x-python",
   "name": "python",
   "nbconvert_exporter": "python",
   "pygments_lexer": "ipython3",
   "version": "3.7.7"
  }
 },
 "nbformat": 4,
 "nbformat_minor": 2
}
