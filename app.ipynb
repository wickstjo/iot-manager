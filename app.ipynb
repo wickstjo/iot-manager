{
 "cells": [
  {
   "cell_type": "markdown",
   "metadata": {},
   "source": [
    "### IMPORTS"
   ]
  },
  {
   "cell_type": "code",
   "execution_count": 1,
   "metadata": {},
   "outputs": [],
   "source": [
    "import json\n",
    "from web3 import Web3"
   ]
  },
  {
   "cell_type": "markdown",
   "metadata": {},
   "source": [
    "### LOAD SETTINGS & LATEST ABI FILE"
   ]
  },
  {
   "cell_type": "code",
   "execution_count": 2,
   "metadata": {},
   "outputs": [],
   "source": [
    "with open('settings.json') as json_file:\n",
    "    settings = json.load(json_file)"
   ]
  },
  {
   "cell_type": "code",
   "execution_count": 3,
   "metadata": {},
   "outputs": [],
   "source": [
    "with open('latest.json') as json_file:\n",
    "    latest = json.load(json_file)"
   ]
  },
  {
   "cell_type": "markdown",
   "metadata": {},
   "source": [
    "### IPFS & BLOCKCHAIN GATEWAY CONNECTIONS"
   ]
  },
  {
   "cell_type": "code",
   "execution_count": 4,
   "metadata": {},
   "outputs": [],
   "source": [
    "class gateway:\n",
    "    def __init__(self, foo):\n",
    "        self.host = foo['host']\n",
    "        self.port = foo['port']"
   ]
  },
  {
   "cell_type": "code",
   "execution_count": 5,
   "metadata": {},
   "outputs": [],
   "source": [
    "blockchain = gateway(settings['gateways']['blockchain'])"
   ]
  },
  {
   "cell_type": "code",
   "execution_count": 6,
   "metadata": {},
   "outputs": [],
   "source": [
    "ipfs = gateway(settings['gateways']['ipfs'])"
   ]
  },
  {
   "cell_type": "markdown",
   "metadata": {},
   "source": [
    "### BLOCKCHAIN PUBLIC/PRIVATE KEYS"
   ]
  },
  {
   "cell_type": "code",
   "execution_count": 7,
   "metadata": {},
   "outputs": [],
   "source": [
    "class keypair:\n",
    "    def __init__(self, foo):\n",
    "        self.public = foo['public']\n",
    "        self.private = foo['private']"
   ]
  },
  {
   "cell_type": "code",
   "execution_count": 8,
   "metadata": {},
   "outputs": [],
   "source": [
    "keys = keypair(settings['keys'])"
   ]
  },
  {
   "cell_type": "markdown",
   "metadata": {},
   "source": [
    "### CONNECT TO CHAIN VIA WEBSOCKET"
   ]
  },
  {
   "cell_type": "code",
   "execution_count": 9,
   "metadata": {},
   "outputs": [],
   "source": [
    "web3 = Web3(Web3.WebsocketProvider('ws://' + blockchain.host + ':' + blockchain.port))"
   ]
  },
  {
   "cell_type": "code",
   "execution_count": 10,
   "metadata": {},
   "outputs": [
    {
     "data": {
      "text/plain": [
       "True"
      ]
     },
     "execution_count": 10,
     "metadata": {},
     "output_type": "execute_result"
    }
   ],
   "source": [
    "web3.isConnected()"
   ]
  },
  {
   "cell_type": "markdown",
   "metadata": {},
   "source": [
    "### CONSTRUCT USABLE CONTRACTS"
   ]
  },
  {
   "cell_type": "code",
   "execution_count": 177,
   "metadata": {},
   "outputs": [],
   "source": [
    "class manager:\n",
    "    \n",
    "    # ON LOAD..\n",
    "    def __init__(self, block):\n",
    "        \n",
    "        # STITCH CONTRACT TOGETHER\n",
    "        self.contract = web3.eth.contract(\n",
    "            address = block['address'],\n",
    "            abi = block['abi']\n",
    "        )\n",
    "        \n",
    "        # SET ADDRESS REFERENCE\n",
    "        self.address = block['address']\n",
    "    \n",
    "    # READ FROM CONTRACT\n",
    "    def read(self, func):\n",
    "        return self.contract.functions[func]().call()\n",
    "    \n",
    "    # WRITE TO CONTRACT\n",
    "    def write(self, details):\n",
    "        try:\n",
    "            \n",
    "            # CREATE TRANSACTION\n",
    "            tx = {\n",
    "                'from': keys.public,\n",
    "                'to': self.contract.address,\n",
    "                'data': self.contract.encodeABI(\n",
    "                    fn_name = details['func'],\n",
    "                    args = details['params']\n",
    "                ),\n",
    "                'gas': 2000000,\n",
    "                'gasPrice': web3.toWei('1', 'gwei'),\n",
    "                'nonce': web3.eth.getTransactionCount(keys.public)\n",
    "            }\n",
    "\n",
    "            # SIGN TRANSCTION WITH PRIVATE KEY\n",
    "            signed = web3.eth.account.sign_transaction(tx,\n",
    "                private_key = keys.private\n",
    "            )\n",
    "\n",
    "            # SEND THE TRANSACTION\n",
    "            web3.eth.sendRawTransaction(signed.rawTransaction)\n",
    "\n",
    "            # SUCCESS\n",
    "            return 'success'\n",
    "        \n",
    "        # IF THE TRANSACTION IS REVERTED, SHOW ERROR\n",
    "        except ValueError as error:\n",
    "            return error"
   ]
  },
  {
   "cell_type": "markdown",
   "metadata": {},
   "source": [
    "### CONTRACT REFERENCES"
   ]
  },
  {
   "cell_type": "code",
   "execution_count": 178,
   "metadata": {},
   "outputs": [],
   "source": [
    "user_manager = manager(latest['usermanager'])"
   ]
  },
  {
   "cell_type": "code",
   "execution_count": 179,
   "metadata": {},
   "outputs": [],
   "source": [
    "device_manager = manager(latest['devicemanager'])"
   ]
  },
  {
   "cell_type": "code",
   "execution_count": 180,
   "metadata": {},
   "outputs": [],
   "source": [
    "task_manager = manager(latest['taskmanager'])"
   ]
  },
  {
   "cell_type": "code",
   "execution_count": 181,
   "metadata": {},
   "outputs": [],
   "source": [
    "token_manager = manager(latest['tokenmanager'])"
   ]
  },
  {
   "cell_type": "markdown",
   "metadata": {},
   "source": [
    "### TESTING"
   ]
  },
  {
   "cell_type": "code",
   "execution_count": 182,
   "metadata": {
    "scrolled": true
   },
   "outputs": [
    {
     "data": {
      "text/plain": [
       "5"
      ]
     },
     "execution_count": 182,
     "metadata": {},
     "output_type": "execute_result"
    }
   ],
   "source": [
    "token_manager.read('price')"
   ]
  },
  {
   "cell_type": "code",
   "execution_count": 183,
   "metadata": {},
   "outputs": [
    {
     "data": {
      "text/plain": [
       "[]"
      ]
     },
     "execution_count": 183,
     "metadata": {},
     "output_type": "execute_result"
    }
   ],
   "source": [
    "user_manager.read('fetch_everyone')"
   ]
  },
  {
   "cell_type": "code",
   "execution_count": 185,
   "metadata": {},
   "outputs": [
    {
     "data": {
      "text/plain": [
       "ValueError({'message': 'VM Exception while processing transaction: revert contract has already been initialized',\n",
       "            'code': -32000,\n",
       "            'data': {'0x1e214e5de4aa1b4a54d93db5c70b7a7c2a4ba1a12f8164f91234670e8d79b0ea': {'error': 'revert',\n",
       "              'program_counter': 832,\n",
       "              'return': '0x08c379a000000000000000000000000000000000000000000000000000000000000000200000000000000000000000000000000000000000000000000000000000000025636f6e74726163742068617320616c7265616479206265656e20696e697469616c697a6564000000000000000000000000000000000000000000000000000000',\n",
       "              'reason': 'contract has already been initialized'},\n",
       "             'stack': 'o: VM Exception while processing transaction: revert contract has already been initialized\\n    at Function.o.fromResults (C:\\\\Users\\\\35840\\\\AppData\\\\Roaming\\\\npm\\\\node_modules\\\\ganache-cli\\\\build\\\\ganache-core.node.cli.js:10:89727)\\n    at C:\\\\Users\\\\35840\\\\AppData\\\\Roaming\\\\npm\\\\node_modules\\\\ganache-cli\\\\build\\\\ganache-core.node.cli.js:25:121953\\n    at C:\\\\Users\\\\35840\\\\AppData\\\\Roaming\\\\npm\\\\node_modules\\\\ganache-cli\\\\build\\\\ganache-core.node.cli.js:25:98498\\n    at p (C:\\\\Users\\\\35840\\\\AppData\\\\Roaming\\\\npm\\\\node_modules\\\\ganache-cli\\\\build\\\\ganache-core.node.cli.js:25:98156)\\n    at C:\\\\Users\\\\35840\\\\AppData\\\\Roaming\\\\npm\\\\node_modules\\\\ganache-cli\\\\build\\\\ganache-core.node.cli.js:25:98209\\n    at t.default (C:\\\\Users\\\\35840\\\\AppData\\\\Roaming\\\\npm\\\\node_modules\\\\ganache-cli\\\\build\\\\ganache-core.node.cli.js:37:544097)\\n    at C:\\\\Users\\\\35840\\\\AppData\\\\Roaming\\\\npm\\\\node_modules\\\\ganache-cli\\\\build\\\\ganache-core.node.cli.js:25:99122\\n    at t.n.emit (C:\\\\Users\\\\35840\\\\AppData\\\\Roaming\\\\npm\\\\node_modules\\\\ganache-cli\\\\build\\\\ganache-core.node.cli.js:61:16355)\\n    at C:\\\\Users\\\\35840\\\\AppData\\\\Roaming\\\\npm\\\\node_modules\\\\ganache-cli\\\\build\\\\ganache-core.node.cli.js:61:654328\\n    at C:\\\\Users\\\\35840\\\\AppData\\\\Roaming\\\\npm\\\\node_modules\\\\ganache-cli\\\\build\\\\ganache-core.node.cli.js:61:654351\\n    at C:\\\\Users\\\\35840\\\\AppData\\\\Roaming\\\\npm\\\\node_modules\\\\ganache-cli\\\\build\\\\ganache-core.node.cli.js:37:1093446\\n    at C:\\\\Users\\\\35840\\\\AppData\\\\Roaming\\\\npm\\\\node_modules\\\\ganache-cli\\\\build\\\\ganache-core.node.cli.js:2:19209\\n    at i (C:\\\\Users\\\\35840\\\\AppData\\\\Roaming\\\\npm\\\\node_modules\\\\ganache-cli\\\\build\\\\ganache-core.node.cli.js:2:34308)\\n    at C:\\\\Users\\\\35840\\\\AppData\\\\Roaming\\\\npm\\\\node_modules\\\\ganache-cli\\\\build\\\\ganache-core.node.cli.js:2:14717\\n    at process._tickCallback (internal/process/next_tick.js:61:11)',\n",
       "             'name': 'o'}})"
      ]
     },
     "execution_count": 185,
     "metadata": {},
     "output_type": "execute_result"
    }
   ],
   "source": [
    "token_manager.write({\n",
    "    'func': 'init',\n",
    "    'params': [5, task_manager.address]\n",
    "})"
   ]
  },
  {
   "cell_type": "code",
   "execution_count": null,
   "metadata": {},
   "outputs": [],
   "source": []
  }
 ],
 "metadata": {
  "kernelspec": {
   "display_name": "Python 3",
   "language": "python",
   "name": "python3"
  },
  "language_info": {
   "codemirror_mode": {
    "name": "ipython",
    "version": 3
   },
   "file_extension": ".py",
   "mimetype": "text/x-python",
   "name": "python",
   "nbconvert_exporter": "python",
   "pygments_lexer": "ipython3",
   "version": "3.7.7"
  }
 },
 "nbformat": 4,
 "nbformat_minor": 2
}
