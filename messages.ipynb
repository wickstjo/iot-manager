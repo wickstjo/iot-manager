{
 "cells": [
  {
   "cell_type": "markdown",
   "metadata": {},
   "source": [
    "### IMPORTS"
   ]
  },
  {
   "cell_type": "code",
   "execution_count": 1,
   "metadata": {},
   "outputs": [],
   "source": [
    "import json\n",
    "import time\n",
    "import hashlib\n",
    "import base64"
   ]
  },
  {
   "cell_type": "code",
   "execution_count": 2,
   "metadata": {},
   "outputs": [],
   "source": [
    "from web3 import Web3"
   ]
  },
  {
   "cell_type": "code",
   "execution_count": 3,
   "metadata": {},
   "outputs": [
    {
     "name": "stdout",
     "output_type": "stream",
     "text": [
      "[X] Booting up...\n"
     ]
    }
   ],
   "source": [
    "print('[X] Booting up...')"
   ]
  },
  {
   "cell_type": "markdown",
   "metadata": {},
   "source": [
    "### LOAD DATA FROM EXTERNAL FILES"
   ]
  },
  {
   "cell_type": "code",
   "execution_count": 4,
   "metadata": {},
   "outputs": [],
   "source": [
    "with open('config/settings.json') as json_file:\n",
    "    settings = json.load(json_file)"
   ]
  },
  {
   "cell_type": "code",
   "execution_count": 5,
   "metadata": {},
   "outputs": [],
   "source": [
    "with open('config/identifier.json') as json_file:\n",
    "    device_info = json.load(json_file)"
   ]
  },
  {
   "cell_type": "code",
   "execution_count": 6,
   "metadata": {},
   "outputs": [],
   "source": [
    "with open('config/latest.json') as json_file:\n",
    "    latest = json.load(json_file)"
   ]
  },
  {
   "cell_type": "markdown",
   "metadata": {},
   "source": [
    "### SERIALIZE DEVICE"
   ]
  },
  {
   "cell_type": "code",
   "execution_count": 7,
   "metadata": {},
   "outputs": [],
   "source": [
    "def hash_id(data):\n",
    "    \n",
    "    # REMOVE WHITESPACES\n",
    "    to_string = json.dumps(data, sort_keys=False, indent=2)\n",
    "    \n",
    "    # ENCODE THE STRING WITH UTF8\n",
    "    encoded = to_string.encode(\"utf-8\")\n",
    "    \n",
    "    # HASH ENCODED DATA\n",
    "    hashed = hashlib.sha256(encoded).hexdigest()\n",
    "    \n",
    "    return hashed"
   ]
  },
  {
   "cell_type": "code",
   "execution_count": 8,
   "metadata": {},
   "outputs": [],
   "source": [
    "class create_device():\n",
    "    def __init__(self):\n",
    "        self.name = device_info['Name']\n",
    "        self.hash = hash_id(device_info)\n",
    "    \n",
    "    # LOCATE & SET DEVICE CONTRACT ADDRESS\n",
    "    def set_contract(self, _contract):\n",
    "        self.contract = _contract\n",
    "    \n",
    "    # REDIRECT TO SMART CONTRACT INTERFACE\n",
    "    def read(self, details):\n",
    "        return self.contract.read(details)\n",
    "    \n",
    "    # REDIRECT TO SMART CONTRACT INTERFACE\n",
    "    def write(self, details):\n",
    "        return self.contract.write(details)\n",
    "    \n",
    "    # REDIRECT TO SMART CONTRACT INTERFACE\n",
    "    def event(self, name):\n",
    "        return self.contract.event(name)"
   ]
  },
  {
   "cell_type": "code",
   "execution_count": 9,
   "metadata": {},
   "outputs": [],
   "source": [
    "device = create_device()"
   ]
  },
  {
   "cell_type": "markdown",
   "metadata": {},
   "source": [
    "### CONNECT TO WHISPER"
   ]
  },
  {
   "cell_type": "code",
   "execution_count": 10,
   "metadata": {
    "scrolled": true
   },
   "outputs": [],
   "source": [
    "whisper = Web3(Web3.WebsocketProvider('ws://' + settings['gateways']['whisper']['host'] + ':' + str(settings['gateways']['whisper']['port'])))"
   ]
  },
  {
   "cell_type": "code",
   "execution_count": 11,
   "metadata": {},
   "outputs": [
    {
     "name": "stdout",
     "output_type": "stream",
     "text": [
      "[X] Connected with whisper gateway!\n"
     ]
    }
   ],
   "source": [
    "if whisper.isConnected():\n",
    "    print('[X] Connected with whisper gateway!')\n",
    "else:\n",
    "    print('[ ] Could not connect to whisper gateway!')\n",
    "    exit"
   ]
  },
  {
   "cell_type": "markdown",
   "metadata": {},
   "source": [
    "### CONNECT TO BLOCKCHAIN"
   ]
  },
  {
   "cell_type": "code",
   "execution_count": 12,
   "metadata": {},
   "outputs": [],
   "source": [
    "web3 = Web3(Web3.WebsocketProvider('ws://' + settings['gateways']['blockchain']['host'] + ':' + settings['gateways']['blockchain']['port']))"
   ]
  },
  {
   "cell_type": "markdown",
   "metadata": {},
   "source": [
    "### CREATE CONTRACT OUTLINE"
   ]
  },
  {
   "cell_type": "code",
   "execution_count": 13,
   "metadata": {},
   "outputs": [],
   "source": [
    "class contract:\n",
    "    \n",
    "    # ON LOAD..\n",
    "    def __init__(self, block):\n",
    "        \n",
    "        # CONSTRUCT USABLE CONTRACT\n",
    "        self.contract = web3.eth.contract(\n",
    "            address = block['address'],\n",
    "            abi = block['abi']\n",
    "        )\n",
    "        \n",
    "        # SET ADDRESS REFERENCE\n",
    "        self.address = block['address']\n",
    "    \n",
    "    # READ FROM CONTRACT\n",
    "    def read(self, details):\n",
    "        \n",
    "        # WITH PARAMS\n",
    "        if ('params' in details):\n",
    "            return self.contract.functions[details['func']](details['params']).call()\n",
    "        \n",
    "        # WITHOUT PARAMS\n",
    "        else:\n",
    "            return self.contract.functions[details]().call()\n",
    "    \n",
    "    # EVENT FILTER\n",
    "    def event(self, name):\n",
    "        return self.contract.events[name].createFilter(fromBlock=\"latest\")"
   ]
  },
  {
   "cell_type": "markdown",
   "metadata": {},
   "source": [
    "### SERIALIZE DEVICE MANAGER & DEVICE CONTRACT"
   ]
  },
  {
   "cell_type": "code",
   "execution_count": 14,
   "metadata": {},
   "outputs": [],
   "source": [
    "device_manager = contract(latest['devicemanager'])"
   ]
  },
  {
   "cell_type": "code",
   "execution_count": 15,
   "metadata": {},
   "outputs": [
    {
     "name": "stdout",
     "output_type": "stream",
     "text": [
      "[X] Device manager set!\n"
     ]
    }
   ],
   "source": [
    "print('[X] Device manager set!')"
   ]
  },
  {
   "cell_type": "code",
   "execution_count": 16,
   "metadata": {},
   "outputs": [],
   "source": [
    "temp_contract = contract({\n",
    "    'address': device_manager.read({\n",
    "        'func': 'fetch_device',\n",
    "        'params': device.hash\n",
    "    }),\n",
    "    'abi': latest['device']['abi']\n",
    "})"
   ]
  },
  {
   "cell_type": "code",
   "execution_count": 17,
   "metadata": {},
   "outputs": [],
   "source": [
    "device.set_contract(temp_contract)"
   ]
  },
  {
   "cell_type": "code",
   "execution_count": 18,
   "metadata": {},
   "outputs": [
    {
     "name": "stdout",
     "output_type": "stream",
     "text": [
      "[X] Device contract set!\n"
     ]
    }
   ],
   "source": [
    "print('[X] Device contract set!')"
   ]
  },
  {
   "cell_type": "markdown",
   "metadata": {},
   "source": [
    "### FETCH WHISPER API"
   ]
  },
  {
   "cell_type": "code",
   "execution_count": 19,
   "metadata": {},
   "outputs": [],
   "source": [
    "shh = whisper.geth.shh"
   ]
  },
  {
   "cell_type": "markdown",
   "metadata": {},
   "source": [
    "### GENERATE WHISPER KEYPAIR"
   ]
  },
  {
   "cell_type": "code",
   "execution_count": 20,
   "metadata": {},
   "outputs": [],
   "source": [
    "whisper_id = shh.newKeyPair()"
   ]
  },
  {
   "cell_type": "code",
   "execution_count": 21,
   "metadata": {},
   "outputs": [
    {
     "name": "stdout",
     "output_type": "stream",
     "text": [
      "[X] Generated keypair!\n"
     ]
    }
   ],
   "source": [
    "print('[X] Generated keypair!')"
   ]
  },
  {
   "cell_type": "markdown",
   "metadata": {},
   "source": [
    "### SUBSCRIBE TO UPDATE EVENTS"
   ]
  },
  {
   "cell_type": "code",
   "execution_count": 22,
   "metadata": {
    "scrolled": true
   },
   "outputs": [
    {
     "name": "stdout",
     "output_type": "stream",
     "text": [
      "[X] Listening for messages...\n",
      "\n"
     ]
    }
   ],
   "source": [
    "print('[X] Listening for messages...\\n')"
   ]
  },
  {
   "cell_type": "markdown",
   "metadata": {},
   "source": [
    "### WHISPER & SMART CONTRACT EVENTS"
   ]
  },
  {
   "cell_type": "code",
   "execution_count": 23,
   "metadata": {},
   "outputs": [],
   "source": [
    "message_event = shh.newMessageFilter({\n",
    "    'topic': web3.toHex(text=settings['whisper']['topic']['name']),\n",
    "    'symKeyID': settings['whisper']['topic']['key']\n",
    "})"
   ]
  },
  {
   "cell_type": "code",
   "execution_count": 24,
   "metadata": {},
   "outputs": [],
   "source": [
    "config_event = device.event('config')"
   ]
  },
  {
   "cell_type": "markdown",
   "metadata": {},
   "source": [
    "### MODIFY DISCOVERY CONFIG"
   ]
  },
  {
   "cell_type": "code",
   "execution_count": 25,
   "metadata": {},
   "outputs": [],
   "source": [
    "def parse_config(compressed):\n",
    "    \n",
    "    # EXPAND TO STRING\n",
    "    to_bytes = base64.b64decode(compressed)\n",
    "    \n",
    "    # PARSE AS JSON & RETURN\n",
    "    return json.loads(to_bytes)"
   ]
  },
  {
   "cell_type": "markdown",
   "metadata": {},
   "source": [
    "### FETCH CONFIG FROM SMART CONTRACT"
   ]
  },
  {
   "cell_type": "code",
   "execution_count": 26,
   "metadata": {},
   "outputs": [],
   "source": [
    "compressed = device.read('tags')"
   ]
  },
  {
   "cell_type": "code",
   "execution_count": 27,
   "metadata": {},
   "outputs": [],
   "source": [
    "discovery_config = parse_config(compressed)"
   ]
  },
  {
   "cell_type": "markdown",
   "metadata": {},
   "source": [
    "### CONTENT DISCOVERY PARSER"
   ]
  },
  {
   "cell_type": "code",
   "execution_count": 28,
   "metadata": {},
   "outputs": [],
   "source": [
    "def content_discovery(event):\n",
    "\n",
    "    # CONVERT MESSAGE PARAMS\n",
    "    author = web3.toHex(event['sig'])\n",
    "    nickname = author[0:4] + '...' + author[-4:]\n",
    "    message = web3.toText(event['payload'])\n",
    "\n",
    "    # CHECK THE FIRST WORD FOR TRIGGER\n",
    "    first = message.split(' ')[0].lower()\n",
    "\n",
    "    # IF A REQUEST IS FOUND\n",
    "    if (first == '!request'):\n",
    "\n",
    "        # SIGNAL REQUEST\n",
    "        print('New request found!')\n",
    "\n",
    "        # NUKE GARBAGE & SPLIT OUT INDIVIDUAL PARAMS\n",
    "        checks = message[8:].replace(' ', '').split('&')\n",
    "\n",
    "        # CHECK RESULTS\n",
    "        results = []\n",
    "\n",
    "        # LOOP THROUGH\n",
    "        for pair in checks:\n",
    "\n",
    "            # DECONSTRUCT KEY/VALUE\n",
    "            key, value = pair.split('=')\n",
    "\n",
    "            # MAKE SURE THE KEY EXISTS\n",
    "            if (key in discovery_config):\n",
    "\n",
    "                # CHECK & PUSH PARAM COMPARISON RESULT\n",
    "                result = discovery_config[key] == value\n",
    "                results.append(result)\n",
    "\n",
    "            # OTHERWISE, DEFAULT TO BAD RESULT\n",
    "            else:\n",
    "                results.append(False)\n",
    "\n",
    "        # IF ALL THE CHECKS MATCH\n",
    "        if (results.count(False) == 0):\n",
    "\n",
    "            # RESPONSE TEXT\n",
    "            response = '@' + nickname + ' - I am available at ' + device_id\n",
    "\n",
    "            # SLEEP FOR 2 SECONDS\n",
    "            time.sleep(2)\n",
    "\n",
    "            # RESPOND TO REQUEST\n",
    "            shh.post({\n",
    "                'symKeyID': settings['whisper']['topic']['key'],\n",
    "                'payload': web3.toHex(text=response),\n",
    "                'topic': web3.toHex(text=settings['whisper']['topic']['name']),\n",
    "                'sig': whisper_id,\n",
    "                'powTarget': 2.5,\n",
    "                'powTime': 2\n",
    "            })"
   ]
  },
  {
   "cell_type": "markdown",
   "metadata": {},
   "source": [
    "### SYSTEM LOOP"
   ]
  },
  {
   "cell_type": "code",
   "execution_count": null,
   "metadata": {},
   "outputs": [],
   "source": [
    "while(True):\n",
    "    \n",
    "    # CONFIG CHANGE EVENT\n",
    "    for event in config_event.get_new_entries():\n",
    "        \n",
    "        # PRINT MSG\n",
    "        print('Config update detected!')\n",
    "        \n",
    "        # DECONSTRUCT THE COMPRESSED STRING\n",
    "        compressed = event['args']['data']\n",
    "        \n",
    "        # DECODE & UPDATE THE CONFIG\n",
    "        discovery_config = parse_config(compressed)\n",
    "    \n",
    "    # ON WHISPER MESSAGE\n",
    "    for event in shh.getMessages(message_event):\n",
    "        \n",
    "        # PRINT MSG\n",
    "        print('Whisper event triggered!')\n",
    "        \n",
    "        # PARSE THE REQUEST\n",
    "        content_discovery(event)"
   ]
  },
  {
   "cell_type": "code",
   "execution_count": null,
   "metadata": {},
   "outputs": [],
   "source": []
  }
 ],
 "metadata": {
  "kernelspec": {
   "display_name": "Python 3",
   "language": "python",
   "name": "python3"
  },
  "language_info": {
   "codemirror_mode": {
    "name": "ipython",
    "version": 3
   },
   "file_extension": ".py",
   "mimetype": "text/x-python",
   "name": "python",
   "nbconvert_exporter": "python",
   "pygments_lexer": "ipython3",
   "version": "3.7.7"
  }
 },
 "nbformat": 4,
 "nbformat_minor": 2
}
