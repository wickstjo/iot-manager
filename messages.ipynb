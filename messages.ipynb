{
 "cells": [
  {
   "cell_type": "markdown",
   "metadata": {},
   "source": [
    "### IMPORTS"
   ]
  },
  {
   "cell_type": "code",
   "execution_count": 1,
   "metadata": {},
   "outputs": [],
   "source": [
    "import json\n",
    "import time\n",
    "import hashlib"
   ]
  },
  {
   "cell_type": "code",
   "execution_count": 2,
   "metadata": {},
   "outputs": [],
   "source": [
    "from web3 import Web3"
   ]
  },
  {
   "cell_type": "code",
   "execution_count": 3,
   "metadata": {},
   "outputs": [
    {
     "name": "stdout",
     "output_type": "stream",
     "text": [
      "[X] Booting up...\n"
     ]
    }
   ],
   "source": [
    "print('[X] Booting up...')"
   ]
  },
  {
   "cell_type": "markdown",
   "metadata": {},
   "source": [
    "### LOAD DATA FROM EXTERNAL FILES"
   ]
  },
  {
   "cell_type": "code",
   "execution_count": 4,
   "metadata": {},
   "outputs": [],
   "source": [
    "with open('config/settings.json') as json_file:\n",
    "    settings = json.load(json_file)"
   ]
  },
  {
   "cell_type": "code",
   "execution_count": 5,
   "metadata": {},
   "outputs": [],
   "source": [
    "with open('config/identifier.json') as json_file:\n",
    "    device_info = json.load(json_file)"
   ]
  },
  {
   "cell_type": "code",
   "execution_count": 6,
   "metadata": {},
   "outputs": [],
   "source": [
    "with open('config/external.json') as json_file:\n",
    "    external_info = json.load(json_file)"
   ]
  },
  {
   "cell_type": "markdown",
   "metadata": {},
   "source": [
    "### HASH DEVICE IDENTIFIER"
   ]
  },
  {
   "cell_type": "code",
   "execution_count": 7,
   "metadata": {},
   "outputs": [],
   "source": [
    "def hash_id(data):\n",
    "    \n",
    "    # CONVERT TO BYTES\n",
    "    to_bytes = str.encode(str(data))\n",
    "    \n",
    "    # HASH ENCODED DATA\n",
    "    hashed = hashlib.sha224(to_bytes).hexdigest()\n",
    "    \n",
    "    return hashed"
   ]
  },
  {
   "cell_type": "code",
   "execution_count": 8,
   "metadata": {},
   "outputs": [],
   "source": [
    "device_id = hash_id(device_info)"
   ]
  },
  {
   "cell_type": "markdown",
   "metadata": {},
   "source": [
    "### CONNECT TO CHAIN VIA WEBSOCKET"
   ]
  },
  {
   "cell_type": "code",
   "execution_count": 9,
   "metadata": {
    "scrolled": true
   },
   "outputs": [],
   "source": [
    "web3 = Web3(Web3.WebsocketProvider('ws://' + settings['gateways']['whisper']['host'] + ':' + str(settings['gateways']['whisper']['port'])))"
   ]
  },
  {
   "cell_type": "code",
   "execution_count": 10,
   "metadata": {},
   "outputs": [
    {
     "name": "stdout",
     "output_type": "stream",
     "text": [
      "[X] Connected with gateway!\n"
     ]
    }
   ],
   "source": [
    "if web3.isConnected():\n",
    "    print('[X] Connected with gateway!')\n",
    "else:\n",
    "    print('[ ] Could not connect to gateway!')\n",
    "    exit"
   ]
  },
  {
   "cell_type": "markdown",
   "metadata": {},
   "source": [
    "### FETCH WHISPER API"
   ]
  },
  {
   "cell_type": "code",
   "execution_count": 11,
   "metadata": {},
   "outputs": [],
   "source": [
    "shh = web3.geth.shh"
   ]
  },
  {
   "cell_type": "markdown",
   "metadata": {},
   "source": [
    "### GENERATE WHISPER KEYPAIR"
   ]
  },
  {
   "cell_type": "code",
   "execution_count": 12,
   "metadata": {},
   "outputs": [],
   "source": [
    "whisper_id = shh.newKeyPair()"
   ]
  },
  {
   "cell_type": "code",
   "execution_count": 13,
   "metadata": {},
   "outputs": [
    {
     "name": "stdout",
     "output_type": "stream",
     "text": [
      "[X] Generated keypair!\n"
     ]
    }
   ],
   "source": [
    "print('[X] Generated keypair!')"
   ]
  },
  {
   "cell_type": "markdown",
   "metadata": {},
   "source": [
    "### SUBSCRIBE TO UPDATE EVENTS"
   ]
  },
  {
   "cell_type": "code",
   "execution_count": 14,
   "metadata": {
    "scrolled": true
   },
   "outputs": [
    {
     "name": "stdout",
     "output_type": "stream",
     "text": [
      "[X] Listening for messages...\n",
      "\n"
     ]
    }
   ],
   "source": [
    "print('[X] Listening for messages...\\n')"
   ]
  },
  {
   "cell_type": "code",
   "execution_count": 15,
   "metadata": {},
   "outputs": [],
   "source": [
    "message_event = shh.newMessageFilter({\n",
    "    'topic': web3.toHex(text=settings['whisper']['topic']['name']),\n",
    "    'symKeyID': settings['whisper']['topic']['key']\n",
    "})"
   ]
  },
  {
   "cell_type": "code",
   "execution_count": null,
   "metadata": {},
   "outputs": [
    {
     "name": "stdout",
     "output_type": "stream",
     "text": [
      "New request found!\n"
     ]
    }
   ],
   "source": [
    "while(True):\n",
    "    for event in shh.getMessages(message_event):\n",
    "    \n",
    "        # CONVERT MESSAGE PARAMS\n",
    "        author = web3.toHex(event['sig'])\n",
    "        nickname = author[0:4] + '...' + author[-4:]\n",
    "        message = web3.toText(event['payload'])\n",
    "        \n",
    "        # CHECK THE FIRST WORD FOR TRIGGER\n",
    "        first = message.split(' ')[0].lower()\n",
    "        \n",
    "        # IF A REQUEST IS FOUND\n",
    "        if (first == '!request'):\n",
    "            \n",
    "            # SIGNAL REQUEST\n",
    "            print('New request found!')\n",
    "            \n",
    "            # NUKE GARBAGE & SPLIT OUT INDIVIDUAL PARAMS\n",
    "            checks = message[8:].replace(' ', '').split('&')\n",
    "            \n",
    "            # CHECK RESULTS\n",
    "            results = []\n",
    "            \n",
    "            # LOOP THROUGH\n",
    "            for pair in checks:\n",
    "    \n",
    "                # DECONSTRUCT KEY/VALUE\n",
    "                key, value = pair.split('=')\n",
    "            \n",
    "                # MAKE SURE THE KEY EXISTS\n",
    "                if (key in external_info):\n",
    "            \n",
    "                    # CHECK & PUSH PARAM COMPARISON RESULT\n",
    "                    result = external_info[key] == value\n",
    "                    results.append(result)\n",
    "                \n",
    "                # OTHERWISE, DEFAULT TO BAD RESULT\n",
    "                else:\n",
    "                    results.append(False)\n",
    "                \n",
    "            # IF ALL THE CHECKS MATCH\n",
    "            if (results.count(False) == 0):\n",
    "                \n",
    "                # RESPONSE TEXT\n",
    "                response = '@' + nickname + ' - I am available at ' + device_id\n",
    "                \n",
    "                # SLEEP FOR 2 SECONDS\n",
    "                time.sleep(2)\n",
    "                \n",
    "                # RESPOND TO REQUEST\n",
    "                shh.post({\n",
    "                    'symKeyID': settings['whisper']['topic']['key'],\n",
    "                    'payload': web3.toHex(text=response),\n",
    "                    'topic': web3.toHex(text=settings['whisper']['topic']['name']),\n",
    "                    'sig': whisper_id,\n",
    "                    'powTarget': 2.5,\n",
    "                    'powTime': 2\n",
    "                })"
   ]
  },
  {
   "cell_type": "code",
   "execution_count": null,
   "metadata": {},
   "outputs": [],
   "source": []
  }
 ],
 "metadata": {
  "kernelspec": {
   "display_name": "Python 3",
   "language": "python",
   "name": "python3"
  },
  "language_info": {
   "codemirror_mode": {
    "name": "ipython",
    "version": 3
   },
   "file_extension": ".py",
   "mimetype": "text/x-python",
   "name": "python",
   "nbconvert_exporter": "python",
   "pygments_lexer": "ipython3",
   "version": "3.7.7"
  }
 },
 "nbformat": 4,
 "nbformat_minor": 2
}
