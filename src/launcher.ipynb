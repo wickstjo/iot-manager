{
 "cells": [
  {
   "cell_type": "markdown",
   "metadata": {},
   "source": [
    "### IMPORTS"
   ]
  },
  {
   "cell_type": "code",
   "execution_count": 1,
   "metadata": {},
   "outputs": [],
   "source": [
    "import json\n",
    "import base64\n",
    "import hashlib\n",
    "import pkg_resources.py2_warn"
   ]
  },
  {
   "cell_type": "code",
   "execution_count": 2,
   "metadata": {},
   "outputs": [],
   "source": [
    "from web3 import Web3"
   ]
  },
  {
   "cell_type": "code",
   "execution_count": 3,
   "metadata": {},
   "outputs": [],
   "source": [
    "import subprocess\n",
    "import sys"
   ]
  },
  {
   "cell_type": "code",
   "execution_count": 4,
   "metadata": {},
   "outputs": [
    {
     "name": "stdout",
     "output_type": "stream",
     "text": [
      "[X] Booting up...\n"
     ]
    }
   ],
   "source": [
    "print('[X] Booting up...')"
   ]
  },
  {
   "cell_type": "markdown",
   "metadata": {},
   "source": [
    "### LOAD DATA FROM EXTERNAL FILES"
   ]
  },
  {
   "cell_type": "code",
   "execution_count": null,
   "metadata": {},
   "outputs": [],
   "source": [
    "with open('config/settings.json') as json_file:\n",
    "    settings = json.load(json_file)"
   ]
  },
  {
   "cell_type": "code",
   "execution_count": null,
   "metadata": {},
   "outputs": [],
   "source": [
    "with open('config/identifier.json') as json_file:\n",
    "    device_info = json.load(json_file)"
   ]
  },
  {
   "cell_type": "markdown",
   "metadata": {},
   "source": [
    "### PARSE LATEST BINARY INTERFACES"
   ]
  },
  {
   "cell_type": "code",
   "execution_count": 67,
   "metadata": {},
   "outputs": [],
   "source": [
    "temp_latest = '{\"user\":{\"abi\":[{\"inputs\":[{\"internalType\":\"address\",\"name\":\"_task_manager\",\"type\":\"address\"}],\"stateMutability\":\"nonpayable\",\"type\":\"constructor\"},{\"inputs\":[],\"name\":\"reputation\",\"outputs\":[{\"internalType\":\"uint256\",\"name\":\"\",\"type\":\"uint256\"}],\"stateMutability\":\"view\",\"type\":\"function\"},{\"inputs\":[{\"internalType\":\"uint256\",\"name\":\"\",\"type\":\"uint256\"}],\"name\":\"results\",\"outputs\":[{\"internalType\":\"address\",\"name\":\"\",\"type\":\"address\"}],\"stateMutability\":\"view\",\"type\":\"function\"},{\"inputs\":[{\"internalType\":\"address\",\"name\":\"task\",\"type\":\"address\"}],\"name\":\"add_result\",\"outputs\":[],\"stateMutability\":\"nonpayable\",\"type\":\"function\"},{\"inputs\":[{\"internalType\":\"uint256\",\"name\":\"amount\",\"type\":\"uint256\"}],\"name\":\"award\",\"outputs\":[],\"stateMutability\":\"nonpayable\",\"type\":\"function\"}]},\"device\":{\"abi\":[{\"inputs\":[{\"internalType\":\"address\",\"name\":\"_owner\",\"type\":\"address\"},{\"internalType\":\"string\",\"name\":\"_name\",\"type\":\"string\"},{\"internalType\":\"address\",\"name\":\"_task_manager\",\"type\":\"address\"}],\"stateMutability\":\"nonpayable\",\"type\":\"constructor\"},{\"anonymous\":false,\"inputs\":[{\"indexed\":false,\"internalType\":\"address[]\",\"name\":\"backlog\",\"type\":\"address[]\"}],\"name\":\"Assignment\",\"type\":\"event\"},{\"anonymous\":false,\"inputs\":[],\"name\":\"Update\",\"type\":\"event\"},{\"inputs\":[{\"internalType\":\"uint256\",\"name\":\"\",\"type\":\"uint256\"}],\"name\":\"backlog\",\"outputs\":[{\"internalType\":\"address\",\"name\":\"\",\"type\":\"address\"}],\"stateMutability\":\"view\",\"type\":\"function\"},{\"inputs\":[],\"name\":\"name\",\"outputs\":[{\"internalType\":\"string\",\"name\":\"\",\"type\":\"string\"}],\"stateMutability\":\"view\",\"type\":\"function\"},{\"inputs\":[],\"name\":\"owner\",\"outputs\":[{\"internalType\":\"address\",\"name\":\"\",\"type\":\"address\"}],\"stateMutability\":\"view\",\"type\":\"function\"},{\"inputs\":[],\"name\":\"update\",\"outputs\":[],\"stateMutability\":\"nonpayable\",\"type\":\"function\"},{\"inputs\":[{\"internalType\":\"address\",\"name\":\"_task\",\"type\":\"address\"}],\"name\":\"assign_task\",\"outputs\":[],\"stateMutability\":\"nonpayable\",\"type\":\"function\"},{\"inputs\":[{\"internalType\":\"address\",\"name\":\"target\",\"type\":\"address\"}],\"name\":\"clear_task\",\"outputs\":[],\"stateMutability\":\"nonpayable\",\"type\":\"function\"}]},\"task\":{\"abi\":[{\"inputs\":[{\"internalType\":\"address\",\"name\":\"_creator\",\"type\":\"address\"},{\"internalType\":\"uint256\",\"name\":\"_reputation\",\"type\":\"uint256\"},{\"internalType\":\"uint256\",\"name\":\"_reward\",\"type\":\"uint256\"},{\"internalType\":\"string\",\"name\":\"_encryption_key\",\"type\":\"string\"},{\"internalType\":\"uint256\",\"name\":\"timelimit\",\"type\":\"uint256\"}],\"stateMutability\":\"nonpayable\",\"type\":\"constructor\"},{\"inputs\":[],\"name\":\"creator\",\"outputs\":[{\"internalType\":\"address\",\"name\":\"\",\"type\":\"address\"}],\"stateMutability\":\"view\",\"type\":\"function\"},{\"inputs\":[],\"name\":\"deliverer\",\"outputs\":[{\"internalType\":\"address\",\"name\":\"\",\"type\":\"address\"}],\"stateMutability\":\"view\",\"type\":\"function\"},{\"inputs\":[],\"name\":\"device\",\"outputs\":[{\"internalType\":\"string\",\"name\":\"\",\"type\":\"string\"}],\"stateMutability\":\"view\",\"type\":\"function\"},{\"inputs\":[],\"name\":\"encryption_key\",\"outputs\":[{\"internalType\":\"string\",\"name\":\"\",\"type\":\"string\"}],\"stateMutability\":\"view\",\"type\":\"function\"},{\"inputs\":[],\"name\":\"expires\",\"outputs\":[{\"internalType\":\"uint256\",\"name\":\"\",\"type\":\"uint256\"}],\"stateMutability\":\"view\",\"type\":\"function\"},{\"inputs\":[],\"name\":\"locked\",\"outputs\":[{\"internalType\":\"bool\",\"name\":\"\",\"type\":\"bool\"}],\"stateMutability\":\"view\",\"type\":\"function\"},{\"inputs\":[],\"name\":\"reputation\",\"outputs\":[{\"internalType\":\"uint256\",\"name\":\"\",\"type\":\"uint256\"}],\"stateMutability\":\"view\",\"type\":\"function\"},{\"inputs\":[],\"name\":\"reward\",\"outputs\":[{\"internalType\":\"uint256\",\"name\":\"\",\"type\":\"uint256\"}],\"stateMutability\":\"view\",\"type\":\"function\"},{\"inputs\":[{\"internalType\":\"address\",\"name\":\"_deliverer\",\"type\":\"address\"},{\"internalType\":\"string\",\"name\":\"_device\",\"type\":\"string\"}],\"name\":\"assign\",\"outputs\":[],\"stateMutability\":\"nonpayable\",\"type\":\"function\"},{\"inputs\":[],\"name\":\"destroy\",\"outputs\":[],\"stateMutability\":\"nonpayable\",\"type\":\"function\"}]},\"usermanager\":{\"address\":\"0x369405aC34c357a413C2F15F0a408Cf5dF9FD6fB\",\"abi\":[{\"inputs\":[{\"internalType\":\"uint256\",\"name\":\"\",\"type\":\"uint256\"}],\"name\":\"everyone\",\"outputs\":[{\"internalType\":\"address\",\"name\":\"\",\"type\":\"address\"}],\"stateMutability\":\"view\",\"type\":\"function\",\"constant\":true},{\"inputs\":[{\"internalType\":\"address\",\"name\":\"\",\"type\":\"address\"}],\"name\":\"users\",\"outputs\":[{\"internalType\":\"contract User\",\"name\":\"\",\"type\":\"address\"}],\"stateMutability\":\"view\",\"type\":\"function\",\"constant\":true},{\"inputs\":[{\"internalType\":\"address\",\"name\":\"user\",\"type\":\"address\"}],\"name\":\"fetch\",\"outputs\":[{\"internalType\":\"contract User\",\"name\":\"\",\"type\":\"address\"}],\"stateMutability\":\"view\",\"type\":\"function\",\"constant\":true},{\"inputs\":[],\"name\":\"fetch_everyone\",\"outputs\":[{\"internalType\":\"address[]\",\"name\":\"\",\"type\":\"address[]\"}],\"stateMutability\":\"view\",\"type\":\"function\",\"constant\":true},{\"inputs\":[],\"name\":\"add\",\"outputs\":[],\"stateMutability\":\"nonpayable\",\"type\":\"function\"},{\"inputs\":[{\"internalType\":\"address\",\"name\":\"_task_manager\",\"type\":\"address\"}],\"name\":\"init\",\"outputs\":[],\"stateMutability\":\"nonpayable\",\"type\":\"function\"},{\"inputs\":[{\"internalType\":\"address\",\"name\":\"user\",\"type\":\"address\"}],\"name\":\"exists\",\"outputs\":[{\"internalType\":\"bool\",\"name\":\"\",\"type\":\"bool\"}],\"stateMutability\":\"view\",\"type\":\"function\",\"constant\":true}]},\"devicemanager\":{\"address\":\"0x16c06dA5F66aaD4a6CDf0F900AD03d69B7aF11ca\",\"abi\":[{\"inputs\":[{\"internalType\":\"string\",\"name\":\"id\",\"type\":\"string\"}],\"name\":\"fetch_device\",\"outputs\":[{\"internalType\":\"contract Device\",\"name\":\"\",\"type\":\"address\"}],\"stateMutability\":\"view\",\"type\":\"function\",\"constant\":true},{\"inputs\":[{\"internalType\":\"address\",\"name\":\"user\",\"type\":\"address\"}],\"name\":\"fetch_collection\",\"outputs\":[{\"internalType\":\"string[]\",\"name\":\"\",\"type\":\"string[]\"}],\"stateMutability\":\"view\",\"type\":\"function\",\"constant\":true},{\"inputs\":[{\"internalType\":\"string\",\"name\":\"id\",\"type\":\"string\"},{\"internalType\":\"string\",\"name\":\"name\",\"type\":\"string\"}],\"name\":\"add\",\"outputs\":[],\"stateMutability\":\"nonpayable\",\"type\":\"function\"},{\"inputs\":[{\"internalType\":\"address\",\"name\":\"_user_manager\",\"type\":\"address\"},{\"internalType\":\"address\",\"name\":\"_task_manager\",\"type\":\"address\"}],\"name\":\"init\",\"outputs\":[],\"stateMutability\":\"nonpayable\",\"type\":\"function\"},{\"inputs\":[{\"internalType\":\"string\",\"name\":\"id\",\"type\":\"string\"}],\"name\":\"exists\",\"outputs\":[{\"internalType\":\"bool\",\"name\":\"\",\"type\":\"bool\"}],\"stateMutability\":\"view\",\"type\":\"function\",\"constant\":true}]},\"tokenmanager\":{\"address\":\"0x1796F50a8Cd55d7213e493F592B1F5F1f8748309\",\"abi\":[{\"inputs\":[],\"name\":\"initialized\",\"outputs\":[{\"internalType\":\"bool\",\"name\":\"\",\"type\":\"bool\"}],\"stateMutability\":\"view\",\"type\":\"function\",\"constant\":true},{\"inputs\":[],\"name\":\"price\",\"outputs\":[{\"internalType\":\"uint256\",\"name\":\"\",\"type\":\"uint256\"}],\"stateMutability\":\"view\",\"type\":\"function\",\"constant\":true},{\"inputs\":[],\"name\":\"task_manager\",\"outputs\":[{\"internalType\":\"address\",\"name\":\"\",\"type\":\"address\"}],\"stateMutability\":\"view\",\"type\":\"function\",\"constant\":true},{\"inputs\":[{\"internalType\":\"address\",\"name\":\"\",\"type\":\"address\"}],\"name\":\"tokens\",\"outputs\":[{\"internalType\":\"uint256\",\"name\":\"\",\"type\":\"uint256\"}],\"stateMutability\":\"view\",\"type\":\"function\",\"constant\":true},{\"inputs\":[{\"internalType\":\"address\",\"name\":\"user\",\"type\":\"address\"}],\"name\":\"balance\",\"outputs\":[{\"internalType\":\"uint256\",\"name\":\"\",\"type\":\"uint256\"}],\"stateMutability\":\"view\",\"type\":\"function\",\"constant\":true},{\"inputs\":[{\"internalType\":\"uint256\",\"name\":\"amount\",\"type\":\"uint256\"}],\"name\":\"purchase\",\"outputs\":[],\"stateMutability\":\"payable\",\"type\":\"function\",\"payable\":true},{\"inputs\":[{\"internalType\":\"uint256\",\"name\":\"amount\",\"type\":\"uint256\"},{\"internalType\":\"address\",\"name\":\"user\",\"type\":\"address\"}],\"name\":\"consume\",\"outputs\":[],\"stateMutability\":\"nonpayable\",\"type\":\"function\"},{\"inputs\":[{\"internalType\":\"uint256\",\"name\":\"amount\",\"type\":\"uint256\"},{\"internalType\":\"address\",\"name\":\"from\",\"type\":\"address\"},{\"internalType\":\"address\",\"name\":\"to\",\"type\":\"address\"}],\"name\":\"transfer\",\"outputs\":[],\"stateMutability\":\"nonpayable\",\"type\":\"function\"},{\"inputs\":[{\"internalType\":\"uint256\",\"name\":\"_price\",\"type\":\"uint256\"},{\"internalType\":\"address\",\"name\":\"_task_manager\",\"type\":\"address\"}],\"name\":\"init\",\"outputs\":[],\"stateMutability\":\"nonpayable\",\"type\":\"function\"}]},\"taskmanager\":{\"address\":\"0x224E08C6fCecd4b3E37105Ed50aA858704Fc4F49\",\"abi\":[{\"inputs\":[],\"name\":\"device_manager\",\"outputs\":[{\"internalType\":\"contract DeviceManager\",\"name\":\"\",\"type\":\"address\"}],\"stateMutability\":\"view\",\"type\":\"function\",\"constant\":true},{\"inputs\":[],\"name\":\"fee\",\"outputs\":[{\"internalType\":\"uint256\",\"name\":\"\",\"type\":\"uint256\"}],\"stateMutability\":\"view\",\"type\":\"function\",\"constant\":true},{\"inputs\":[],\"name\":\"initialized\",\"outputs\":[{\"internalType\":\"bool\",\"name\":\"\",\"type\":\"bool\"}],\"stateMutability\":\"view\",\"type\":\"function\",\"constant\":true},{\"inputs\":[{\"internalType\":\"uint256\",\"name\":\"\",\"type\":\"uint256\"}],\"name\":\"open\",\"outputs\":[{\"internalType\":\"contract Task\",\"name\":\"\",\"type\":\"address\"}],\"stateMutability\":\"view\",\"type\":\"function\",\"constant\":true},{\"inputs\":[{\"internalType\":\"address\",\"name\":\"\",\"type\":\"address\"}],\"name\":\"results\",\"outputs\":[{\"internalType\":\"string\",\"name\":\"key\",\"type\":\"string\"},{\"internalType\":\"string\",\"name\":\"ipfs\",\"type\":\"string\"}],\"stateMutability\":\"view\",\"type\":\"function\",\"constant\":true},{\"inputs\":[{\"internalType\":\"address\",\"name\":\"\",\"type\":\"address\"}],\"name\":\"tasks\",\"outputs\":[{\"internalType\":\"contract Task\",\"name\":\"\",\"type\":\"address\"}],\"stateMutability\":\"view\",\"type\":\"function\",\"constant\":true},{\"inputs\":[],\"name\":\"token_manager\",\"outputs\":[{\"internalType\":\"contract TokenManager\",\"name\":\"\",\"type\":\"address\"}],\"stateMutability\":\"view\",\"type\":\"function\",\"constant\":true},{\"inputs\":[],\"name\":\"user_manager\",\"outputs\":[{\"internalType\":\"contract UserManager\",\"name\":\"\",\"type\":\"address\"}],\"stateMutability\":\"view\",\"type\":\"function\",\"constant\":true},{\"inputs\":[{\"internalType\":\"address\",\"name\":\"task\",\"type\":\"address\"}],\"name\":\"fetch_task\",\"outputs\":[{\"internalType\":\"contract Task\",\"name\":\"\",\"type\":\"address\"}],\"stateMutability\":\"view\",\"type\":\"function\",\"constant\":true},{\"inputs\":[{\"internalType\":\"address\",\"name\":\"task\",\"type\":\"address\"}],\"name\":\"fetch_result\",\"outputs\":[{\"components\":[{\"internalType\":\"string\",\"name\":\"key\",\"type\":\"string\"},{\"internalType\":\"string\",\"name\":\"ipfs\",\"type\":\"string\"}],\"internalType\":\"struct TaskManager.result\",\"name\":\"\",\"type\":\"tuple\"}],\"stateMutability\":\"view\",\"type\":\"function\",\"constant\":true},{\"inputs\":[],\"name\":\"fetch_open\",\"outputs\":[{\"internalType\":\"contract Task[]\",\"name\":\"\",\"type\":\"address[]\"}],\"stateMutability\":\"view\",\"type\":\"function\",\"constant\":true},{\"inputs\":[{\"internalType\":\"uint256\",\"name\":\"reputation\",\"type\":\"uint256\"},{\"internalType\":\"uint256\",\"name\":\"reward\",\"type\":\"uint256\"},{\"internalType\":\"string\",\"name\":\"encryption_key\",\"type\":\"string\"},{\"internalType\":\"uint256\",\"name\":\"timelimit\",\"type\":\"uint256\"}],\"name\":\"add\",\"outputs\":[],\"stateMutability\":\"nonpayable\",\"type\":\"function\"},{\"inputs\":[{\"internalType\":\"address\",\"name\":\"_task\",\"type\":\"address\"},{\"internalType\":\"string\",\"name\":\"_device\",\"type\":\"string\"}],\"name\":\"accept\",\"outputs\":[],\"stateMutability\":\"nonpayable\",\"type\":\"function\"},{\"inputs\":[{\"internalType\":\"address\",\"name\":\"_task\",\"type\":\"address\"},{\"internalType\":\"string\",\"name\":\"_key\",\"type\":\"string\"},{\"internalType\":\"string\",\"name\":\"_ipfs\",\"type\":\"string\"}],\"name\":\"complete\",\"outputs\":[],\"stateMutability\":\"nonpayable\",\"type\":\"function\"},{\"inputs\":[{\"internalType\":\"address\",\"name\":\"_task\",\"type\":\"address\"}],\"name\":\"release\",\"outputs\":[],\"stateMutability\":\"nonpayable\",\"type\":\"function\"},{\"inputs\":[{\"internalType\":\"uint256\",\"name\":\"_fee\",\"type\":\"uint256\"},{\"internalType\":\"address\",\"name\":\"_user_manager\",\"type\":\"address\"},{\"internalType\":\"address\",\"name\":\"_device_manager\",\"type\":\"address\"},{\"internalType\":\"address\",\"name\":\"_token_manager\",\"type\":\"address\"}],\"name\":\"init\",\"outputs\":[],\"stateMutability\":\"nonpayable\",\"type\":\"function\"},{\"inputs\":[{\"internalType\":\"address\",\"name\":\"_task\",\"type\":\"address\"}],\"name\":\"exists\",\"outputs\":[{\"internalType\":\"bool\",\"name\":\"\",\"type\":\"bool\"}],\"stateMutability\":\"view\",\"type\":\"function\",\"constant\":true}]}}'"
   ]
  },
  {
   "cell_type": "code",
   "execution_count": 68,
   "metadata": {},
   "outputs": [],
   "source": [
    "latest = json.loads(temp_latest)"
   ]
  },
  {
   "cell_type": "markdown",
   "metadata": {},
   "source": [
    "### IPFS & BLOCKCHAIN GATEWAY CONNECTIONS"
   ]
  },
  {
   "cell_type": "code",
   "execution_count": 8,
   "metadata": {},
   "outputs": [],
   "source": [
    "class gateway:\n",
    "    def __init__(self, foo):\n",
    "        self.host = foo['host']\n",
    "        self.port = foo['port']"
   ]
  },
  {
   "cell_type": "code",
   "execution_count": 9,
   "metadata": {},
   "outputs": [],
   "source": [
    "blockchain = gateway(settings['gateways']['blockchain'])"
   ]
  },
  {
   "cell_type": "code",
   "execution_count": 10,
   "metadata": {},
   "outputs": [],
   "source": [
    "ipfs = gateway(settings['gateways']['ipfs'])"
   ]
  },
  {
   "cell_type": "code",
   "execution_count": 11,
   "metadata": {},
   "outputs": [
    {
     "name": "stdout",
     "output_type": "stream",
     "text": [
      "[X] Gateways set!\n"
     ]
    }
   ],
   "source": [
    "print('[X] Gateways set!')"
   ]
  },
  {
   "cell_type": "markdown",
   "metadata": {},
   "source": [
    "### BLOCKCHAIN PUBLIC/PRIVATE KEYS"
   ]
  },
  {
   "cell_type": "code",
   "execution_count": 12,
   "metadata": {},
   "outputs": [],
   "source": [
    "class keypair:\n",
    "    def __init__(self, foo):\n",
    "        self.public = foo['public']\n",
    "        self.private = foo['private']"
   ]
  },
  {
   "cell_type": "code",
   "execution_count": 13,
   "metadata": {},
   "outputs": [],
   "source": [
    "keys = keypair(settings['keys'])"
   ]
  },
  {
   "cell_type": "code",
   "execution_count": 14,
   "metadata": {},
   "outputs": [
    {
     "name": "stdout",
     "output_type": "stream",
     "text": [
      "[X] Keys set!\n"
     ]
    }
   ],
   "source": [
    "print('[X] Keys set!')"
   ]
  },
  {
   "cell_type": "markdown",
   "metadata": {},
   "source": [
    "### HASH DEVICE INFO FOR IDENTIFIER"
   ]
  },
  {
   "cell_type": "code",
   "execution_count": 15,
   "metadata": {},
   "outputs": [],
   "source": [
    "def hash_id(data):\n",
    "    \n",
    "    # CONVERT TO BYTES\n",
    "    to_bytes = str.encode(str(data))\n",
    "    \n",
    "    # HASH ENCODED DATA\n",
    "    hashed = hashlib.sha224(to_bytes).hexdigest()\n",
    "    \n",
    "    return hashed"
   ]
  },
  {
   "cell_type": "code",
   "execution_count": 16,
   "metadata": {},
   "outputs": [],
   "source": [
    "class create_device():\n",
    "    def __init__(self):\n",
    "        self.name = device_info['Name']\n",
    "        self.hash = hash_id(device_info)\n",
    "    \n",
    "    # LOCATE & SET DEVICE CONTRACT ADDRESS\n",
    "    def set_contract(self, _contract):\n",
    "        self.contract = _contract\n",
    "    \n",
    "    # REDIRECT TO SMART CONTRACT INTERFACE\n",
    "    def read(self, details):\n",
    "        return self.contract.read(details)\n",
    "    \n",
    "    # REDIRECT TO SMART CONTRACT INTERFACE\n",
    "    def write(self, details):\n",
    "        return self.contract.write(details)\n",
    "    \n",
    "    # REDIRECT TO SMART CONTRACT INTERFACE\n",
    "    def event(self, name):\n",
    "        return self.contract.event(name)"
   ]
  },
  {
   "cell_type": "code",
   "execution_count": 17,
   "metadata": {},
   "outputs": [],
   "source": [
    "device = create_device()"
   ]
  },
  {
   "cell_type": "code",
   "execution_count": 18,
   "metadata": {},
   "outputs": [
    {
     "name": "stdout",
     "output_type": "stream",
     "text": [
      "[X] Device identifier hashed!\n"
     ]
    }
   ],
   "source": [
    "print('[X] Device identifier hashed!')"
   ]
  },
  {
   "cell_type": "markdown",
   "metadata": {},
   "source": [
    "### CONNECT TO CHAIN VIA WEBSOCKET"
   ]
  },
  {
   "cell_type": "code",
   "execution_count": 19,
   "metadata": {},
   "outputs": [],
   "source": [
    "web3 = Web3(Web3.WebsocketProvider('ws://' + blockchain.host + ':' + blockchain.port))"
   ]
  },
  {
   "cell_type": "code",
   "execution_count": 20,
   "metadata": {},
   "outputs": [
    {
     "name": "stdout",
     "output_type": "stream",
     "text": [
      "[X] Connected with gateway!\n"
     ]
    }
   ],
   "source": [
    "if web3.isConnected():\n",
    "    print('[X] Connected with gateway!')\n",
    "else:\n",
    "    print('[ ] Could not connect to gateway!')\n",
    "    exit"
   ]
  },
  {
   "cell_type": "markdown",
   "metadata": {},
   "source": [
    "### CONSTRUCT SMART CONTRACT INTERFACE"
   ]
  },
  {
   "cell_type": "code",
   "execution_count": 21,
   "metadata": {},
   "outputs": [],
   "source": [
    "class contract:\n",
    "    \n",
    "    # ON LOAD..\n",
    "    def __init__(self, block):\n",
    "        \n",
    "        # CONSTRUCT USABLE CONTRACT\n",
    "        self.contract = web3.eth.contract(\n",
    "            address = block['address'],\n",
    "            abi = block['abi']\n",
    "        )\n",
    "        \n",
    "        # SET ADDRESS REFERENCE\n",
    "        self.address = block['address']\n",
    "    \n",
    "    # READ FROM CONTRACT\n",
    "    def read(self, details):\n",
    "        \n",
    "        # WITH PARAMS\n",
    "        if ('params' in details):\n",
    "            return self.contract.functions[details['func']](details['params']).call()\n",
    "        \n",
    "        # WITHOUT PARAMS\n",
    "        else:\n",
    "            return self.contract.functions[details]().call()\n",
    "    \n",
    "    # WRITE TO CONTRACT\n",
    "    def write(self, details):\n",
    "        try:\n",
    "            \n",
    "            # CREATE BASE TRANSACTION\n",
    "            tx = {\n",
    "                'from': keys.public,\n",
    "                'to': self.contract.address,\n",
    "                'data': self.contract.encodeABI(\n",
    "                    fn_name = details['func'],\n",
    "                    args = details['params']\n",
    "                )\n",
    "            }\n",
    "            \n",
    "            # ESTIMATE GAS VALUE & STITCH IN REMAINING PROPS\n",
    "            tx['gas'] = web3.eth.estimateGas(tx)\n",
    "            tx['gasPrice'] = web3.toWei(20, 'gwei')\n",
    "            tx['nonce'] = web3.eth.getTransactionCount(keys.public)\n",
    "\n",
    "            # SIGN TRANSCTION WITH PRIVATE KEY\n",
    "            signed = web3.eth.account.sign_transaction(tx,\n",
    "                private_key = keys.private\n",
    "            )\n",
    "\n",
    "            # SEND THE TRANSACTION\n",
    "            web3.eth.sendRawTransaction(signed.rawTransaction)\n",
    "\n",
    "            # SUCCESS\n",
    "            return True\n",
    "        \n",
    "        # IF THE TRANSACTION IS REVERTED, SHOW ERROR\n",
    "        except ValueError as error:\n",
    "            return error\n",
    "    \n",
    "    # EVENT FILTER\n",
    "    def event(self, name):\n",
    "        return self.contract.events[name].createFilter(fromBlock=\"latest\")"
   ]
  },
  {
   "cell_type": "markdown",
   "metadata": {},
   "source": [
    "### CONTRACT REFERENCES"
   ]
  },
  {
   "cell_type": "code",
   "execution_count": 22,
   "metadata": {},
   "outputs": [],
   "source": [
    "user_manager = contract(latest['usermanager'])"
   ]
  },
  {
   "cell_type": "code",
   "execution_count": 23,
   "metadata": {},
   "outputs": [],
   "source": [
    "device_manager = contract(latest['devicemanager'])"
   ]
  },
  {
   "cell_type": "code",
   "execution_count": 24,
   "metadata": {},
   "outputs": [],
   "source": [
    "task_manager = contract(latest['taskmanager'])"
   ]
  },
  {
   "cell_type": "code",
   "execution_count": 25,
   "metadata": {},
   "outputs": [],
   "source": [
    "token_manager = contract(latest['tokenmanager'])"
   ]
  },
  {
   "cell_type": "code",
   "execution_count": 26,
   "metadata": {
    "scrolled": true
   },
   "outputs": [
    {
     "name": "stdout",
     "output_type": "stream",
     "text": [
      "[X] Manager contracts set!\n"
     ]
    }
   ],
   "source": [
    "print('[X] Manager contracts set!')"
   ]
  },
  {
   "cell_type": "markdown",
   "metadata": {},
   "source": [
    "### INIT MANAGER CONTRACTS"
   ]
  },
  {
   "cell_type": "code",
   "execution_count": 27,
   "metadata": {},
   "outputs": [],
   "source": [
    "def init_managers():\n",
    "    \n",
    "    # FLEXIBLE PARAMS\n",
    "    token_price = 5000\n",
    "    task_fee = 5\n",
    "    \n",
    "    # TOKEN MANAGER\n",
    "    token_manager.write({\n",
    "        'func': 'init',\n",
    "        'params': [\n",
    "            token_price,\n",
    "            task_manager.address\n",
    "        ]\n",
    "    })\n",
    "    \n",
    "    # TASK MANAGER\n",
    "    task_manager.write({\n",
    "        'func': 'init',\n",
    "        'params': [\n",
    "            task_fee,\n",
    "            user_manager.address,\n",
    "            device_manager.address,\n",
    "            token_manager.address\n",
    "        ]\n",
    "    })\n",
    "    \n",
    "    # USER MANAGER\n",
    "    user_manager.write({\n",
    "        'func': 'init',\n",
    "        'params': [task_manager.address]\n",
    "    })\n",
    "    \n",
    "    # DEVICE MANAGER\n",
    "    device_manager.write({\n",
    "        'func': 'init',\n",
    "        'params': [\n",
    "            user_manager.address,\n",
    "            task_manager.address\n",
    "        ]\n",
    "    })\n",
    "    \n",
    "    return True"
   ]
  },
  {
   "cell_type": "markdown",
   "metadata": {},
   "source": [
    "### PERFORM INITIALIZATION -- IF NECESSARY"
   ]
  },
  {
   "cell_type": "code",
   "execution_count": 28,
   "metadata": {},
   "outputs": [],
   "source": [
    "# CHECK STATUS\n",
    "initialized = token_manager.read('initialized')"
   ]
  },
  {
   "cell_type": "code",
   "execution_count": 29,
   "metadata": {},
   "outputs": [
    {
     "name": "stdout",
     "output_type": "stream",
     "text": [
      "[X] Manager contracts have already been initialized!\n"
     ]
    }
   ],
   "source": [
    "# INIT HAS BEEN PERFORMED\n",
    "if (initialized):\n",
    "    print('[X] Manager contracts have already been initialized!')\n",
    "    \n",
    "# INIT NOW\n",
    "else:\n",
    "    result = init_managers()\n",
    "    \n",
    "    if (result):\n",
    "        print('[X] Initializing manager contracts!')"
   ]
  },
  {
   "cell_type": "markdown",
   "metadata": {},
   "source": [
    "### REGISTER A USER -- IF NECESSARY"
   ]
  },
  {
   "cell_type": "code",
   "execution_count": 30,
   "metadata": {},
   "outputs": [],
   "source": [
    "def register_user():\n",
    "    \n",
    "    # REGISTER ETH WALLET\n",
    "    user_manager.write({\n",
    "        'func': 'add',\n",
    "        'params': []\n",
    "    })\n",
    "    \n",
    "    return True"
   ]
  },
  {
   "cell_type": "code",
   "execution_count": 31,
   "metadata": {},
   "outputs": [],
   "source": [
    "user_check = user_manager.read({\n",
    "    'func': 'fetch',\n",
    "    'params': keys.public\n",
    "})"
   ]
  },
  {
   "cell_type": "code",
   "execution_count": 32,
   "metadata": {},
   "outputs": [
    {
     "name": "stdout",
     "output_type": "stream",
     "text": [
      "[X] Your wallet is already registered!\n"
     ]
    }
   ],
   "source": [
    "# USER NOT FOUND\n",
    "if (user_check == '0x0000000000000000000000000000000000000000'):\n",
    "    \n",
    "    # REGISTER NOW\n",
    "    result = register_user()\n",
    "    \n",
    "    if (result):\n",
    "        print('[X] Registered your wallet!')\n",
    "    \n",
    "# USER FOUND\n",
    "else:\n",
    "    print('[X] Your wallet is already registered!')"
   ]
  },
  {
   "cell_type": "markdown",
   "metadata": {},
   "source": [
    "### REGISTER A DEVICE -- IF NECESSARY"
   ]
  },
  {
   "cell_type": "code",
   "execution_count": 33,
   "metadata": {},
   "outputs": [],
   "source": [
    "def register_device():\n",
    "    \n",
    "    # REGISTER ETH WALLET\n",
    "    device_manager.write({\n",
    "        'func': 'add',\n",
    "        'params': [device.hash, device.name]\n",
    "    })\n",
    "    \n",
    "    return True"
   ]
  },
  {
   "cell_type": "code",
   "execution_count": 34,
   "metadata": {},
   "outputs": [],
   "source": [
    "device_check = device_manager.read({\n",
    "    'func': 'fetch_device',\n",
    "    'params': device.hash\n",
    "})"
   ]
  },
  {
   "cell_type": "code",
   "execution_count": 35,
   "metadata": {},
   "outputs": [
    {
     "name": "stdout",
     "output_type": "stream",
     "text": [
      "[X] This device is already registered!\n"
     ]
    }
   ],
   "source": [
    "# USER NOT FOUND\n",
    "if (device_check == '0x0000000000000000000000000000000000000000'):\n",
    "    \n",
    "    # REGISTER NOW\n",
    "    result = register_device()\n",
    "    \n",
    "    if (result):\n",
    "        print('[X] Registered this device!')\n",
    "    \n",
    "# USER FOUND\n",
    "else:\n",
    "    print('[X] This device is already registered!')"
   ]
  },
  {
   "cell_type": "markdown",
   "metadata": {},
   "source": [
    "### CONTRUCT & SET DEVICE CONTRACT INTERFACE"
   ]
  },
  {
   "cell_type": "code",
   "execution_count": 36,
   "metadata": {},
   "outputs": [],
   "source": [
    "temp_contract = contract({\n",
    "    'address': device_manager.read({\n",
    "        'func': 'fetch_device',\n",
    "        'params': device.hash\n",
    "    }),\n",
    "    'abi': latest['device']['abi']\n",
    "})"
   ]
  },
  {
   "cell_type": "code",
   "execution_count": 37,
   "metadata": {},
   "outputs": [],
   "source": [
    "device.set_contract(temp_contract)"
   ]
  },
  {
   "cell_type": "code",
   "execution_count": 38,
   "metadata": {
    "scrolled": true
   },
   "outputs": [
    {
     "name": "stdout",
     "output_type": "stream",
     "text": [
      "[X] Device interface set!\n"
     ]
    }
   ],
   "source": [
    "print('[X] Device interface set!')"
   ]
  },
  {
   "cell_type": "markdown",
   "metadata": {},
   "source": [
    "### SUBSCRIBE TO UPDATE EVENTS"
   ]
  },
  {
   "cell_type": "code",
   "execution_count": 39,
   "metadata": {
    "scrolled": true
   },
   "outputs": [
    {
     "name": "stdout",
     "output_type": "stream",
     "text": [
      "[X] Listening for events...\n",
      "\n"
     ]
    }
   ],
   "source": [
    "print('[X] Listening for events...\\n')"
   ]
  },
  {
   "cell_type": "code",
   "execution_count": 40,
   "metadata": {},
   "outputs": [],
   "source": [
    "update_event = device.event('Update')"
   ]
  },
  {
   "cell_type": "code",
   "execution_count": null,
   "metadata": {},
   "outputs": [],
   "source": [
    "while(True):\n",
    "    for event in update_event.get_new_entries():\n",
    "    \n",
    "        # PRINT REACTION\n",
    "        print('[X] Update event triggered!')\n",
    "        \n",
    "        # TRIGGER UPDATE SCRIPT\n",
    "        subprocess.call('./patcher')\n",
    "              \n",
    "        # CLOSE LANCHER\n",
    "        sys.exit(0)"
   ]
  },
  {
   "cell_type": "markdown",
   "metadata": {},
   "source": [
    "### TRIGGER UPDATE EVENT"
   ]
  },
  {
   "cell_type": "markdown",
   "metadata": {},
   "source": [
    "device.write({\n",
    "    'func': 'update',\n",
    "    'params': []\n",
    "})"
   ]
  },
  {
   "cell_type": "code",
   "execution_count": null,
   "metadata": {},
   "outputs": [],
   "source": []
  }
 ],
 "metadata": {
  "kernelspec": {
   "display_name": "Python 3",
   "language": "python",
   "name": "python3"
  },
  "language_info": {
   "codemirror_mode": {
    "name": "ipython",
    "version": 3
   },
   "file_extension": ".py",
   "mimetype": "text/x-python",
   "name": "python",
   "nbconvert_exporter": "python",
   "pygments_lexer": "ipython3",
   "version": "3.7.7"
  }
 },
 "nbformat": 4,
 "nbformat_minor": 2
}
