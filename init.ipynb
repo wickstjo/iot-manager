{
 "cells": [
  {
   "cell_type": "markdown",
   "metadata": {},
   "source": [
    "### IMPORTS"
   ]
  },
  {
   "cell_type": "code",
   "execution_count": 1,
   "metadata": {},
   "outputs": [],
   "source": [
    "import ipynb.fs.full.utils as utils\n",
    "import ipynb.fs.full.blockchain as blockchain"
   ]
  },
  {
   "cell_type": "markdown",
   "metadata": {},
   "source": [
    "### MIDDLEWARE STARTS"
   ]
  },
  {
   "cell_type": "code",
   "execution_count": 2,
   "metadata": {},
   "outputs": [
    {
     "name": "stdout",
     "output_type": "stream",
     "text": [
      "BOOTING UP...\n"
     ]
    }
   ],
   "source": [
    "print('BOOTING UP...')"
   ]
  },
  {
   "cell_type": "markdown",
   "metadata": {},
   "source": [
    "### LOAD DATA FROM EXTERNAL FILES"
   ]
  },
  {
   "cell_type": "code",
   "execution_count": 3,
   "metadata": {},
   "outputs": [],
   "source": [
    "settings = utils.load_json('config/settings.json')"
   ]
  },
  {
   "cell_type": "code",
   "execution_count": 4,
   "metadata": {},
   "outputs": [],
   "source": [
    "latest = utils.load_json('config/latest.json')"
   ]
  },
  {
   "cell_type": "code",
   "execution_count": 5,
   "metadata": {},
   "outputs": [
    {
     "name": "stdout",
     "output_type": "stream",
     "text": [
      "READ EXTERNAL FILES!\n"
     ]
    }
   ],
   "source": [
    "print('READ EXTERNAL FILES!')"
   ]
  },
  {
   "cell_type": "markdown",
   "metadata": {},
   "source": [
    "### CONNECT TO BLOCKCHAIN VIA WEBSOCKET"
   ]
  },
  {
   "cell_type": "code",
   "execution_count": 6,
   "metadata": {},
   "outputs": [
    {
     "name": "stdout",
     "output_type": "stream",
     "text": [
      "CONNECTED WITH GATEWAY!\n"
     ]
    }
   ],
   "source": [
    "web3 = blockchain.connect(settings)"
   ]
  },
  {
   "cell_type": "markdown",
   "metadata": {},
   "source": [
    "### SERIALIZE MANAGER CONTRACTS"
   ]
  },
  {
   "cell_type": "code",
   "execution_count": 7,
   "metadata": {},
   "outputs": [],
   "source": [
    "user_manager = blockchain.contract(latest['usermanager'], web3, settings)"
   ]
  },
  {
   "cell_type": "code",
   "execution_count": 8,
   "metadata": {},
   "outputs": [],
   "source": [
    "oracle_manager = blockchain.contract(latest['oraclemanager'], web3, settings)"
   ]
  },
  {
   "cell_type": "code",
   "execution_count": 9,
   "metadata": {},
   "outputs": [],
   "source": [
    "task_manager = blockchain.contract(latest['taskmanager'], web3, settings)"
   ]
  },
  {
   "cell_type": "code",
   "execution_count": 10,
   "metadata": {},
   "outputs": [],
   "source": [
    "token_manager = blockchain.contract(latest['tokenmanager'], web3, settings)"
   ]
  },
  {
   "cell_type": "code",
   "execution_count": 11,
   "metadata": {
    "scrolled": true
   },
   "outputs": [
    {
     "name": "stdout",
     "output_type": "stream",
     "text": [
      "MANAGER CONTRACTS SERIALIZED!\n"
     ]
    }
   ],
   "source": [
    "print('MANAGER CONTRACTS SERIALIZED!')"
   ]
  },
  {
   "cell_type": "markdown",
   "metadata": {},
   "source": [
    "### INIT MANAGER CONTRACTS"
   ]
  },
  {
   "cell_type": "code",
   "execution_count": 12,
   "metadata": {},
   "outputs": [],
   "source": [
    "def init_managers():\n",
    "    \n",
    "    # TOKEN PARAMS\n",
    "    token_symbol = 'ArcaCoin'\n",
    "    token_price = 5000\n",
    "    token_capacity = 10000\n",
    "    \n",
    "    # TASK PARAMS\n",
    "    task_fee = 2\n",
    "    \n",
    "    # TOKEN MANAGER\n",
    "    token_manager.write({\n",
    "        'func': 'init',\n",
    "        'params': [\n",
    "            token_symbol,\n",
    "            token_price,\n",
    "            token_capacity,\n",
    "            task_manager.address\n",
    "        ]\n",
    "    })\n",
    "    \n",
    "    print('TOKEN MANAGER INITIALIZED')\n",
    "    \n",
    "    # TASK MANAGER\n",
    "    task_manager.write({\n",
    "        'func': 'init',\n",
    "        'params': [\n",
    "            task_fee,\n",
    "            user_manager.address,\n",
    "            oracle_manager.address,\n",
    "            token_manager.address\n",
    "        ]\n",
    "    })\n",
    "    \n",
    "    print('TASK MANAGER INITIALIZED')\n",
    "    \n",
    "    # USER MANAGER\n",
    "    user_manager.write({\n",
    "        'func': 'init',\n",
    "        'params': [task_manager.address]\n",
    "    })\n",
    "    \n",
    "    print('USER MANAGER INITIALIZED')\n",
    "    \n",
    "    # DEVICE MANAGER\n",
    "    oracle_manager.write({\n",
    "        'func': 'init',\n",
    "        'params': [\n",
    "            user_manager.address,\n",
    "            task_manager.address\n",
    "        ]\n",
    "    })\n",
    "    \n",
    "    print('ORACLE MANAGER INITIALIZED')\n",
    "    \n",
    "    return True"
   ]
  },
  {
   "cell_type": "markdown",
   "metadata": {},
   "source": [
    "### INITIALIZE MANAGERS IF NECESSARY"
   ]
  },
  {
   "cell_type": "code",
   "execution_count": 13,
   "metadata": {},
   "outputs": [],
   "source": [
    "def check():\n",
    "    \n",
    "    # CHECK STATUS\n",
    "    initialized = task_manager.read('initialized')\n",
    "    \n",
    "    # INIT HAS BEEN PERFORMED\n",
    "    if (initialized):\n",
    "        print('MANAGER CONTRACTS HAVE ALREADY BEEN INITIALIZED!')\n",
    "\n",
    "    # INIT NOW\n",
    "    else:\n",
    "        result = init_managers()\n",
    "\n",
    "        if (result):\n",
    "            print('\\n INITIALIZATION COMPLETED!')"
   ]
  },
  {
   "cell_type": "code",
   "execution_count": 14,
   "metadata": {
    "scrolled": false
   },
   "outputs": [
    {
     "name": "stdout",
     "output_type": "stream",
     "text": [
      "TOKEN MANAGER INITIALIZED\n",
      "TASK MANAGER INITIALIZED\n",
      "USER MANAGER INITIALIZED\n",
      "ORACLE MANAGER INITIALIZED\n",
      "\n",
      " INITIALIZATION COMPLETED!\n"
     ]
    }
   ],
   "source": [
    "check()"
   ]
  },
  {
   "cell_type": "markdown",
   "metadata": {},
   "source": [
    "### TEST -- REGISTER USER"
   ]
  },
  {
   "cell_type": "code",
   "execution_count": 17,
   "metadata": {},
   "outputs": [
    {
     "data": {
      "text/plain": [
       "web3.exceptions.SolidityError('execution reverted: wallet is already registered')"
      ]
     },
     "execution_count": 17,
     "metadata": {},
     "output_type": "execute_result"
    }
   ],
   "source": [
    "user_manager.write({\n",
    "    'func': 'create',\n",
    "    'params': []\n",
    "})"
   ]
  },
  {
   "cell_type": "markdown",
   "metadata": {},
   "source": [
    "### TEST -- REGISTER ORACLE"
   ]
  },
  {
   "cell_type": "code",
   "execution_count": 18,
   "metadata": {},
   "outputs": [
    {
     "data": {
      "text/plain": [
       "web3.exceptions.SolidityError('execution reverted: identifier already exists')"
      ]
     },
     "execution_count": 18,
     "metadata": {},
     "output_type": "execute_result"
    }
   ],
   "source": [
    "oracle_manager.write({\n",
    "    'func': 'create',\n",
    "    'params': [\n",
    "        '617bfd20d11c3676f57be55470e6457c3acd43224b8b735d73abfbcf32b9569b',\n",
    "        5\n",
    "    ]\n",
    "})"
   ]
  },
  {
   "cell_type": "code",
   "execution_count": null,
   "metadata": {},
   "outputs": [],
   "source": []
  }
 ],
 "metadata": {
  "kernelspec": {
   "display_name": "Python 3",
   "language": "python",
   "name": "python3"
  },
  "language_info": {
   "codemirror_mode": {
    "name": "ipython",
    "version": 3
   },
   "file_extension": ".py",
   "mimetype": "text/x-python",
   "name": "python",
   "nbconvert_exporter": "python",
   "pygments_lexer": "ipython3",
   "version": "3.7.9"
  }
 },
 "nbformat": 4,
 "nbformat_minor": 2
}
