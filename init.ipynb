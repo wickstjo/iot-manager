{
 "cells": [
  {
   "cell_type": "markdown",
   "metadata": {},
   "source": [
    "### IMPORTS"
   ]
  },
  {
   "cell_type": "code",
   "execution_count": 1,
   "metadata": {},
   "outputs": [],
   "source": [
    "import json\n",
    "import base64\n",
    "import hashlib\n",
    "import subprocess\n",
    "import sys\n",
    "import time\n",
    "import binascii"
   ]
  },
  {
   "cell_type": "code",
   "execution_count": 2,
   "metadata": {},
   "outputs": [],
   "source": [
    "from web3 import Web3"
   ]
  },
  {
   "cell_type": "markdown",
   "metadata": {},
   "source": [
    "### FIX FOR WINDOWS ENVIRONMENT"
   ]
  },
  {
   "cell_type": "code",
   "execution_count": 3,
   "metadata": {},
   "outputs": [],
   "source": [
    "#import pkg_resources.py2_warn"
   ]
  },
  {
   "cell_type": "markdown",
   "metadata": {},
   "source": [
    "### MIDDLEWARE STARTS"
   ]
  },
  {
   "cell_type": "code",
   "execution_count": 4,
   "metadata": {},
   "outputs": [
    {
     "name": "stdout",
     "output_type": "stream",
     "text": [
      "[X] Booting up...\n"
     ]
    }
   ],
   "source": [
    "print('[X] Booting up...')"
   ]
  },
  {
   "cell_type": "markdown",
   "metadata": {},
   "source": [
    "### LOAD DATA FROM EXTERNAL FILES"
   ]
  },
  {
   "cell_type": "code",
   "execution_count": 5,
   "metadata": {},
   "outputs": [],
   "source": [
    "with open('config/settings.json') as json_file:\n",
    "    settings = json.load(json_file)"
   ]
  },
  {
   "cell_type": "code",
   "execution_count": 6,
   "metadata": {},
   "outputs": [],
   "source": [
    "with open('config/latest.json') as json_file:\n",
    "    latest = json.load(json_file)"
   ]
  },
  {
   "cell_type": "code",
   "execution_count": 7,
   "metadata": {},
   "outputs": [
    {
     "name": "stdout",
     "output_type": "stream",
     "text": [
      "[X] Read external data!\n"
     ]
    }
   ],
   "source": [
    "print('[X] Read external data!')"
   ]
  },
  {
   "cell_type": "markdown",
   "metadata": {},
   "source": [
    "### EXTRACT PUBLIC/PRIVATE KEY FROM FILE"
   ]
  },
  {
   "cell_type": "code",
   "execution_count": 8,
   "metadata": {},
   "outputs": [],
   "source": [
    "def extract(path):\n",
    "    \n",
    "    # OPEN THE FILE\n",
    "    with open(path) as file:\n",
    "        encrypted_key = file.read()\n",
    "        \n",
    "        # DECRYPT & CONVERT FROM HEXBYTES\n",
    "        private_key = web3.eth.account.decrypt(encrypted_key, 'pass')\n",
    "        hexed = web3.toHex(private_key)\n",
    "        \n",
    "        # PARSE FILE AS JSON & EXTRACT THE ADDRESS\n",
    "        obj = json.loads(encrypted_key)\n",
    "        address = '0x' + obj['address']\n",
    "        \n",
    "        # GENERATE THE CHECKSUM VERSION\n",
    "        checksum = web3.toChecksumAddress(address)\n",
    "        \n",
    "        return {\n",
    "            'public': checksum,\n",
    "            'private': hexed\n",
    "        }"
   ]
  },
  {
   "cell_type": "markdown",
   "metadata": {},
   "source": [
    "### CONNECT TO BLOCKCHAIN VIA WEBSOCKET"
   ]
  },
  {
   "cell_type": "code",
   "execution_count": 9,
   "metadata": {},
   "outputs": [],
   "source": [
    "web3 = Web3(Web3.WebsocketProvider('ws://' + settings['gateway']['host'] + ':' + settings['gateway']['port']))"
   ]
  },
  {
   "cell_type": "code",
   "execution_count": 10,
   "metadata": {},
   "outputs": [
    {
     "name": "stdout",
     "output_type": "stream",
     "text": [
      "[X] Connected with gateway!\n"
     ]
    }
   ],
   "source": [
    "if web3.isConnected():\n",
    "    print('[X] Connected with gateway!')\n",
    "else:\n",
    "    print('[ ] Could not connect to gateway!')\n",
    "    exit"
   ]
  },
  {
   "cell_type": "markdown",
   "metadata": {},
   "source": [
    "### CONSTRUCT SMART CONTRACT INTERFACE"
   ]
  },
  {
   "cell_type": "code",
   "execution_count": 23,
   "metadata": {},
   "outputs": [],
   "source": [
    "class contract:\n",
    "    \n",
    "    # ON LOAD..\n",
    "    def __init__(self, block):\n",
    "        \n",
    "        # CONSTRUCT USABLE CONTRACT\n",
    "        self.contract = web3.eth.contract(\n",
    "            address = block['address'],\n",
    "            abi = block['abi']\n",
    "        )\n",
    "        \n",
    "        # SET ADDRESS REFERENCE\n",
    "        self.address = block['address']\n",
    "    \n",
    "    # READ FROM CONTRACT\n",
    "    def read(self, details):\n",
    "        \n",
    "        # WITH PARAMS\n",
    "        if ('params' in details):\n",
    "            return self.contract.functions[details['func']](details['params']).call()\n",
    "        \n",
    "        # WITHOUT PARAMS\n",
    "        else:\n",
    "            return self.contract.functions[details]().call()\n",
    "    \n",
    "    # WRITE TO CONTRACT\n",
    "    def write(self, details):\n",
    "        try:\n",
    "            \n",
    "            # CREATE BASE TRANSACTION\n",
    "            tx = {\n",
    "                'from': settings['keys']['public'],\n",
    "                'to': self.contract.address,\n",
    "                'data': self.contract.encodeABI(\n",
    "                    fn_name = details['func'],\n",
    "                    args = details['params']\n",
    "                )\n",
    "            }\n",
    "            \n",
    "            # ESTIMATE GAS VALUE & STITCH IN REMAINING PROPS\n",
    "            tx['gas'] = web3.eth.estimateGas(tx)\n",
    "            tx['gasPrice'] = web3.toWei(20, 'gwei')\n",
    "            tx['nonce'] = web3.eth.getTransactionCount(settings['keys']['public'])\n",
    "\n",
    "            # SIGN TRANSCTION WITH PRIVATE KEY\n",
    "            signed = web3.eth.account.sign_transaction(tx,\n",
    "                private_key = settings['keys']['private']\n",
    "            )\n",
    "\n",
    "            # SEND THE TRANSACTION\n",
    "            tx_hash = web3.eth.sendRawTransaction(signed.rawTransaction)\n",
    "\n",
    "            # WAIT FOR IT TO BE MINED\n",
    "            return web3.eth.waitForTransactionReceipt(tx_hash, 500)\n",
    "        \n",
    "        # IF THE TRANSACTION IS REVERTED, SHOW ERROR\n",
    "        except ValueError as error:\n",
    "            return error\n",
    "    \n",
    "    # EVENT FILTER\n",
    "    def event(self, name):\n",
    "        return self.contract.events[name].createFilter(fromBlock=\"latest\")"
   ]
  },
  {
   "cell_type": "markdown",
   "metadata": {},
   "source": [
    "### SERIALIZE NECESSARY MANAGER CONTRACTS"
   ]
  },
  {
   "cell_type": "code",
   "execution_count": 12,
   "metadata": {},
   "outputs": [],
   "source": [
    "user_manager = contract(latest['usermanager'])"
   ]
  },
  {
   "cell_type": "code",
   "execution_count": 13,
   "metadata": {},
   "outputs": [],
   "source": [
    "device_manager = contract(latest['devicemanager'])"
   ]
  },
  {
   "cell_type": "code",
   "execution_count": 14,
   "metadata": {},
   "outputs": [],
   "source": [
    "service_manager = contract(latest['servicemanager'])"
   ]
  },
  {
   "cell_type": "code",
   "execution_count": 15,
   "metadata": {},
   "outputs": [],
   "source": [
    "task_manager = contract(latest['taskmanager'])"
   ]
  },
  {
   "cell_type": "code",
   "execution_count": 16,
   "metadata": {},
   "outputs": [],
   "source": [
    "token_manager = contract(latest['tokenmanager'])"
   ]
  },
  {
   "cell_type": "code",
   "execution_count": 17,
   "metadata": {
    "scrolled": true
   },
   "outputs": [
    {
     "name": "stdout",
     "output_type": "stream",
     "text": [
      "[X] Manager contracts set!\n"
     ]
    }
   ],
   "source": [
    "print('[X] Manager contracts set!')"
   ]
  },
  {
   "cell_type": "markdown",
   "metadata": {},
   "source": [
    "### INIT MANAGER CONTRACTS"
   ]
  },
  {
   "cell_type": "code",
   "execution_count": 18,
   "metadata": {},
   "outputs": [],
   "source": [
    "def init_managers():\n",
    "    \n",
    "    # TOKEN PARAMS\n",
    "    token_symbol = 'ArcaCoin'\n",
    "    token_price = 5000\n",
    "    token_capacity = 10000\n",
    "    \n",
    "    # TASK PARAMS\n",
    "    task_fee = 2\n",
    "    \n",
    "    # TOKEN MANAGER\n",
    "    token_manager.write({\n",
    "        'func': 'init',\n",
    "        'params': [\n",
    "            token_symbol,\n",
    "            token_price,\n",
    "            token_capacity,\n",
    "            task_manager.address\n",
    "        ]\n",
    "    })\n",
    "    \n",
    "    # TASK MANAGER\n",
    "    task_manager.write({\n",
    "        'func': 'init',\n",
    "        'params': [\n",
    "            task_fee,\n",
    "            user_manager.address,\n",
    "            device_manager.address,\n",
    "            token_manager.address,\n",
    "            service_manager.address\n",
    "        ]\n",
    "    })\n",
    "    \n",
    "    # USER MANAGER\n",
    "    user_manager.write({\n",
    "        'func': 'init',\n",
    "        'params': [task_manager.address]\n",
    "    })\n",
    "    \n",
    "    # DEVICE MANAGER\n",
    "    device_manager.write({\n",
    "        'func': 'init',\n",
    "        'params': [\n",
    "            user_manager.address,\n",
    "            service_manager.address,\n",
    "            task_manager.address\n",
    "        ]\n",
    "    })\n",
    "    \n",
    "    return True"
   ]
  },
  {
   "cell_type": "markdown",
   "metadata": {},
   "source": [
    "### INITIALIZE MANAGERS IF NECESSARY"
   ]
  },
  {
   "cell_type": "code",
   "execution_count": 19,
   "metadata": {},
   "outputs": [],
   "source": [
    "def check():\n",
    "    \n",
    "    # CHECK STATUS\n",
    "    initialized = device_manager.read('initialized')\n",
    "    \n",
    "    # INIT HAS BEEN PERFORMED\n",
    "    if (initialized):\n",
    "        print('[X] Manager contracts have already been initialized!')\n",
    "\n",
    "    # INIT NOW\n",
    "    else:\n",
    "        result = init_managers()\n",
    "\n",
    "        if (result):\n",
    "            print('[X] Initializing manager contracts!')"
   ]
  },
  {
   "cell_type": "code",
   "execution_count": 20,
   "metadata": {},
   "outputs": [
    {
     "name": "stdout",
     "output_type": "stream",
     "text": [
      "[X] Manager contracts have already been initialized!\n"
     ]
    }
   ],
   "source": [
    "check()"
   ]
  },
  {
   "cell_type": "markdown",
   "metadata": {},
   "source": [
    "### CHECK AGAIN TO CONFIRM"
   ]
  },
  {
   "cell_type": "code",
   "execution_count": 21,
   "metadata": {},
   "outputs": [
    {
     "name": "stdout",
     "output_type": "stream",
     "text": [
      "[X] Manager contracts have already been initialized!\n"
     ]
    }
   ],
   "source": [
    "check()"
   ]
  },
  {
   "cell_type": "markdown",
   "metadata": {},
   "source": [
    "task_manager.write({\n",
    "    'func': 'add',\n",
    "    'params': [\n",
    "        'foobar',\n",
    "        'ea89158adbe59aa9c5e8147c50f2e5cccc3a0d565202d58abc57d5c8946b78e7',\n",
    "        1,\n",
    "        'dsfsdfdsfs',\n",
    "        5\n",
    "    ]\n",
    "})"
   ]
  },
  {
   "cell_type": "code",
   "execution_count": null,
   "metadata": {},
   "outputs": [],
   "source": []
  }
 ],
 "metadata": {
  "kernelspec": {
   "display_name": "Python 3",
   "language": "python",
   "name": "python3"
  },
  "language_info": {
   "codemirror_mode": {
    "name": "ipython",
    "version": 3
   },
   "file_extension": ".py",
   "mimetype": "text/x-python",
   "name": "python",
   "nbconvert_exporter": "python",
   "pygments_lexer": "ipython3",
   "version": "3.7.9"
  }
 },
 "nbformat": 4,
 "nbformat_minor": 2
}
