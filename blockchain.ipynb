{
 "cells": [
  {
   "cell_type": "code",
   "execution_count": 7,
   "metadata": {},
   "outputs": [],
   "source": [
    "import sys\n",
    "from web3 import Web3"
   ]
  },
  {
   "cell_type": "markdown",
   "metadata": {},
   "source": [
    "### CONNECT TO THE BLOCKCHAIN"
   ]
  },
  {
   "cell_type": "code",
   "execution_count": 9,
   "metadata": {},
   "outputs": [],
   "source": [
    "def connect(settings):\n",
    "    \n",
    "    # WEBSOCKET ADDRESS\n",
    "    address = 'ws://{}:{}'.format(settings['gateway']['host'], settings['gateway']['port'])\n",
    "    \n",
    "    # CREATE A WEB3 INSTANCE\n",
    "    instance = Web3(Web3.WebsocketProvider(address))\n",
    "    \n",
    "    # CHECK INSTANCE CONNECTION\n",
    "    if instance.isConnected():\n",
    "        return instance\n",
    "        \n",
    "    # IF IT FAILS, ABORT THE PROCESS\n",
    "    else:\n",
    "        print('COULD NOT CONNECT TO GATEWAY!')\n",
    "        sys.exit(0)"
   ]
  },
  {
   "cell_type": "markdown",
   "metadata": {},
   "source": [
    "### UNIFORM SMART CONTRACT"
   ]
  },
  {
   "cell_type": "code",
   "execution_count": 5,
   "metadata": {},
   "outputs": [],
   "source": [
    "class contract:\n",
    "    \n",
    "    # ON LOAD..\n",
    "    def __init__(self, block, web3, settings):\n",
    "        \n",
    "        # CONSTRUCT USABLE CONTRACT\n",
    "        self.contract = web3.eth.contract(\n",
    "            address = block['address'],\n",
    "            abi = block['abi']\n",
    "        )\n",
    "        \n",
    "        # SET ADDRESS REFERENCE & WEB3 INSTANCE\n",
    "        self.address = block['address']\n",
    "        self.web3 = web3\n",
    "        self.settings = settings\n",
    "    \n",
    "    # READ FROM CONTRACT\n",
    "    def read(self, details):\n",
    "        \n",
    "        # WITH PARAMS\n",
    "        if type(details) == dict:\n",
    "            return self.contract.functions[details['func']](details['params']).call()\n",
    "        \n",
    "        # WITHOUT PARAMS\n",
    "        elif type(details) == str:\n",
    "            return self.contract.functions[details]().call()\n",
    "    \n",
    "    # WRITE TO CONTRACT\n",
    "    def write(self, details):\n",
    "        try:\n",
    "            \n",
    "            # CREATE BASE TRANSACTION\n",
    "            tx = {\n",
    "                'from': self.settings['keys']['public'],\n",
    "                'to': self.contract.address,\n",
    "                'data': self.contract.encodeABI(\n",
    "                    fn_name = details['func'],\n",
    "                    args = details['params']\n",
    "                )\n",
    "            }\n",
    "            \n",
    "            # ESTIMATE GAS VALUE & STITCH IN REMAINING PROPS\n",
    "            tx['gas'] = self.web3.eth.estimateGas(tx)\n",
    "            tx['gasPrice'] = self.web3.toWei(20, 'gwei')\n",
    "            tx['nonce'] = self.web3.eth.getTransactionCount(self.settings['keys']['public'])\n",
    "\n",
    "            # SIGN TRANSCTION WITH PRIVATE KEY\n",
    "            signed = self.web3.eth.account.sign_transaction(tx,\n",
    "                private_key = self.settings['keys']['private']\n",
    "            )\n",
    "\n",
    "            # SEND THE TRANSACTION\n",
    "            tx_hash = self.web3.eth.sendRawTransaction(signed.rawTransaction)\n",
    "\n",
    "            # WAIT FOR IT TO BE MINED\n",
    "            return self.web3.eth.waitForTransactionReceipt(tx_hash, 500)\n",
    "        \n",
    "        # IF THE TRANSACTION IS REVERTED, SHOW ERROR\n",
    "        except ValueError as error:\n",
    "            return error\n",
    "    \n",
    "    # EVENT FILTER\n",
    "    def event(self, name):\n",
    "        return self.contract.events[name].createFilter(fromBlock='latest')"
   ]
  },
  {
   "cell_type": "code",
   "execution_count": null,
   "metadata": {},
   "outputs": [],
   "source": []
  }
 ],
 "metadata": {
  "kernelspec": {
   "display_name": "Python 3",
   "language": "python",
   "name": "python3"
  },
  "language_info": {
   "codemirror_mode": {
    "name": "ipython",
    "version": 3
   },
   "file_extension": ".py",
   "mimetype": "text/x-python",
   "name": "python",
   "nbconvert_exporter": "python",
   "pygments_lexer": "ipython3",
   "version": "3.8.5"
  }
 },
 "nbformat": 4,
 "nbformat_minor": 4
}
