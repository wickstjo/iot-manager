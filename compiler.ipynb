{
 "cells": [
  {
   "cell_type": "code",
   "execution_count": 1,
   "metadata": {},
   "outputs": [],
   "source": [
    "import os\n",
    "import shutil\n",
    "import nbimporter"
   ]
  },
  {
   "cell_type": "code",
   "execution_count": 2,
   "metadata": {},
   "outputs": [
    {
     "name": "stdout",
     "output_type": "stream",
     "text": [
      "Importing Jupyter notebook from utils.ipynb\n"
     ]
    }
   ],
   "source": [
    "import utils"
   ]
  },
  {
   "cell_type": "markdown",
   "metadata": {},
   "source": [
    "### DIRECTORY PREFIX"
   ]
  },
  {
   "cell_type": "code",
   "execution_count": 3,
   "metadata": {},
   "outputs": [],
   "source": [
    "prefix = 'release/'"
   ]
  },
  {
   "cell_type": "markdown",
   "metadata": {},
   "source": [
    "### CLEAR & CREATE DIRECTORY"
   ]
  },
  {
   "cell_type": "code",
   "execution_count": 4,
   "metadata": {},
   "outputs": [],
   "source": [
    "utils.create_dir(prefix)"
   ]
  },
  {
   "cell_type": "markdown",
   "metadata": {},
   "source": [
    "### CONVERT NOTEBOOKS TO SCRIPTS"
   ]
  },
  {
   "cell_type": "code",
   "execution_count": 5,
   "metadata": {},
   "outputs": [],
   "source": [
    "files = os.listdir()"
   ]
  },
  {
   "cell_type": "code",
   "execution_count": 6,
   "metadata": {
    "scrolled": false
   },
   "outputs": [
    {
     "name": "stdout",
     "output_type": "stream",
     "text": [
      "[NbConvertApp] Converting notebook utils.ipynb to script\n",
      "[NbConvertApp] Writing 4069 bytes to release/utils.py\n",
      "[NbConvertApp] Converting notebook compiler.ipynb to script\n",
      "[NbConvertApp] Writing 1703 bytes to release/compiler.py\n",
      "[NbConvertApp] Converting notebook patcher.ipynb to script\n",
      "[NbConvertApp] Writing 1026 bytes to release/patcher.py\n",
      "[NbConvertApp] Converting notebook device.ipynb to script\n",
      "[NbConvertApp] Writing 962 bytes to release/device.py\n",
      "[NbConvertApp] Converting notebook blockchain.ipynb to script\n",
      "[NbConvertApp] Writing 2797 bytes to release/blockchain.py\n",
      "[NbConvertApp] Converting notebook launcher.ipynb to script\n",
      "[NbConvertApp] Writing 6811 bytes to release/launcher.py\n",
      "[NbConvertApp] Converting notebook init.ipynb to script\n",
      "[NbConvertApp] Writing 1602 bytes to release/init.py\n",
      "[NbConvertApp] Converting notebook oracle.ipynb to script\n",
      "[NbConvertApp] Writing 119 bytes to release/oracle.py\n"
     ]
    }
   ],
   "source": [
    "# LOOP THROUGH FILES\n",
    "for file in files:\n",
    "    suffix = file[-5:]\n",
    "    \n",
    "    # IF THE FILE IS A NOTEBOOK, CONVERT\n",
    "    if suffix == 'ipynb':\n",
    "        !jupyter nbconvert --output-dir={ prefix } --to script { file }"
   ]
  },
  {
   "cell_type": "markdown",
   "metadata": {},
   "source": [
    "### COMPILE THE LAUNCHER & PATCHER"
   ]
  },
  {
   "cell_type": "code",
   "execution_count": 7,
   "metadata": {
    "scrolled": false
   },
   "outputs": [],
   "source": [
    "!pyinstaller --distpath={ prefix + 'dist' } --workpath={ prefix + 'build' } --specpath={ prefix } --log-level ERROR --onefile { prefix + 'launcher.py' }"
   ]
  },
  {
   "cell_type": "code",
   "execution_count": 8,
   "metadata": {
    "scrolled": true
   },
   "outputs": [],
   "source": [
    "!pyinstaller --distpath={ prefix + 'dist' } --workpath={ prefix + 'build' } --specpath={ prefix } --log-level ERROR --onefile { prefix + 'patcher.py' }"
   ]
  },
  {
   "cell_type": "markdown",
   "metadata": {},
   "source": [
    "### NUKE GARBAGE & EXTRACT THE COMPILED FILES"
   ]
  },
  {
   "cell_type": "code",
   "execution_count": 9,
   "metadata": {},
   "outputs": [],
   "source": [
    "!mv { prefix + 'dist/' } ."
   ]
  },
  {
   "cell_type": "code",
   "execution_count": 10,
   "metadata": {},
   "outputs": [],
   "source": [
    "!rm -rf { prefix }"
   ]
  },
  {
   "cell_type": "code",
   "execution_count": 11,
   "metadata": {},
   "outputs": [],
   "source": [
    "!mv dist/ { prefix }"
   ]
  },
  {
   "cell_type": "markdown",
   "metadata": {},
   "source": [
    "### CREATE CHECKSUM OBJECT"
   ]
  },
  {
   "cell_type": "code",
   "execution_count": 12,
   "metadata": {},
   "outputs": [],
   "source": [
    "checksums = {}"
   ]
  },
  {
   "cell_type": "code",
   "execution_count": 13,
   "metadata": {},
   "outputs": [],
   "source": [
    "files = ['launcher', 'patcher']"
   ]
  },
  {
   "cell_type": "code",
   "execution_count": 14,
   "metadata": {},
   "outputs": [],
   "source": [
    "for file in files:\n",
    "    \n",
    "    # GENERATE CHECKSUM FOR FILE & PUSH\n",
    "    checksums[file] = utils.generate_checksum(prefix + file)"
   ]
  },
  {
   "cell_type": "markdown",
   "metadata": {},
   "source": [
    "### SAVE CHECKSUM FILE"
   ]
  },
  {
   "cell_type": "code",
   "execution_count": 15,
   "metadata": {},
   "outputs": [],
   "source": [
    "utils.save_json(checksums, prefix + 'checksums.json')"
   ]
  },
  {
   "cell_type": "markdown",
   "metadata": {},
   "source": [
    "### CREATE ZIP ARCHIVE"
   ]
  },
  {
   "cell_type": "code",
   "execution_count": 16,
   "metadata": {},
   "outputs": [],
   "source": [
    "zip_files = [*files, 'checksums.json']"
   ]
  },
  {
   "cell_type": "code",
   "execution_count": 17,
   "metadata": {},
   "outputs": [],
   "source": [
    "utils.create_zip(zip_files, prefix, 'release.zip')"
   ]
  },
  {
   "cell_type": "code",
   "execution_count": null,
   "metadata": {},
   "outputs": [],
   "source": []
  }
 ],
 "metadata": {
  "kernelspec": {
   "display_name": "Python 3",
   "language": "python",
   "name": "python3"
  },
  "language_info": {
   "codemirror_mode": {
    "name": "ipython",
    "version": 3
   },
   "file_extension": ".py",
   "mimetype": "text/x-python",
   "name": "python",
   "nbconvert_exporter": "python",
   "pygments_lexer": "ipython3",
   "version": "3.8.5"
  }
 },
 "nbformat": 4,
 "nbformat_minor": 4
}
